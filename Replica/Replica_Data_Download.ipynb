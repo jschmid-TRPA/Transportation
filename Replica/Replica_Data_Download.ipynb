{
 "cells": [
  {
   "cell_type": "code",
   "execution_count": null,
   "metadata": {},
   "outputs": [],
   "source": [
    "import pandas as pd\n",
    "import pandas_gbq\n",
    "import google.auth\n",
    "from arcgis.features import FeatureLayer\n",
    "\n",
    "credentials, project = google.auth.default()"
   ]
  },
  {
   "cell_type": "markdown",
   "metadata": {},
   "source": [
    "# Define Functions"
   ]
  },
  {
   "cell_type": "code",
   "execution_count": null,
   "metadata": {},
   "outputs": [],
   "source": [
    "def SQL_constructor(year, quarter, day_week, sql_query):\n",
    "    trip_table= f'replica-customer.cal_nev.cal_nev_{year}_{quarter}_{day_week}_trip'\n",
    "    segment_table= f'replica-customer.cal_nev.cal_nev_{year}_{quarter}_network_segments'\n",
    "    geo_table= f'replica-customer.Geos.trct_2020'\n",
    "    population_table= f'replica-customer.cal_nev.cal_nev_{year}_{quarter}_population'\n",
    "    sql_query = sql_query.replace('trip_table', trip_table)\n",
    "    sql_query = sql_query.replace('segment_table', segment_table)\n",
    "    sql_query = sql_query.replace('geo_table', geo_table)\n",
    "    sql_query = sql_query.replace('population_table', population_table)\n",
    "    return sql_query\n",
    "def get_data(year, quarter, day_week, sql_query):\n",
    "    sql = SQL_constructor(year, quarter, day_week, sql_query)\n",
    "    print(sql)\n",
    "    data = pandas_gbq.read_gbq(sql, project_id=project, credentials=credentials)\n",
    "    data['year'] = year\n",
    "    data['quarter'] = quarter\n",
    "    data['day_week'] = day_week\n",
    "    return data\n",
    "# Gets data from the TRPA server\n",
    "def get_fs_data(service_url):\n",
    "    feature_layer = FeatureLayer(service_url)\n",
    "    query_result = feature_layer.query()\n",
    "    # Convert the query result to a list of dictionaries\n",
    "    feature_list = query_result.features\n",
    "    # Create a pandas DataFrame from the list of dictionaries\n",
    "    all_data = pd.DataFrame([feature.attributes for feature in feature_list])\n",
    "    # return data frame\n",
    "    return all_data\n",
    "def in_basin(x, tahoe_geom):\n",
    "    if x in tahoe_geom['GEO_ID_FULL'].values:\n",
    "        return 'In Basin'\n",
    "    else:\n",
    "        return 'Out of Basin'\n",
    "def trip_type(x,y):\n",
    "    if (x == 'In Basin' and y == 'Out of Basin')| (x == 'Out of Basin' and y == 'In Basin'):\n",
    "        return 'Visit Tahoe'\n",
    "    elif x == 'In Basin' and y == 'In Basin':\n",
    "        return 'Internal'\n",
    "    else:\n",
    "        return 'External'\n",
    "def trip_purpose(x):\n",
    "    if x == 'RECREATION':\n",
    "        return 'RECREATION'\n",
    "    else:\n",
    "        return 'EVERYDAY TAHOE'\n",
    "def trip_category(x,y):\n",
    "    if x == 'External':\n",
    "        return 'External'\n",
    "    elif x == 'Visit Tahoe':\n",
    "        return 'Visit Tahoe'\n",
    "    elif y == 'RECREATION':\n",
    "        return 'RECREATION'\n",
    "    else:\n",
    "        return 'EVERYDAY TAHOE'"
   ]
  },
  {
   "cell_type": "markdown",
   "metadata": {},
   "source": [
    "# Import SQL Queries"
   ]
  },
  {
   "cell_type": "code",
   "execution_count": null,
   "metadata": {},
   "outputs": [],
   "source": [
    "Trip_SQL = open('Trip_Query_Param.sql', 'r').read()\n",
    "Segment_SQL = open('Segment_Query_Param.sql', 'r').read()"
   ]
  },
  {
   "cell_type": "markdown",
   "metadata": {},
   "source": [
    "# Bring in Trip Counts"
   ]
  },
  {
   "cell_type": "code",
   "execution_count": null,
   "metadata": {},
   "outputs": [],
   "source": [
    "Quarters = ['Q2','Q4']\n",
    "Years = [2021, 2022]\n",
    "day = ['saturday', 'thursday']\n",
    "year_quarter_dict = {\n",
    "    2021: ['Q2', 'Q4'],\n",
    "    2022: ['Q4'],\n",
    "    2023: ['Q2', 'Q4']\n",
    "}\n",
    "\n",
    "trip_data = pd.DataFrame()\n",
    "for year in year_quarter_dict.keys():\n",
    "    for quarter in year_quarter_dict[year]:\n",
    "        for day_week in day:\n",
    "            data = get_data(year, quarter, day_week, Trip_SQL)\n",
    "            if len(data) > 0:\n",
    "                trip_data = pd.concat([trip_data, data])\n"
   ]
  },
  {
   "cell_type": "markdown",
   "metadata": {},
   "source": [
    "## Process Trip counts for grouping and in/out of basin fields"
   ]
  },
  {
   "cell_type": "code",
   "execution_count": null,
   "metadata": {},
   "outputs": [],
   "source": [
    "#Pull in tahoe geometry, filter to block groups 2020, write a function to assign in basin or out of basin and then apply it to\n",
    "#origin_bgrp, destination_bgrp, and BLOCKGROUP\n",
    "tahoe_geom = get_fs_data('https://maps.trpa.org/server/rest/services/Demographics/MapServer/27')\n",
    "tahoe_geom = tahoe_geom[tahoe_geom['YEAR'] == 2010]\n",
    "tahoe_geom = tahoe_geom[tahoe_geom['GEOGRAPHY']=='Block Group']\n",
    "#drop the last four characters of the TRPAID column\n",
    "\n",
    "tahoe_geom['GEO_ID_FULL'] = tahoe_geom['TRPAID'].str[:-4]"
   ]
  },
  {
   "cell_type": "code",
   "execution_count": null,
   "metadata": {},
   "outputs": [],
   "source": [
    "private_auto_list = ['CARPOOL', 'ON_DEMAND_AUTO', 'PRIVATE_AUTO']\n",
    "trip_data['origin_basin'] = trip_data.apply(lambda x: in_basin(x['origin_bgrp'], tahoe_geom), axis=1)\n",
    "trip_data['destination_basin'] = trip_data.apply(lambda x: in_basin(x['destination_bgrp'], tahoe_geom), axis=1)\n",
    "trip_data['resident_basin'] = trip_data.apply(lambda x: in_basin(x['BLOCKGROUP'], tahoe_geom), axis=1)\n",
    "trip_data['trip_type'] = trip_data.apply(lambda x: trip_type(x['origin_basin'], x['destination_basin']), axis=1)\n",
    "trip_data['trip_purpose'] = trip_data['travel_purpose'].apply(trip_purpose)\n",
    "trip_data['trip_category'] = trip_data.apply(lambda x: trip_category(x['trip_type'], x['trip_purpose']), axis=1)\n",
    "trip_data['grouped_mode'] = trip_data['mode'].apply(lambda x: 'Car' if x in private_auto_list else x)\n",
    "trip_data.to_csv('Trip_data.csv', index=False)"
   ]
  },
  {
   "cell_type": "markdown",
   "metadata": {},
   "source": [
    "# Group trips"
   ]
  },
  {
   "cell_type": "code",
   "execution_count": null,
   "metadata": {},
   "outputs": [],
   "source": [
    "grouping_variables  = ['year', 'quarter', 'day_week', 'mode', 'travel_purpose',\n",
    "                       'origin_basin', 'destination_basin', 'resident_basin',\n",
    "                       'trip_type', 'trip_purpose', 'trip_category', 'grouped_mode']\n",
    "trip_data_grouped = trip_data.groupby(grouping_variables).agg({'number_of_trips':'sum',\n",
    "                                                               'total_distance_in_basin':'sum',\n",
    "                                                               'total_distance_miles':'sum'}).reset_index()\n",
    "trip_data_grouped['total_distance_in_basin_miles'] = trip_data_grouped['total_distance_in_basin'] * 0.000000621371\n",
    "trip_data_grouped.to_csv('Trip_data_grouped.csv', index=False)"
   ]
  },
  {
   "cell_type": "markdown",
   "metadata": {},
   "source": [
    "# Segments"
   ]
  },
  {
   "cell_type": "code",
   "execution_count": null,
   "metadata": {},
   "outputs": [],
   "source": [
    "day = ['saturday', 'thursday']\n",
    "year_quarter_dict = {\n",
    "    2023: ['Q2', 'Q4']\n",
    "}\n",
    "\n",
    "segment_data ={}\n",
    "for year in year_quarter_dict.keys():\n",
    "    for quarter in year_quarter_dict[year]:\n",
    "        for day_week in day:\n",
    "            segements = f'{year}_{quarter}_{day_week}'\n",
    "            segment_data[segements] = get_data(year, quarter, day_week, Segment_SQL)\n"
   ]
  },
  {
   "cell_type": "code",
   "execution_count": null,
   "metadata": {},
   "outputs": [],
   "source": [
    "resident_pivot = {}\n",
    "for key in segment_data.keys():\n",
    "    #add a column called resident_basin to the segment data and assign in basin or out of basin\n",
    "    segment_data[key]['resident_basin'] = segment_data[key].apply(lambda x: in_basin(x['BLOCKGROUP'], tahoe_geom), axis=1)\n",
    "    segement_pivot = f'{key}_pivot'\n",
    "    resident_pivot[segement_pivot] = segment_data[key].groupby(['osmid', 'resident_basin']).agg({'number_of_trips':'sum'}).reset_index()\n",
    "    resident_pivot[segement_pivot] = resident_pivot[segement_pivot].pivot(index='osmid', columns='resident_basin', values='number_of_trips').reset_index()\n"
   ]
  },
  {
   "cell_type": "code",
   "execution_count": null,
   "metadata": {},
   "outputs": [],
   "source": [
    "modeshare_pivot = {}\n",
    "for key in segment_data.keys():\n",
    "    #Group by modeshare\n",
    "    segment_data[key]['resident_basin'] = segment_data[key].apply(lambda x: in_basin(x['BLOCKGROUP'], tahoe_geom), axis=1)\n",
    "    segement_pivot = f'{key}_pivot'\n",
    "    resident_pivot[segement_pivot] = segment_data[key].groupby(['osmid', 'resident_basin']).agg({'number_of_trips':'sum'}).reset_index()\n",
    "    resident_pivot[segement_pivot] = resident_pivot[segement_pivot].pivot(index='osmid', columns='resident_basin', values='number_of_trips').reset_index()\n"
   ]
  },
  {
   "cell_type": "code",
   "execution_count": null,
   "metadata": {},
   "outputs": [],
   "source": [
    "for key in resident_pivot.keys():\n",
    "    resident_pivot[key].to_csv(f'{key}.csv', index=False)"
   ]
  }
 ],
 "metadata": {
  "kernelspec": {
   "display_name": "Python 3",
   "language": "python",
   "name": "python3"
  },
  "language_info": {
   "codemirror_mode": {
    "name": "ipython",
    "version": 3
   },
   "file_extension": ".py",
   "mimetype": "text/x-python",
   "name": "python",
   "nbconvert_exporter": "python",
   "pygments_lexer": "ipython3",
   "version": "3.9.18"
  }
 },
 "nbformat": 4,
 "nbformat_minor": 2
}
