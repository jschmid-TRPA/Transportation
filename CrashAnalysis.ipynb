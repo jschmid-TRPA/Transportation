{
 "cells": [
  {
   "cell_type": "markdown",
   "metadata": {},
   "source": [
    "# High Injury Crash Network"
   ]
  },
  {
   "cell_type": "markdown",
   "metadata": {},
   "source": [
    "## Setup"
   ]
  },
  {
   "cell_type": "code",
   "execution_count": 1,
   "metadata": {
    "ExecuteTime": {
     "end_time": "2023-08-09T22:05:59.342527Z",
     "start_time": "2023-08-09T22:05:59.318748Z"
    }
   },
   "outputs": [],
   "source": [
    "# import packages\n",
    "import arcpy\n",
    "from arcgis.features import FeatureLayer\n",
    "import os\n",
    "import pyodbc\n",
    "import pandas as pd\n",
    "import numpy as np\n",
    "from sqlalchemy.engine import URL, create_engine\n",
    "from arcgis import GIS\n",
    "\n",
    "# set overwrite to true\n",
    "arcpy.env.overwriteOutput = True\n",
    "\n",
    "# enterprise Geodatabase connection\n",
    "sdeBase = \"F:\\GIS\\DB_CONNECT\\Vector.sde\"\n",
    "\n",
    "# set workspace - Need to modify this to be universal\n",
    "arcpy.env.workspace = \"F:\\GIS\\PROJECTS\\Transportation\\Vision Zero\\CrashAnalysis\\Crash Analysis.gdb\"\n",
    "workspace           = r\"F:\\GIS\\PROJECTS\\Transportation\\Vision Zero\\CrashAnalysis\\Crash Analysis.gdb\"\n",
    "workspace_folder    = r\"F:\\GIS\\PROJECTS\\Transportation\\Vision Zero\\CrashAnalysis\"\n",
    "\n",
    "# in memory output file path\n",
    "memory_workspace = \"memory\" + \"\\\\\"\n",
    "\n",
    "# network dataset info\n",
    "nd_path =  r\"F:\\GIS\\GIS_DATA\\Transportation\\Basemap Features\\Roads\\Streets Network Dataset\\Streets_NEW_ND.gdb\\Streets_SDC_ND\\Streets_CA_NV_ND\"\n",
    "nd_layer_name = \"Streets_CA_NV\"\n",
    "\n",
    "streetNetwork = os.path.join(nd_path,nd_layer_name)\n",
    "\n",
    "# transportation network data\n",
    "#HAVE WE PUBLISHED THIS?\n",
    "streets    = os.path.join(sdeBase, \"sde.SDE.Transportation\\sde.SDE.Streets\")\n",
    "urban      = os.path.join(sdeBase, \"sde.SDE.Jurisdictions\\sde.SDE.UrbanAreas\")\n",
    "\n",
    "# crash data\n",
    "#This probably isn't what we need - need to find the feature service to in memory feature class\n",
    "service_url = 'https://maps.trpa.org/server/rest/services/Transportation/MapServer/0'\n",
    "\n",
    "feature_layer = FeatureLayer(service_url)\n",
    "query_result = feature_layer.query()\n",
    "# Convert the query result to a list of dictionaries\n",
    "feature_list = query_result.features\n",
    "\n",
    "# Create a pandas DataFrame from the list of dictionaries\n",
    "tahoeCrash_data = pd.DataFrame([feature.attributes for feature in feature_list])\n",
    "# https://maps.trpa.org/server/rest/services/Transportation/MapServer/0\n",
    "tahoeCrash   = os.path.join(sdeBase, \"sde.SDE.Transportation\\sde.SDE.Tahoe_Crash\")\n",
    "\n",
    "# crashTotal   = arcpy.MakeFeatureLayer_management(tahoeCrash, \"Crashes\")\n",
    "# crashFatal   = arcpy.MakeFeatureLayer_management(tahoeCrash, \"Fatal Crashes\", \"Crash_Severity = 'Fatal'\")\n",
    "# crashSevere  = arcpy.MakeFeatureLayer_management(tahoeCrash, \"Severe Crashes\", \"Crash_Severity = 'Severe injury'\")\n",
    "# crashOther   = arcpy.MakeFeatureLayer_management(tahoeCrash, \"Other Crashes\", \"Crash_Severity IN ('Complaint of pain', 'Other visible injury')\")\n",
    "# crashBikePed = arcpy.MakeFeatureLayer_management(tahoeCrash, \"Bike/Ped Crashes\", \"Bicycle_Involved = 'Y' And Pedestrian_Involved = 'Y' And Crash_Severity NOT IN ('Fatal', 'Property damage only', 'Severe injury')\")\n",
    "\n",
    "# hex for crash data aggregations\n",
    "hexFatal    = memory_workspace + \"Hex_Fatal_Crash\"\n",
    "hexSevere   = memory_workspace + \"Hex_Severe_Crash\"\n",
    "hexMinor    = memory_workspace + \"Hex_Minor_Crash\"\n",
    "hexBikePed  = memory_workspace + \"Hex_BikePed_Crash\"\n",
    "hexTotal    = memory_workspace + \"Hex_Total_Crash\""
   ]
  },
  {
   "cell_type": "markdown",
   "metadata": {},
   "source": [
    "### Functions"
   ]
  },
  {
   "cell_type": "code",
   "execution_count": 2,
   "metadata": {
    "ExecuteTime": {
     "end_time": "2023-08-09T18:31:04.891519Z",
     "start_time": "2023-08-09T18:31:04.887765Z"
    }
   },
   "outputs": [],
   "source": [
    "# functions\n",
    "# transfer attributes from spatial join feature class to tessellation\n",
    "def fieldJoinCalc(updateFC, updateFieldsList, sourceFC, sourceFieldsList):\n",
    "    from time import strftime  \n",
    "    print (\"Started data transfer: \" + strftime(\"%Y-%m-%d %H:%M:%S\"))\n",
    "#     log.info(\"Started data transfer: \" + strftime(\"%Y-%m-%d %H:%M:%S\"))\n",
    "    # Use list comprehension to build a dictionary from arcpy SearchCursor  \n",
    "    valueDict = {r[0]:(r[1:]) for r in arcpy.da.SearchCursor(sourceFC, sourceFieldsList)}  \n",
    "    with arcpy.da.UpdateCursor(updateFC, updateFieldsList) as updateRows:  \n",
    "        for updateRow in updateRows:  \n",
    "            # store the Join value of the row being updated in a keyValue variable  \n",
    "            keyValue = updateRow[0]  \n",
    "            # verify that the keyValue is in the Dictionary  \n",
    "            if keyValue in valueDict:  \n",
    "                # transfer the value stored under the keyValue from the dictionary to the updated field.  \n",
    "                updateRow[1] = valueDict[keyValue][0]  \n",
    "                updateRows.updateRow(updateRow)    \n",
    "    del valueDict  \n",
    "    print (\"Finished data transfer: \" + strftime(\"%Y-%m-%d %H:%M:%S\"))\n"
   ]
  },
  {
   "cell_type": "markdown",
   "metadata": {
    "heading_collapsed": true
   },
   "source": [
    "### Import Enterprise Data to Workspace Geodatabase"
   ]
  },
  {
   "cell_type": "code",
   "execution_count": 20,
   "metadata": {
    "ExecuteTime": {
     "end_time": "2023-08-09T22:06:40.967636Z",
     "start_time": "2023-08-09T22:06:03.869892Z"
    },
    "hidden": true
   },
   "outputs": [
    {
     "data": {
      "text/html": [
       "<div class='gpresult'><h2>Messages</h2><div id='messages' data-messages='[\"Start Time: Wednesday, August 09, 2023 3:06:04 PM\",\"F:\\\\GIS\\\\DB_CONNECT\\\\Vector.sde\\\\sde.SDE.Transportation\\\\sde.SDE.Tahoe_Crash Successfully converted:  F:\\\\GIS\\\\PROJECTS\\\\Transportation\\\\Vision Zero\\\\CrashAnalysis\\\\Crash Analysis.gdb\\\\Tahoe_Crash\",\"Succeeded at Wednesday, August 09, 2023 3:06:40 PM (Elapsed Time: 36.01 seconds)\"]' data-show='true'><div id = 'default' /></div></div>"
      ],
      "text/plain": [
       "<Result 'F:\\\\GIS\\\\PROJECTS\\\\Transportation\\\\Vision Zero\\\\CrashAnalysis\\\\Crash Analysis.gdb'>"
      ]
     },
     "execution_count": 20,
     "metadata": {},
     "output_type": "execute_result"
    }
   ],
   "source": [
    "arcpy.conversion.FeatureClassToGeodatabase(tahoeCrash,workspace)\n",
    "# arcpy.conversion.FeatureClassToGeodatabase(streetNetwork,workspace)\n"
   ]
  },
  {
   "cell_type": "code",
   "execution_count": null,
   "metadata": {
    "hidden": true
   },
   "outputs": [],
   "source": []
  },
  {
   "cell_type": "markdown",
   "metadata": {
    "heading_collapsed": true
   },
   "source": [
    "### Clean up Data"
   ]
  },
  {
   "cell_type": "code",
   "execution_count": 5,
   "metadata": {
    "ExecuteTime": {
     "end_time": "2023-08-09T18:43:31.738353Z",
     "start_time": "2023-08-09T18:43:22.606126Z"
    },
    "hidden": true
   },
   "outputs": [],
   "source": [
    "#Deleting closed forest service road\n",
    "object_id_to_delete = 9043  # Replace with the actual ObjectID you want to delete\n",
    "\n",
    "# Use a delete cursor to find and delete the specified feature\n",
    "with arcpy.da.UpdateCursor('Streets_Tahoe', [\"OBJECTID\"], \"OBJECTID = {}\".format(object_id_to_delete)) as cursor:\n",
    "    for row in cursor:\n",
    "        cursor.deleteRow()\n",
    "        print(\"Feature with ObjectID {} deleted.\".format(object_id_to_delete))\n"
   ]
  },
  {
   "cell_type": "code",
   "execution_count": 21,
   "metadata": {
    "ExecuteTime": {
     "end_time": "2023-08-09T22:06:47.892100Z",
     "start_time": "2023-08-09T22:06:40.968789Z"
    },
    "hidden": true
   },
   "outputs": [
    {
     "data": {
      "text/html": [
       "<div class='gpresult'><h2>Messages</h2><div id='messages' data-messages='[\"Start Time: Wednesday, August 09, 2023 3:06:44 PM\",\"Succeeded at Wednesday, August 09, 2023 3:06:46 PM (Elapsed Time: 2.72 seconds)\"]' data-show='true'><div id = 'default' /></div></div>"
      ],
      "text/plain": [
       "<Result 'tempLayer'>"
      ]
     },
     "execution_count": 21,
     "metadata": {},
     "output_type": "execute_result"
    }
   ],
   "source": [
    "where_clause = \"Crash_Severity = 'Property damage only'\"\n",
    "arcpy.management.MakeFeatureLayer('Tahoe_Crash', 'tempLayer', where_clause)\n",
    "arcpy.DeleteFeatures_management('tempLayer')"
   ]
  },
  {
   "cell_type": "markdown",
   "metadata": {
    "heading_collapsed": true
   },
   "source": [
    "## Generate Tessellations"
   ]
  },
  {
   "cell_type": "code",
   "execution_count": 13,
   "metadata": {
    "ExecuteTime": {
     "end_time": "2023-08-07T20:04:56.669696Z",
     "start_time": "2023-08-07T19:52:02.992531Z"
    },
    "hidden": true
   },
   "outputs": [
    {
     "data": {
      "text/html": [
       "<div class='gpresult'><h2>Messages</h2><div id='messages' data-messages='[\"Start Time: Monday, August 07, 2023 1:04:41 PM\",\"Succeeded at Monday, August 07, 2023 1:04:56 PM (Elapsed Time: 14.42 seconds)\"]' data-show='true'><div id = 'default' /></div></div>"
      ],
      "text/plain": [
       "<Result 'TahoeTessellation_25000sqm'>"
      ]
     },
     "execution_count": 13,
     "metadata": {},
     "output_type": "execute_result"
    }
   ],
   "source": [
    "tahoeHex = \"TahoeTessellation_25000sqm\"\n",
    "\n",
    "arcpy.management.GenerateTessellation(\n",
    "    Output_Feature_Class=tahoeHex,\n",
    "    Extent='-13388021.2623077 4678916.64488463 -13342410.4544964 4769413.84969433 PROJCS[\"WGS_1984_Web_Mercator_Auxiliary_Sphere\",GEOGCS[\"GCS_WGS_1984\",DATUM[\"D_WGS_1984\",SPHEROID[\"WGS_1984\",6378137.0,298.257223563]],PRIMEM[\"Greenwich\",0.0],UNIT[\"Degree\",0.0174532925199433]],PROJECTION[\"Mercator_Auxiliary_Sphere\"],PARAMETER[\"False_Easting\",0.0],PARAMETER[\"False_Northing\",0.0],PARAMETER[\"Central_Meridian\",0.0],PARAMETER[\"Standard_Parallel_1\",0.0],PARAMETER[\"Auxiliary_Sphere_Type\",0.0],UNIT[\"Meter\",1.0]]',\n",
    "    Shape_Type=\"HEXAGON\",\n",
    "    Size=\"25000 SquareMeters\",\n",
    "    Spatial_Reference='PROJCS[\"NAD_1983_UTM_Zone_10N\",GEOGCS[\"GCS_North_American_1983\",DATUM[\"D_North_American_1983\",SPHEROID[\"GRS_1980\",6378137.0,298.257222101]],PRIMEM[\"Greenwich\",0.0],UNIT[\"Degree\",0.0174532925199433]],PROJECTION[\"Transverse_Mercator\"],PARAMETER[\"False_Easting\",500000.0],PARAMETER[\"False_Northing\",0.0],PARAMETER[\"Central_Meridian\",-123.0],PARAMETER[\"Scale_Factor\",0.9996],PARAMETER[\"Latitude_Of_Origin\",0.0],UNIT[\"Meter\",1.0]];-5120900 -9998100 10000.0016462827;-100000 10000;-100000 10000;1.00000016391277E-03;0.001;0.001;IsHighPrecision',\n",
    "    H3_Resolution=7\n",
    ")\n",
    "\n",
    "arcpy.management.SelectLayerByLocation(\n",
    "    in_layer=\"TahoeTessellation_25000sqm\",\n",
    "    overlap_type=\"INTERSECT\",\n",
    "    select_features=\"TRPABoundary_Erase\",\n",
    "    search_distance=None,\n",
    "    selection_type=\"NEW_SELECTION\",\n",
    "    invert_spatial_relationship=\"INVERT\"\n",
    ")\n",
    "\n",
    "arcpy.management.DeleteRows(\n",
    "    in_rows=\"TahoeTessellation_25000sqm\"\n",
    ")"
   ]
  },
  {
   "cell_type": "code",
   "execution_count": 23,
   "metadata": {
    "ExecuteTime": {
     "end_time": "2023-08-07T20:33:52.931352Z",
     "start_time": "2023-08-07T20:33:21.882241Z"
    },
    "hidden": true
   },
   "outputs": [
    {
     "data": {
      "text/html": [
       "<div class='gpresult'><h2>Messages</h2><div id='messages' data-messages='[\"Start Time: Monday, August 07, 2023 1:33:49 PM\",\"Adding HAS_ROAD to TahoeTessellation_25000sqm...\",\"Succeeded at Monday, August 07, 2023 1:33:52 PM (Elapsed Time: 3.36 seconds)\"]' data-show='true'><div id = 'default' /></div></div>"
      ],
      "text/plain": [
       "<Result 'TahoeTessellation_25000sqm'>"
      ]
     },
     "execution_count": 23,
     "metadata": {},
     "output_type": "execute_result"
    }
   ],
   "source": [
    "tahoeHex = \"TahoeTessellation_25000sqm\"\n",
    "# Add fields to accept join values\n",
    "inFeatures = tahoeHex\n",
    "fieldPrecision = 9\n",
    "\n",
    "fieldName1  = \"SEVERE_CRASH_COUNT\"\n",
    "fieldAlias1 = \"Number of Severe Crashes\"\n",
    "\n",
    "fieldName2  = \"FATAL_CRASH_COUNT\"\n",
    "fieldAlias2 = \"Number of Fatal Crashes\"\n",
    "\n",
    "fieldName3  = \"OTHER_CRASH_COUNT\"\n",
    "fieldAlias3 = \"Number of Minor Crashes\"\n",
    "\n",
    "fieldName4  = \"BIKEPED_CRASH_COUNT\"\n",
    "fieldAlias4 = \"Number of Bike/Ped Crashes\"\n",
    "\n",
    "fieldName5  = \"CRASH_COUNT\"\n",
    "fieldAlias5 = \"Total Crashes\"\n",
    "\n",
    "### Density Fields\n",
    "# Run AddField \n",
    "arcpy.management.AddField(inFeatures, \n",
    "                          fieldName1, \"DOUBLE\", \n",
    "                          fieldPrecision,\n",
    "                          field_alias=fieldAlias1, \n",
    "                          field_is_nullable=\"NULLABLE\")\n",
    "# Run AddField \n",
    "arcpy.management.AddField(inFeatures, \n",
    "                          fieldName2, \"DOUBLE\", \n",
    "                          fieldPrecision,\n",
    "                          field_alias=fieldAlias2, \n",
    "                          field_is_nullable=\"NULLABLE\")\n",
    "# Run AddField \n",
    "arcpy.management.AddField(inFeatures, \n",
    "                          fieldName3, \"DOUBLE\", \n",
    "                          fieldPrecision,\n",
    "                          field_alias=fieldAlias3, \n",
    "                          field_is_nullable=\"NULLABLE\")\n",
    "# Run AddField \n",
    "arcpy.management.AddField(inFeatures, \n",
    "                          fieldName4, \"DOUBLE\", \n",
    "                          fieldPrecision,\n",
    "                          field_alias=fieldAlias4, \n",
    "                          field_is_nullable=\"NULLABLE\")\n",
    "\n",
    "# Run AddField \n",
    "arcpy.management.AddField(inFeatures, \n",
    "                          fieldName5, \"DOUBLE\", \n",
    "                          fieldPrecision,\n",
    "                          field_alias=fieldAlias5, \n",
    "                          field_is_nullable=\"NULLABLE\")\n",
    "# Run AddField \n",
    "arcpy.management.AddField(inFeatures, \n",
    "                          \"IS_URBAN\", \"TEXT\", \n",
    "                          field_alias=\"Within Urban Area Boundary?\", \n",
    "                          field_is_nullable=\"NULLABLE\")\n",
    "\n",
    "# Run AddField \n",
    "arcpy.management.AddField(inFeatures, \n",
    "                          \"HAS_ROAD\", \"TEXT\", \n",
    "                          field_alias=\"Road within Hex?\", \n",
    "                          field_is_nullable=\"NULLABLE\")\n"
   ]
  },
  {
   "cell_type": "code",
   "execution_count": 24,
   "metadata": {
    "ExecuteTime": {
     "end_time": "2023-08-07T20:35:34.190219Z",
     "start_time": "2023-08-07T20:33:52.932394Z"
    },
    "hidden": true
   },
   "outputs": [
    {
     "name": "stdout",
     "output_type": "stream",
     "text": [
      "Started data transfer: 2023-08-07 13:34:48\n",
      "Finished data transfer: 2023-08-07 13:34:53\n",
      "Started data transfer: 2023-08-07 13:34:53\n",
      "Finished data transfer: 2023-08-07 13:34:59\n",
      "Started data transfer: 2023-08-07 13:34:59\n",
      "Finished data transfer: 2023-08-07 13:35:04\n",
      "Started data transfer: 2023-08-07 13:35:04\n",
      "Finished data transfer: 2023-08-07 13:35:09\n",
      "Started data transfer: 2023-08-07 13:35:09\n",
      "Finished data transfer: 2023-08-07 13:35:15\n"
     ]
    },
    {
     "data": {
      "text/html": [
       "<div class='gpresult'><h2>Messages</h2><div id='messages' data-messages='[\"Start Time: Monday, August 07, 2023 1:35:33 PM\",\"Succeeded at Monday, August 07, 2023 1:35:33 PM (Elapsed Time: 0.06 seconds)\"]' data-show='true'><div id = 'default' /></div></div>"
      ],
      "text/plain": [
       "<Result 'TahoeTessellation_25000sqm'>"
      ]
     },
     "execution_count": 24,
     "metadata": {},
     "output_type": "execute_result"
    }
   ],
   "source": [
    "### Crash Attribute Update -----------------------------------------------------------------------------------###\n",
    "# Spatial Join\n",
    "arcpy.SpatialJoin_analysis(tahoeHex, crashFatal, \n",
    "                           hexFatal, \n",
    "                           \"JOIN_ONE_TO_ONE\", \"KEEP_ALL\", \"\", \n",
    "                           \"CONTAINS\", \"\", \"\")\n",
    "\n",
    "arcpy.SpatialJoin_analysis(tahoeHex, crashSevere, \n",
    "                           hexSevere, \n",
    "                           \"JOIN_ONE_TO_ONE\", \"KEEP_ALL\", \"\", \n",
    "                           \"CONTAINS\", \"\", \"\")\n",
    "\n",
    "arcpy.SpatialJoin_analysis(tahoeHex, crashOther, \n",
    "                           hexMinor, \n",
    "                           \"JOIN_ONE_TO_ONE\", \"KEEP_ALL\", \"\", \n",
    "                           \"CONTAINS\", \"\", \"\")\n",
    "\n",
    "arcpy.SpatialJoin_analysis(tahoeHex, crashBikePed, \n",
    "                           hexBikePed, \n",
    "                           \"JOIN_ONE_TO_ONE\", \"KEEP_ALL\", \"\", \n",
    "                           \"CONTAINS\", \"\", \"\")\n",
    "\n",
    "arcpy.SpatialJoin_analysis(tahoeHex, crashTotal, \n",
    "                           hexTotal, \n",
    "                           \"JOIN_ONE_TO_ONE\", \"KEEP_ALL\", \"\", \n",
    "                           \"CONTAINS\", \"\", \"\")\n",
    "\n",
    "# transfer attributes to hex Layer\n",
    "fieldJoinCalc(tahoeHex, ['GRID_ID','FATAL_CRASH_COUNT'], \n",
    "              hexFatal,     ['GRID_ID','Join_Count'])\n",
    "# transfer attributes to hex Layer\n",
    "fieldJoinCalc(tahoeHex, ['GRID_ID','SEVERE_CRASH_COUNT'], \n",
    "              hexSevere,    ['GRID_ID','Join_Count'])\n",
    "# transfer attributes to hex Layer\n",
    "fieldJoinCalc(tahoeHex, ['GRID_ID','OTHER_CRASH_COUNT'], \n",
    "              hexMinor,     ['GRID_ID','Join_Count'])\n",
    "# transfer attributes to hex Layer\n",
    "fieldJoinCalc(tahoeHex, ['GRID_ID','BIKEPED_CRASH_COUNT'], \n",
    "              hexBikePed,   ['GRID_ID','Join_Count'])\n",
    "# transfer attributes to hex Layer\n",
    "fieldJoinCalc(tahoeHex, ['GRID_ID','CRASH_COUNT'], \n",
    "              hexTotal,   ['GRID_ID','Join_Count'])\n",
    "\n",
    "### Urban Hex Attribute Update -----------------------------------------------------------------------------###\n",
    "\n",
    "# Select parcels that intersect urban area boundary\n",
    "urbanSelect = arcpy.SelectLayerByLocation_management(tahoeHex, \n",
    "                                                          'INTERSECT', \n",
    "                                                           urban, \n",
    "                                                           0, \n",
    "                                                          'NEW_SELECTION')\n",
    "# Update field 1= yes 0 = no\n",
    "with arcpy.da.UpdateCursor(urbanSelect, ['IS_URBAN']) as cursor:\n",
    "    for row in cursor:\n",
    "        row[0] = '1'\n",
    "        cursor.updateRow(row) \n",
    "del cursor \n",
    "\n",
    "# switch the selection\n",
    "urbanAreaSelect = arcpy.SelectLayerByAttribute_management(urbanSelect,'SWITCH_SELECTION')\n",
    "\n",
    "# update other parcels\n",
    "with arcpy.da.UpdateCursor(urbanAreaSelect, ['IS_URBAN']) as cursor:\n",
    "    for row in cursor:\n",
    "        row[0] = '0'\n",
    "        cursor.updateRow(row)\n",
    "del cursor\n",
    "\n",
    "### Streets Hex Attribute Update -----------------------------------------------------------------------------###\n",
    "\n",
    "# Select parcels that intersect urban area boundary\n",
    "streetSelect = arcpy.SelectLayerByLocation_management(tahoeHex, \n",
    "                                                          'INTERSECT', \n",
    "                                                           streets, \n",
    "                                                           0, \n",
    "                                                          'NEW_SELECTION')\n",
    "# Update field 1= yes 0 = no\n",
    "with arcpy.da.UpdateCursor(streetSelect, ['HAS_ROAD']) as cursor:\n",
    "    for row in cursor:\n",
    "        row[0] = '1'\n",
    "        cursor.updateRow(row) \n",
    "del cursor \n",
    "\n",
    "# switch the selection\n",
    "streetNotSelect = arcpy.SelectLayerByAttribute_management(streetSelect,'SWITCH_SELECTION')\n",
    "\n",
    "# update other parcels\n",
    "with arcpy.da.UpdateCursor(streetNotSelect, ['HAS_ROAD']) as cursor:\n",
    "    for row in cursor:\n",
    "        row[0] = '0'\n",
    "        cursor.updateRow(row)\n",
    "del cursor\n",
    "\n",
    "# clear selection\n",
    "arcpy.SelectLayerByAttribute_management(tahoeHex, \"CLEAR_SELECTION\")"
   ]
  },
  {
   "cell_type": "code",
   "execution_count": null,
   "metadata": {
    "hidden": true
   },
   "outputs": [],
   "source": []
  },
  {
   "cell_type": "code",
   "execution_count": null,
   "metadata": {
    "hidden": true
   },
   "outputs": [],
   "source": []
  },
  {
   "cell_type": "markdown",
   "metadata": {
    "heading_collapsed": true
   },
   "source": [
    "## Cluster Analysis"
   ]
  },
  {
   "cell_type": "code",
   "execution_count": null,
   "metadata": {
    "hidden": true
   },
   "outputs": [],
   "source": [
    "tahoeHexRoad = arcpy.MakeFeatureLayer_management(tahoeHex01km, \"Hex_Road_Layer\", \n",
    "                        \"HAS_ROAD = '1'\")\n",
    "arcpy.stats.HotSpots(\n",
    "    Input_Feature_Class=tahoeHexRoad,\n",
    "    Input_Field=\"FATAL_CRASH_COUNT\",\n",
    "    Output_Feature_Class=r\"TahoeTessellation_FatalCrash_HotSpots\",\n",
    "    Conceptualization_of_Spatial_Relationships=\"FIXED_DISTANCE_BAND\",\n",
    "    Distance_Method=\"EUCLIDEAN_DISTANCE\",\n",
    "    Standardization=\"ROW\",\n",
    "    Distance_Band_or_Threshold_Distance=None,\n",
    "    Self_Potential_Field=None,\n",
    "    Weights_Matrix_File=None,\n",
    "    Apply_False_Discovery_Rate__FDR__Correction=\"NO_FDR\",\n",
    "    number_of_neighbors=None\n",
    ")"
   ]
  },
  {
   "cell_type": "code",
   "execution_count": null,
   "metadata": {
    "hidden": true
   },
   "outputs": [],
   "source": []
  },
  {
   "cell_type": "markdown",
   "metadata": {
    "heading_collapsed": true
   },
   "source": [
    "## Emerging Hot Spot Analysis - Space Time Cube"
   ]
  },
  {
   "cell_type": "code",
   "execution_count": 31,
   "metadata": {
    "ExecuteTime": {
     "end_time": "2023-08-09T22:25:51.152167Z",
     "start_time": "2023-08-09T22:24:58.635458Z"
    },
    "hidden": true
   },
   "outputs": [
    {
     "data": {
      "text/html": [
       "<div class='gpresult'><h2>Messages</h2><div id='messages' data-messages='[\"Start Time: Wednesday, August 09, 2023 3:25:27 PM\",\"WARNING 110020: The default Neighborhood Distance is 4664.53016 meters.\",\"\",[{\"element\":\"table\",\"data\":[[\"Distance interval\",\"500 meters\"],[\"Time step interval\",\"6 months\"],[\"\",\"\"],[\"Aggregation Shape Type\",\"Hexagon Grid\"],[\"\",\"\"],[\"First time step temporal bias\",\"1.10%\"],[{\"data\":\"First time step interval\",\"prop\":{\"rowspan\":4}},\"after\"],[{\"data\":\"2012-12-30 00:00:00\",\"prop\":{\"text-align\":\"right\"}}],[{\"data\":\"to on or before\",\"prop\":{\"text-align\":\"right\"}}],[{\"data\":\"2013-06-30 00:00:00\",\"prop\":{\"text-align\":\"right\"}}],[\"\",\"\"],[\"Last time step temporal bias\",\"0.00%\"],[{\"data\":\"Last time step interval\",\"prop\":{\"rowspan\":4}},\"after\"],[{\"data\":\"2020-06-30 00:00:00\",\"prop\":{\"text-align\":\"right\"}}],[{\"data\":\"to on or before\",\"prop\":{\"text-align\":\"right\"}}],[{\"data\":\"2020-12-30 00:00:00\",\"prop\":{\"text-align\":\"right\"}}],[\"\",\"\"],[\"Number of time steps\",\"16\"],[\"Number of locations analyzed\",\"473\"],[\"Number of space time bins analyzed\",\"7568\"],[\"% non-zero\",\"16.70%\"]],\"elementProps\":{\"striped\":\"true\",\"noHeader\":true,\"title\":\"Input Space Time Cube Details\",\"0\":{\"align\":\"left\",\"pad\":\"0px\",\"wrap\":true},\"1\":{\"align\":\"right\",\"pad\":\"0px\",\"wrap\":true}}}],[{\"element\":\"table\",\"data\":[[\"Neighborhood distance\",\"4664.53016 meters\"],[\"Neighborhood time step intervals\",\"1 (spanning 6 months)\"]],\"elementProps\":{\"striped\":\"true\",\"noHeader\":true,\"title\":\"Analysis Details\",\"0\":{\"align\":\"left\",\"pad\":\"0px\",\"wrap\":true},\"1\":{\"align\":\"right\",\"pad\":\"0px\",\"wrap\":true}}}],[{\"element\":\"table\",\"data\":[[\"\",\"HOT\",\"COLD\"],[\"New\",\"2\",\"5\"],[\"Consecutive\",\"0\",\"1\"],[\"Intensifying\",\"0\",\"0\"],[\"Persistent\",\"0\",\"0\"],[\"Diminishing\",\"0\",\"0\"],[\"Sporadic\",\"29\",\"0\"],[\"Oscillating\",\"0\",\"0\"],[\"Historical\",\"0\",\"0\"]],\"elementProps\":{\"striped\":\"true\",\"footnote\":[\"All locations with hot or cold spot trends: 37 of 473\"],\"title\":\"Summary of Results\",\"0\":{\"align\":\"left\",\"pad\":\"0px\",\"wrap\":true},\"1\":{\"align\":\"right\",\"pad\":\"0px\",\"wrap\":true},\"2\":{\"align\":\"right\",\"pad\":\"0px\",\"wrap\":true}}}],{\"element\":\"h5\",\"data\":\"Category Definitions\"},{\"element\":\"content\",\"data\":\"Last time step is hot:\"},{\"element\":\"unorderedlist\",\"data\":[\"New: the most recent time step interval is hot for the first time\",\"Consecutive: a single uninterrupted run of hot time step intervals, comprised of less than 90% of all intervals\",\"Intensifying: at least 90% of the time step intervals are hot, and becoming hotter over time\",\"Persistent: at least 90% of the time step intervals are hot, with no trend up or down\",\"Diminishing: at least 90% of the time step intervals are hot, and becoming less hot over time\",\"Sporadic: some of the time step intervals are hot\",\"Oscillating: some of the time step intervals are hot, some are cold\"]},{\"element\":\"content\",\"data\":\"Last time step is not hot:\"},{\"element\":\"unorderedlist\",\"data\":[\"Historical: at least 90% of the time step intervals are hot, but the most recent time step interval is not\"]},{\"element\":\"content\",\"data\":\"Last time step is cold:\"},{\"element\":\"unorderedlist\",\"data\":[\"New: the most recent time step interval is cold for the first time\",\"Consecutive: a single uninterrupted run of cold time step intervals, comprised of less than 90% of all\",\"Intensifying: at least 90% of the time step intervals are cold, and becoming colder over time\",\"Persistent: at least 90% of the time step intervals are cold, with no trend up or down\",\"Diminishing: at least 90% of the time step intervals are cold, and becoming less cold over time intervals\",\"Sporadic: some of the time step intervals are cold\",\"Oscillating: some of the time step intervals are cold, some are hot\"]},{\"element\":\"content\",\"data\":\"Last time step is not cold:\"},{\"element\":\"unorderedlist\",\"data\":[\"Historical: at least 90% of the time step intervals are cold, but the most recent time step interval is not\"]},\"\\n\\n\\n\\n\\n\\n\\n\\n\\n\",\"Succeeded at Wednesday, August 09, 2023 3:25:50 PM (Elapsed Time: 23.50 seconds)\"]' data-show='true'><div id = 'default' /></div></div>"
      ],
      "text/plain": [
       "<Result 'F:\\\\GIS\\\\PROJECTS\\\\Transportation\\\\Vision Zero\\\\CrashAnalysis\\\\Crash Analysis.gdb\\\\EmergingHotSpot_Crash_Tahoe'>"
      ]
     },
     "execution_count": 31,
     "metadata": {},
     "output_type": "execute_result"
    }
   ],
   "source": [
    "# where_clause  = \"\"\n",
    "crashLayer    = 'Crash_Layer'\n",
    "crashes       = arcpy.management.MakeFeatureLayer(\"Tahoe_Crash\", crashLayer)\n",
    "cube = r\"F:\\GIS\\PROJECTS\\Transportation\\Vision Zero\\CrashAnalysis\\CrashCube_Tahoe\"\n",
    "hotspotOut    = \"EmergingHotSpot_Crash_Tahoe\"\n",
    "\n",
    "arcpy.stpm.CreateSpaceTimeCube(\n",
    "    in_features=crashLayer,\n",
    "    output_cube=cube,\n",
    "    time_field=\"Date\",\n",
    "    template_cube=None,\n",
    "    time_step_interval=\"6 Months\",\n",
    "    time_step_alignment=\"END_TIME\",\n",
    "    reference_time=None,\n",
    "    distance_interval=\"500 Meters\",\n",
    "    summary_fields=None,\n",
    "    aggregation_shape_type=\"HEXAGON_GRID\",\n",
    "    defined_polygon_locations=None,\n",
    "    location_id=None\n",
    ")\n",
    "\n",
    "# run emerging hot spot\n",
    "arcpy.stpm.EmergingHotSpotAnalysis(\n",
    "    in_cube=cube,\n",
    "    analysis_variable=\"COUNT\",\n",
    "    output_features= hotspotOut,\n",
    "    neighborhood_distance=None,\n",
    "    neighborhood_time_step=1,\n",
    "    polygon_mask=None,\n",
    "    conceptualization_of_spatial_relationships=\"FIXED_DISTANCE\",\n",
    "    number_of_neighbors=None,\n",
    "    define_global_window=\"ENTIRE_CUBE\"\n",
    ")"
   ]
  },
  {
   "cell_type": "code",
   "execution_count": 32,
   "metadata": {
    "ExecuteTime": {
     "end_time": "2023-08-09T22:26:18.144030Z",
     "start_time": "2023-08-09T22:25:51.152994Z"
    },
    "hidden": true
   },
   "outputs": [
    {
     "data": {
      "text/html": [
       "<div class='gpresult'><h2>Messages</h2><div id='messages' data-messages='[\"Start Time: Wednesday, August 09, 2023 3:25:56 PM\",\"WARNING 110020: The default Neighborhood Distance is 4852.616182 meters.\",\"\",[{\"element\":\"table\",\"data\":[[\"Distance interval\",\"500 meters\"],[\"Time step interval\",\"6 months\"],[\"\",\"\"],[\"Aggregation Shape Type\",\"Hexagon Grid\"],[\"\",\"\"],[\"First time step temporal bias\",\"4.40%\"],[{\"data\":\"First time step interval\",\"prop\":{\"rowspan\":4}},\"after\"],[{\"data\":\"2012-12-24 00:00:00\",\"prop\":{\"text-align\":\"right\"}}],[{\"data\":\"to on or before\",\"prop\":{\"text-align\":\"right\"}}],[{\"data\":\"2013-06-24 00:00:00\",\"prop\":{\"text-align\":\"right\"}}],[\"\",\"\"],[\"Last time step temporal bias\",\"0.00%\"],[{\"data\":\"Last time step interval\",\"prop\":{\"rowspan\":4}},\"after\"],[{\"data\":\"2020-06-24 00:00:00\",\"prop\":{\"text-align\":\"right\"}}],[{\"data\":\"to on or before\",\"prop\":{\"text-align\":\"right\"}}],[{\"data\":\"2020-12-24 00:00:00\",\"prop\":{\"text-align\":\"right\"}}],[\"\",\"\"],[\"Number of time steps\",\"16\"],[\"Number of locations analyzed\",\"316\"],[\"Number of space time bins analyzed\",\"5056\"],[\"% non-zero\",\"14.77%\"]],\"elementProps\":{\"striped\":\"true\",\"noHeader\":true,\"title\":\"Input Space Time Cube Details\",\"0\":{\"align\":\"left\",\"pad\":\"0px\",\"wrap\":true},\"1\":{\"align\":\"right\",\"pad\":\"0px\",\"wrap\":true}}}],[{\"element\":\"table\",\"data\":[[\"Neighborhood distance\",\"4852.616182 meters\"],[\"Neighborhood time step intervals\",\"1 (spanning 6 months)\"]],\"elementProps\":{\"striped\":\"true\",\"noHeader\":true,\"title\":\"Analysis Details\",\"0\":{\"align\":\"left\",\"pad\":\"0px\",\"wrap\":true},\"1\":{\"align\":\"right\",\"pad\":\"0px\",\"wrap\":true}}}],[{\"element\":\"table\",\"data\":[[\"\",\"HOT\",\"COLD\"],[\"New\",\"0\",\"0\"],[\"Consecutive\",\"0\",\"0\"],[\"Intensifying\",\"0\",\"0\"],[\"Persistent\",\"0\",\"0\"],[\"Diminishing\",\"0\",\"0\"],[\"Sporadic\",\"0\",\"0\"],[\"Oscillating\",\"0\",\"0\"],[\"Historical\",\"0\",\"0\"]],\"elementProps\":{\"striped\":\"true\",\"footnote\":[\"All locations with hot or cold spot trends: 0 of 316\"],\"title\":\"Summary of Results\",\"0\":{\"align\":\"left\",\"pad\":\"0px\",\"wrap\":true},\"1\":{\"align\":\"right\",\"pad\":\"0px\",\"wrap\":true},\"2\":{\"align\":\"right\",\"pad\":\"0px\",\"wrap\":true}}}],{\"element\":\"h5\",\"data\":\"Category Definitions\"},{\"element\":\"content\",\"data\":\"Last time step is hot:\"},{\"element\":\"unorderedlist\",\"data\":[\"New: the most recent time step interval is hot for the first time\",\"Consecutive: a single uninterrupted run of hot time step intervals, comprised of less than 90% of all intervals\",\"Intensifying: at least 90% of the time step intervals are hot, and becoming hotter over time\",\"Persistent: at least 90% of the time step intervals are hot, with no trend up or down\",\"Diminishing: at least 90% of the time step intervals are hot, and becoming less hot over time\",\"Sporadic: some of the time step intervals are hot\",\"Oscillating: some of the time step intervals are hot, some are cold\"]},{\"element\":\"content\",\"data\":\"Last time step is not hot:\"},{\"element\":\"unorderedlist\",\"data\":[\"Historical: at least 90% of the time step intervals are hot, but the most recent time step interval is not\"]},{\"element\":\"content\",\"data\":\"Last time step is cold:\"},{\"element\":\"unorderedlist\",\"data\":[\"New: the most recent time step interval is cold for the first time\",\"Consecutive: a single uninterrupted run of cold time step intervals, comprised of less than 90% of all\",\"Intensifying: at least 90% of the time step intervals are cold, and becoming colder over time\",\"Persistent: at least 90% of the time step intervals are cold, with no trend up or down\",\"Diminishing: at least 90% of the time step intervals are cold, and becoming less cold over time intervals\",\"Sporadic: some of the time step intervals are cold\",\"Oscillating: some of the time step intervals are cold, some are hot\"]},{\"element\":\"content\",\"data\":\"Last time step is not cold:\"},{\"element\":\"unorderedlist\",\"data\":[\"Historical: at least 90% of the time step intervals are cold, but the most recent time step interval is not\"]},\"\\n\\n\\n\\n\\n\\n\\n\\n\\n\",\"Succeeded at Wednesday, August 09, 2023 3:26:18 PM (Elapsed Time: 21.94 seconds)\"]' data-show='true'><div id = 'default' /></div></div>"
      ],
      "text/plain": [
       "<Result 'F:\\\\GIS\\\\PROJECTS\\\\Transportation\\\\Vision Zero\\\\CrashAnalysis\\\\Crash Analysis.gdb\\\\EmergingHotSpot_Crash_CA'>"
      ]
     },
     "execution_count": 32,
     "metadata": {},
     "output_type": "execute_result"
    }
   ],
   "source": [
    "where_clause  = \"State ='CA'\"\n",
    "crashLayer    = 'CA_Crash_Layer'\n",
    "crashes       = arcpy.management.MakeFeatureLayer(\"Tahoe_Crash\", crashLayer, where_clause)\n",
    "cube = r\"F:\\GIS\\PROJECTS\\Transportation\\Vision Zero\\CrashAnalysis\\CrashCube_CA\"\n",
    "# cube          = os.path.join(workspace,\"CrashCube_CA\")\n",
    "hotspotOut    = \"EmergingHotSpot_Crash_CA\"\n",
    "\n",
    "arcpy.stpm.CreateSpaceTimeCube(\n",
    "    in_features=crashLayer,\n",
    "    output_cube=cube,\n",
    "    time_field=\"Date\",\n",
    "    template_cube=None,\n",
    "    time_step_interval=\"6 Months\",\n",
    "    time_step_alignment=\"END_TIME\",\n",
    "    reference_time=None,\n",
    "    distance_interval=\"500 Meters\",\n",
    "    summary_fields=None,\n",
    "    aggregation_shape_type=\"HEXAGON_GRID\",\n",
    "    defined_polygon_locations=None,\n",
    "    location_id=None\n",
    ")\n",
    "\n",
    "# run emerging hot spot\n",
    "arcpy.stpm.EmergingHotSpotAnalysis(\n",
    "    in_cube=cube,\n",
    "    analysis_variable=\"COUNT\",\n",
    "    output_features= hotspotOut,\n",
    "    neighborhood_distance=None,\n",
    "    neighborhood_time_step=1,\n",
    "    polygon_mask=None,\n",
    "    conceptualization_of_spatial_relationships=\"FIXED_DISTANCE\",\n",
    "    number_of_neighbors=None,\n",
    "    define_global_window=\"ENTIRE_CUBE\"\n",
    ")"
   ]
  },
  {
   "cell_type": "code",
   "execution_count": 33,
   "metadata": {
    "ExecuteTime": {
     "end_time": "2023-08-09T22:26:41.966890Z",
     "start_time": "2023-08-09T22:26:18.144843Z"
    },
    "hidden": true
   },
   "outputs": [
    {
     "data": {
      "text/html": [
       "<div class='gpresult'><h2>Messages</h2><div id='messages' data-messages='[\"Start Time: Wednesday, August 09, 2023 3:26:22 PM\",\"WARNING 110020: The default Neighborhood Distance is 4154.753793 meters.\",\"\",[{\"element\":\"table\",\"data\":[[\"Distance interval\",\"500 meters\"],[\"Time step interval\",\"6 months\"],[\"\",\"\"],[\"Aggregation Shape Type\",\"Hexagon Grid\"],[\"\",\"\"],[\"First time step temporal bias\",\"6.04%\"],[{\"data\":\"First time step interval\",\"prop\":{\"rowspan\":4}},\"after\"],[{\"data\":\"2012-12-30 00:00:00\",\"prop\":{\"text-align\":\"right\"}}],[{\"data\":\"to on or before\",\"prop\":{\"text-align\":\"right\"}}],[{\"data\":\"2013-06-30 00:00:00\",\"prop\":{\"text-align\":\"right\"}}],[\"\",\"\"],[\"Last time step temporal bias\",\"0.00%\"],[{\"data\":\"Last time step interval\",\"prop\":{\"rowspan\":4}},\"after\"],[{\"data\":\"2020-06-30 00:00:00\",\"prop\":{\"text-align\":\"right\"}}],[{\"data\":\"to on or before\",\"prop\":{\"text-align\":\"right\"}}],[{\"data\":\"2020-12-30 00:00:00\",\"prop\":{\"text-align\":\"right\"}}],[\"\",\"\"],[\"Number of time steps\",\"16\"],[\"Number of locations analyzed\",\"149\"],[\"Number of space time bins analyzed\",\"2384\"],[\"% non-zero\",\"21.22%\"]],\"elementProps\":{\"striped\":\"true\",\"noHeader\":true,\"title\":\"Input Space Time Cube Details\",\"0\":{\"align\":\"left\",\"pad\":\"0px\",\"wrap\":true},\"1\":{\"align\":\"right\",\"pad\":\"0px\",\"wrap\":true}}}],[{\"element\":\"table\",\"data\":[[\"Neighborhood distance\",\"4154.753793 meters\"],[\"Neighborhood time step intervals\",\"1 (spanning 6 months)\"]],\"elementProps\":{\"striped\":\"true\",\"noHeader\":true,\"title\":\"Analysis Details\",\"0\":{\"align\":\"left\",\"pad\":\"0px\",\"wrap\":true},\"1\":{\"align\":\"right\",\"pad\":\"0px\",\"wrap\":true}}}],[{\"element\":\"table\",\"data\":[[\"\",\"HOT\",\"COLD\"],[\"New\",\"0\",\"0\"],[\"Consecutive\",\"0\",\"0\"],[\"Intensifying\",\"0\",\"0\"],[\"Persistent\",\"0\",\"0\"],[\"Diminishing\",\"0\",\"0\"],[\"Sporadic\",\"0\",\"0\"],[\"Oscillating\",\"0\",\"0\"],[\"Historical\",\"0\",\"0\"]],\"elementProps\":{\"striped\":\"true\",\"footnote\":[\"All locations with hot or cold spot trends: 0 of 149\"],\"title\":\"Summary of Results\",\"0\":{\"align\":\"left\",\"pad\":\"0px\",\"wrap\":true},\"1\":{\"align\":\"right\",\"pad\":\"0px\",\"wrap\":true},\"2\":{\"align\":\"right\",\"pad\":\"0px\",\"wrap\":true}}}],{\"element\":\"h5\",\"data\":\"Category Definitions\"},{\"element\":\"content\",\"data\":\"Last time step is hot:\"},{\"element\":\"unorderedlist\",\"data\":[\"New: the most recent time step interval is hot for the first time\",\"Consecutive: a single uninterrupted run of hot time step intervals, comprised of less than 90% of all intervals\",\"Intensifying: at least 90% of the time step intervals are hot, and becoming hotter over time\",\"Persistent: at least 90% of the time step intervals are hot, with no trend up or down\",\"Diminishing: at least 90% of the time step intervals are hot, and becoming less hot over time\",\"Sporadic: some of the time step intervals are hot\",\"Oscillating: some of the time step intervals are hot, some are cold\"]},{\"element\":\"content\",\"data\":\"Last time step is not hot:\"},{\"element\":\"unorderedlist\",\"data\":[\"Historical: at least 90% of the time step intervals are hot, but the most recent time step interval is not\"]},{\"element\":\"content\",\"data\":\"Last time step is cold:\"},{\"element\":\"unorderedlist\",\"data\":[\"New: the most recent time step interval is cold for the first time\",\"Consecutive: a single uninterrupted run of cold time step intervals, comprised of less than 90% of all\",\"Intensifying: at least 90% of the time step intervals are cold, and becoming colder over time\",\"Persistent: at least 90% of the time step intervals are cold, with no trend up or down\",\"Diminishing: at least 90% of the time step intervals are cold, and becoming less cold over time intervals\",\"Sporadic: some of the time step intervals are cold\",\"Oscillating: some of the time step intervals are cold, some are hot\"]},{\"element\":\"content\",\"data\":\"Last time step is not cold:\"},{\"element\":\"unorderedlist\",\"data\":[\"Historical: at least 90% of the time step intervals are cold, but the most recent time step interval is not\"]},\"\\n\\n\\n\\n\\n\\n\\n\\n\\n\",\"Succeeded at Wednesday, August 09, 2023 3:26:41 PM (Elapsed Time: 19.67 seconds)\"]' data-show='true'><div id = 'default' /></div></div>"
      ],
      "text/plain": [
       "<Result 'F:\\\\GIS\\\\PROJECTS\\\\Transportation\\\\Vision Zero\\\\CrashAnalysis\\\\Crash Analysis.gdb\\\\EmergingHotSpot_Crash_NV'>"
      ]
     },
     "execution_count": 33,
     "metadata": {},
     "output_type": "execute_result"
    }
   ],
   "source": [
    "where_clause  = \"State ='NV'\"\n",
    "crashLayer    = 'NV_Crash_Layer'\n",
    "crashes       = arcpy.management.MakeFeatureLayer(\"Tahoe_Crash\", crashLayer, where_clause)\n",
    "cube = r\"F:\\GIS\\PROJECTS\\Transportation\\Vision Zero\\CrashAnalysis\\CrashCube_NV\"\n",
    "# cube          = os.path.join(workspace,\"CrashCube_CA\")\n",
    "hotspotOut    = \"EmergingHotSpot_Crash_NV\"\n",
    "\n",
    "arcpy.stpm.CreateSpaceTimeCube(\n",
    "    in_features=crashLayer,\n",
    "    output_cube=cube,\n",
    "    time_field=\"Date\",\n",
    "    template_cube=None,\n",
    "    time_step_interval=\"6 Months\",\n",
    "    time_step_alignment=\"END_TIME\",\n",
    "    reference_time=None,\n",
    "    distance_interval=\"500 Meters\",\n",
    "    summary_fields=None,\n",
    "    aggregation_shape_type=\"HEXAGON_GRID\",\n",
    "    defined_polygon_locations=None,\n",
    "    location_id=None\n",
    ")\n",
    "\n",
    "# run emerging hot spot\n",
    "arcpy.stpm.EmergingHotSpotAnalysis(\n",
    "    in_cube=cube,\n",
    "    analysis_variable=\"COUNT\",\n",
    "    output_features= hotspotOut,\n",
    "    neighborhood_distance=None,\n",
    "    neighborhood_time_step=1,\n",
    "    polygon_mask=None,\n",
    "    conceptualization_of_spatial_relationships=\"FIXED_DISTANCE\",\n",
    "    number_of_neighbors=None,\n",
    "    define_global_window=\"ENTIRE_CUBE\"\n",
    ")"
   ]
  },
  {
   "cell_type": "markdown",
   "metadata": {
    "heading_collapsed": true
   },
   "source": [
    "## Safety Index"
   ]
  },
  {
   "cell_type": "code",
   "execution_count": null,
   "metadata": {
    "hidden": true
   },
   "outputs": [],
   "source": []
  },
  {
   "cell_type": "code",
   "execution_count": null,
   "metadata": {
    "hidden": true
   },
   "outputs": [],
   "source": []
  },
  {
   "cell_type": "code",
   "execution_count": null,
   "metadata": {
    "hidden": true
   },
   "outputs": [],
   "source": [
    "tahoeHexUrban = arcpy.MakeFeatureLayer_management(tahoeHex01km, \"Hex_Urban_Layer\", \n",
    "                        \"IS_URBAN = '1' Or HAS_ROAD = '1'\")\n",
    " \n",
    "\n",
    "with arcpy.EnvManager(scratchWorkspace=r\"F:\\GIS\\PROJECTS\\Transportation\\Equity\\Equity.gdb\", workspace=r\"F:\\GIS\\PROJECTS\\Transportation\\Equity\\Equity.gdb\"):\n",
    "    arcpy.stats.CalculateCompositeIndex(\n",
    "        in_table=tahoeHexUrban,\n",
    "        in_variables=\"DISABILITY_DENSITY #;MEDICARE_ACCESS_DISTANCE false;FOOD_ACCESS_DISTANCE false;MAJORITY_SLOPE_CLASS #\",\n",
    "        append_to_input=\"NEW_FEATURES\",\n",
    "        out_table=\"TahoeTessellation_0_1sqkm_CalculateCompositeIndex\",\n",
    "        index_preset=\"MEAN_SCALED\",\n",
    "        preprocessing=\"MINMAX\",\n",
    "        pre_threshold_scaling=\"THRESHOLD_PERCENTILE\",\n",
    "        pre_custom_zscore=None,\n",
    "        pre_min_max=None,\n",
    "        pre_thresholds=None,\n",
    "        index_method=\"MEAN\",\n",
    "        index_weights=\"DISABILITY_DENSITY 1;MEDICARE_ACCESS_DISTANCE 1;FOOD_ACCESS_DISTANCE 1;MAJORITY_SLOPE_CLASS 1\",\n",
    "        out_index_name=\"\",\n",
    "        out_index_reverse=None,\n",
    "        post_min_max=None,\n",
    "        post_reclass=None,\n",
    "        post_num_classes=5,\n",
    "        post_custom_classes=None\n",
    "    )"
   ]
  },
  {
   "cell_type": "code",
   "execution_count": null,
   "metadata": {
    "hidden": true
   },
   "outputs": [],
   "source": []
  },
  {
   "cell_type": "markdown",
   "metadata": {},
   "source": [
    "## Crash Analysis by Segment"
   ]
  },
  {
   "cell_type": "code",
   "execution_count": 2,
   "metadata": {
    "ExecuteTime": {
     "end_time": "2023-08-09T23:22:02.359849Z",
     "start_time": "2023-08-09T23:21:54.898390Z"
    }
   },
   "outputs": [
    {
     "data": {
      "text/html": [
       "<div class='gpresult'><h2>Messages</h2><div id='messages' data-messages='[\"Start Time: Thursday, August 10, 2023 2:24:21 PM\",\"WARNING 000012: Crash_Rate_Weighted already exists\",\"Succeeded at Thursday, August 10, 2023 2:24:26 PM (Elapsed Time: 5.14 seconds)\"]' data-show='true'><div id = 'default' /></div></div>"
      ],
      "text/plain": [
       "<Result 'F:\\\\GIS\\\\PROJECTS\\\\Transportation\\\\Vision Zero\\\\CrashAnalysis\\\\Crash Analysis.gdb\\\\Tahoe_Crash'>"
      ]
     },
     "execution_count": 2,
     "metadata": {},
     "output_type": "execute_result"
    }
   ],
   "source": [
    "arcpy.AddField_management(\"Tahoe_Crash\", 'Crash_Severity_Numeric', \"LONG\")\n",
    "arcpy.AddField_management(\"Tahoe_Crash\", 'Crash_Rate_Weighted', \"DOUBLE\")\n"
   ]
  },
  {
   "cell_type": "code",
   "execution_count": 3,
   "metadata": {
    "ExecuteTime": {
     "end_time": "2023-08-09T23:25:53.937673Z",
     "start_time": "2023-08-09T23:25:46.891975Z"
    }
   },
   "outputs": [
    {
     "name": "stdout",
     "output_type": "stream",
     "text": [
      "Calculation complete.\n"
     ]
    }
   ],
   "source": [
    "def crash_severity_numeric(field1_value, field2_value, field3_value):\n",
    "    if field1_value == 'Fatal':\n",
    "        return 5\n",
    "    elif field1_value == 'Severe injury':\n",
    "        return 3\n",
    "    elif field2_value == 'Y':\n",
    "        return 2\n",
    "    elif field3_value == 'Y':\n",
    "        return 2\n",
    "    else:\n",
    "        return 1  # Default value for other cases\n",
    "\n",
    "# Use CalculateField_management to apply the function to the new field\n",
    "expression = \"crash_severity_numeric(!Crash_Severity!, !Bicycle_Involved!, !Pedestrian_Involved!)\"  # Replace 'Field1' with your source field name\n",
    "code_block = \"\"\"def crash_severity_numeric(field1_value, field2_value, field3_value):\n",
    "    if field1_value == 'Fatal':\n",
    "        return 5\n",
    "    elif field1_value == 'Severe injury':\n",
    "        return 3\n",
    "    elif field2_value == 'Y':\n",
    "        return 2\n",
    "    elif field3_value == 'Y':\n",
    "        return 2\n",
    "    else:\n",
    "        return 1 \"\"\"  # Define the function here\n",
    "\n",
    "arcpy.CalculateField_management(\"Tahoe_Crash\", \"Crash_Severity_Numeric\", expression, \"PYTHON3\", code_block)\n",
    "print(\"Calculation complete.\")"
   ]
  },
  {
   "cell_type": "code",
   "execution_count": 4,
   "metadata": {},
   "outputs": [
    {
     "name": "stdout",
     "output_type": "stream",
     "text": [
      "Calculation complete.\n"
     ]
    }
   ],
   "source": [
    "arcpy.AddField_management(\"Tahoe_Crash\", 'Bicycle_Involved_Numeric', \"LONG\")\n",
    "expression = \"crash_severity_numeric(!Bicycle_Involved!)\"  # Replace 'Field1' with your source field name\n",
    "code_block = \"\"\"def crash_severity_numeric(field1_value):\n",
    "    if field1_value == 'Y':\n",
    "        return 1\n",
    "    else:\n",
    "        return 0 \"\"\"  # Define the function here\n",
    "\n",
    "arcpy.CalculateField_management(\"Tahoe_Crash\", \"Bicycle_Involved_Numeric\", expression, \"PYTHON3\", code_block)\n",
    "print(\"Calculation complete.\")"
   ]
  },
  {
   "cell_type": "code",
   "execution_count": 5,
   "metadata": {},
   "outputs": [
    {
     "name": "stdout",
     "output_type": "stream",
     "text": [
      "Calculation complete.\n"
     ]
    }
   ],
   "source": [
    "arcpy.AddField_management(\"Tahoe_Crash\", 'Pedestrian_Involved_Numeric', \"LONG\")\n",
    "expression = \"crash_severity_numeric(!Pedestrian_Involved!)\"  # Replace 'Field1' with your source field name\n",
    "code_block = \"\"\"def crash_severity_numeric(field1_value):\n",
    "    if field1_value == 'Y':\n",
    "        return 1\n",
    "    else:\n",
    "        return 0 \"\"\"  # Define the function here\n",
    "\n",
    "arcpy.CalculateField_management(\"Tahoe_Crash\", \"Pedestrian_Involved_Numeric\", expression, \"PYTHON3\", code_block)\n",
    "print(\"Calculation complete.\")"
   ]
  },
  {
   "cell_type": "code",
   "execution_count": 6,
   "metadata": {
    "ExecuteTime": {
     "end_time": "2023-08-09T23:26:07.592301Z",
     "start_time": "2023-08-09T23:26:00.671845Z"
    },
    "scrolled": true
   },
   "outputs": [
    {
     "data": {
      "text/html": [
       "<div class='gpresult'><h2>Messages</h2><div id='messages' data-messages='[\"Start Time: Thursday, August 10, 2023 2:26:30 PM\",\"Succeeded at Thursday, August 10, 2023 2:26:38 PM (Elapsed Time: 8.28 seconds)\"]' data-show='true'><div id = 'default' /></div></div>"
      ],
      "text/plain": [
       "<Result 'F:\\\\GIS\\\\PROJECTS\\\\Transportation\\\\Vision Zero\\\\CrashAnalysis\\\\Crash Analysis.gdb\\\\Tahoe_Crash'>"
      ]
     },
     "execution_count": 6,
     "metadata": {},
     "output_type": "execute_result"
    }
   ],
   "source": [
    "arcpy.edit.Snap(\n",
    "    in_features=\"Tahoe_Crash\",\n",
    "    snap_environment=\"Streets_Tahoe EDGE '0.25 Miles'\"\n",
    ")"
   ]
  },
  {
   "cell_type": "code",
   "execution_count": 4,
   "metadata": {},
   "outputs": [
    {
     "data": {
      "text/html": [
       "<div class='gpresult'><h2>Messages</h2><div id='messages' data-messages='[\"Start Time: Friday, August 11, 2023 3:01:25 PM\",\"Succeeded at Friday, August 11, 2023 3:01:52 PM (Elapsed Time: 26.98 seconds)\"]' data-show='true'><div id = 'default' /></div></div>"
      ],
      "text/plain": [
       "<Result 'F:\\\\GIS\\\\PROJECTS\\\\Transportation\\\\Vision Zero\\\\CrashAnalysis\\\\Crash Analysis.gdb\\\\Streets_Tahoe_Crashes'>"
      ]
     },
     "execution_count": 4,
     "metadata": {},
     "output_type": "execute_result"
    }
   ],
   "source": [
    "target_feature_class = \"Streets_Tahoe\"\n",
    "join_feature_class = r\"F:\\GIS\\PROJECTS\\Transportation\\Vision Zero\\CrashAnalysis\\Crash Analysis.gdb\\Tahoe_Crash\"\n",
    "output_feature_class = r\"F:\\GIS\\PROJECTS\\Transportation\\Vision Zero\\CrashAnalysis\\Crash Analysis.gdb\\Streets_Tahoe_Crashes\"\n",
    "\n",
    "# List of input and join field names\n",
    "input_field_names = [\"NAME\", \"TYPE\", \"CLASS_RTE\", \"SPEED_MPH\", \"Shape_Length\", \"UniqueID\", \"CrashRate\", \"Miles\", \"FatalityRate\"]\n",
    "join_field_names = [\"Num_Killed\", \"Num_Injured\", \"Num_Ped_Killed\", \"Num_Ped_Injured\", \n",
    "    \"Num_Bicyclist_Killed\", \"Num_Bicyclist_Injured\", \n",
    "    \"Crash_Severity_Numeric\", \"Crash_Rate_Weighted\",\n",
    "    \"Bicycle_Involved_Numeric\", \"Pedestrian_Involved_Numeric\"]\n",
    "\n",
    "# List of fields to be joined using SUM\n",
    "fields_to_sum = [\"Num_Killed\", \"Num_Injured\", \"Num_Ped_Killed\", \"Num_Ped_Injured\", \n",
    "                 \"Num_Bicyclist_Killed\", \"Num_Bicyclist_Injured\", \"Crash_Severity_Numeric\",\n",
    "                \"Bicycle_Involved_Numeric\", \"Pedestrian_Involved_Numeric\"]\n",
    "\n",
    "# Create a field map object\n",
    "field_mappings = arcpy.FieldMappings()\n",
    "\n",
    "# Get the field info for the target feature class\n",
    "target_field_info = arcpy.ListFields(target_feature_class)\n",
    "\n",
    "# Add fields from the target feature class to the field mappings\n",
    "for field in target_field_info:\n",
    "    if field.name in input_field_names:\n",
    "        input_field_map = arcpy.FieldMap()\n",
    "        input_field_map.addInputField(target_feature_class, field.name)\n",
    "        \n",
    "        # Set the merge rule to SUM for selected fields\n",
    "        if field.name in fields_to_sum:\n",
    "            input_field_map.mergeRule = \"SUM\"\n",
    "        \n",
    "        field_mappings.addFieldMap(input_field_map)\n",
    "\n",
    "# Get the field info for the join feature class\n",
    "join_field_info = arcpy.ListFields(join_feature_class)\n",
    "\n",
    "# Add fields from the join feature class to the field mappings\n",
    "for field in join_field_info:\n",
    "    if field.name in join_field_names:\n",
    "        join_field_map = arcpy.FieldMap()\n",
    "        join_field_map.addInputField(join_feature_class, field.name)\n",
    "        \n",
    "        # Set the merge rule to SUM for selected fields\n",
    "        if field.name in fields_to_sum:\n",
    "            join_field_map.mergeRule = \"SUM\"\n",
    "        \n",
    "        field_mappings.addFieldMap(join_field_map)\n",
    "\n",
    "# Add a field map for the number_of_records field (count of a specific field)\n",
    "num_records_field_map = arcpy.FieldMap()\n",
    "num_records_field_map.addInputField(join_feature_class, \"County\")\n",
    "num_records_output_field = num_records_field_map.outputField\n",
    "num_records_output_field.name = \"Number_Of_Crashes\"  # Change to your desired field name\n",
    "num_records_output_field.aliasName = \"Number Of Crashes\"\n",
    "num_records_output_field.type = \"LONG\"  # Change to appropriate data type\n",
    "num_records_field_map.outputField = num_records_output_field\n",
    "num_records_field_map.mergeRule = \"COUNT\"\n",
    "field_mappings.addFieldMap(num_records_field_map)\n",
    "\n",
    "# Perform the spatial join using the specified field mappings\n",
    "arcpy.analysis.SpatialJoin(target_feature_class, \n",
    "    join_feature_class, \n",
    "    output_feature_class,\n",
    "    join_operation=\"JOIN_ONE_TO_ONE\",\n",
    "    join_type=\"KEEP_ALL\",\n",
    "    field_mapping = field_mappings,\n",
    "    match_option=\"INTERSECT\",\n",
    "    search_radius=None,\n",
    "    distance_field_name=\"\")"
   ]
  },
  {
   "cell_type": "code",
   "execution_count": 11,
   "metadata": {
    "ExecuteTime": {
     "end_time": "2023-08-09T22:07:53.331738Z",
     "start_time": "2023-08-09T22:07:29.865977Z"
    }
   },
   "outputs": [
    {
     "data": {
      "text/html": [
       "<div class='gpresult'><h2>Messages</h2><div id='messages' data-messages='[\"Start Time: Thursday, August 10, 2023 2:53:46 PM\",\"Succeeded at Thursday, August 10, 2023 2:54:14 PM (Elapsed Time: 28.41 seconds)\"]' data-show='true'><div id = 'default' /></div></div>"
      ],
      "text/plain": [
       "<Result 'F:\\\\GIS\\\\PROJECTS\\\\Transportation\\\\Vision Zero\\\\CrashAnalysis\\\\Crash Analysis.gdb\\\\Streets_Tahoe_Crashes'>"
      ]
     },
     "execution_count": 11,
     "metadata": {},
     "output_type": "execute_result"
    }
   ],
   "source": [
    "\n"
   ]
  },
  {
   "cell_type": "code",
   "execution_count": 3,
   "metadata": {
    "ExecuteTime": {
     "end_time": "2023-08-09T23:29:13.529120Z",
     "start_time": "2023-08-09T23:28:59.171700Z"
    }
   },
   "outputs": [
    {
     "data": {
      "text/html": [
       "<div class='gpresult'><h2>Messages</h2><div id='messages' data-messages='[\"Start Time: Friday, August 11, 2023 3:46:14 PM\",\"Succeeded at Friday, August 11, 2023 3:46:17 PM (Elapsed Time: 2.94 seconds)\"]' data-show='true'><div id = 'default' /></div></div>"
      ],
      "text/plain": [
       "<Result 'Streets_Tahoe_Crashes'>"
      ]
     },
     "execution_count": 3,
     "metadata": {},
     "output_type": "execute_result"
    }
   ],
   "source": [
    "arcpy.management.CalculateField(\n",
    "    in_table=\"Streets_Tahoe_Crashes\",\n",
    "    field=\"Miles\",\n",
    "    expression=\"!Shape_Length! *  0.000621371\",\n",
    "    expression_type=\"PYTHON3\",\n",
    "    code_block=\"\",\n",
    "    enforce_domains=\"NO_ENFORCE_DOMAINS\"\n",
    ")\n",
    "\n",
    "arcpy.management.CalculateField(\n",
    "    in_table=\"Streets_Tahoe_Crashes\",\n",
    "    field=\"Crash_Severity_Numeric\",\n",
    "    expression=\"0 if !Crash_Severity_Numeric! == None else !Crash_Severity_Numeric!\",\n",
    "    expression_type=\"PYTHON3\",\n",
    "    code_block=\"\",\n",
    "    field_type=\"FLOAT\",\n",
    "    enforce_domains=\"NO_ENFORCE_DOMAINS\"\n",
    ")\n",
    "\n",
    "arcpy.management.CalculateField(\n",
    "    in_table=\"Streets_Tahoe_Crashes\",\n",
    "    field=\"Pedestrian_Involved_Numeric\",\n",
    "    expression=\"0 if !Pedestrian_Involved_Numeric! == None else !Pedestrian_Involved_Numeric!\",\n",
    "    expression_type=\"PYTHON3\",\n",
    "    code_block=\"\",\n",
    "    field_type=\"FLOAT\",\n",
    "    enforce_domains=\"NO_ENFORCE_DOMAINS\"\n",
    ")\n",
    "\n",
    "arcpy.management.CalculateField(\n",
    "    in_table=\"Streets_Tahoe_Crashes\",\n",
    "    field=\"Bicycle_Involved_Numeric\",\n",
    "    expression=\"0 if !Bicycle_Involved_Numeric! == None else !Bicycle_Involved_Numeric!\",\n",
    "    expression_type=\"PYTHON3\",\n",
    "    code_block=\"\",\n",
    "    field_type=\"FLOAT\",\n",
    "    enforce_domains=\"NO_ENFORCE_DOMAINS\"\n",
    ")\n",
    "\n",
    "arcpy.management.CalculateField(\n",
    "    in_table=\"Streets_Tahoe_Crashes\",\n",
    "    field=\"Number_Of_Crashes\",\n",
    "    expression=\"0 if !Number_Of_Crashes! == None else !Number_Of_Crashes!\",\n",
    "    expression_type=\"PYTHON3\",\n",
    "    code_block=\"\",\n",
    "    field_type=\"FLOAT\",\n",
    "    enforce_domains=\"NO_ENFORCE_DOMAINS\"\n",
    ")\n",
    "\n",
    "\n",
    "arcpy.management.CalculateField(\n",
    "    in_table=\"Streets_Tahoe_Crashes\",\n",
    "    field=\"Crash_Rate_Weighted\",\n",
    "    expression=\"!Crash_Severity_Numeric! / (!Miles!*8)\",\n",
    "    expression_type=\"PYTHON3\",\n",
    "    code_block=\"\",\n",
    "    enforce_domains=\"NO_ENFORCE_DOMAINS\"\n",
    ")\n",
    "\n",
    "arcpy.management.CalculateField(\n",
    "    in_table=\"Streets_Tahoe_Crashes\",\n",
    "    field=\"Crash_Rate_Ped\",\n",
    "    expression=\"!Pedestrian_Involved_Numeric! / (!Miles!*8)\",\n",
    "    expression_type=\"PYTHON3\",\n",
    "    code_block=\"\",\n",
    "    enforce_domains=\"NO_ENFORCE_DOMAINS\"\n",
    ")\n",
    "\n",
    "arcpy.management.CalculateField(\n",
    "    in_table=\"Streets_Tahoe_Crashes\",\n",
    "    field=\"Crash_Rate_Bike\",\n",
    "    expression=\"!Bicycle_Involved_Numeric! / (!Miles!*8)\",\n",
    "    expression_type=\"PYTHON3\",\n",
    "    code_block=\"\",\n",
    "    enforce_domains=\"NO_ENFORCE_DOMAINS\"\n",
    ")\n",
    "\n",
    "arcpy.management.CalculateField(\n",
    "    in_table=\"Streets_Tahoe_Crashes\",\n",
    "    field=\"Crash_Rate_Total\",\n",
    "    expression=\"!Number_Of_Crashes! / (!Miles!*8)\",\n",
    "    expression_type=\"PYTHON3\",\n",
    "    code_block=\"\",\n",
    "    enforce_domains=\"NO_ENFORCE_DOMAINS\"\n",
    ")\n"
   ]
  },
  {
   "cell_type": "markdown",
   "metadata": {},
   "source": [
    "#### Add Fields"
   ]
  },
  {
   "cell_type": "code",
   "execution_count": 6,
   "metadata": {
    "ExecuteTime": {
     "end_time": "2023-08-09T23:30:13.405258Z",
     "start_time": "2023-08-09T23:29:13.529803Z"
    }
   },
   "outputs": [
    {
     "data": {
      "text/html": [
       "<div class='gpresult'><h2>Messages</h2><div id='messages' data-messages='[\"Start Time: Friday, August 11, 2023 3:07:34 PM\",\"Adding bike_HIN_Count_0 to Streets_Tahoe_Crashes...\",\"Succeeded at Friday, August 11, 2023 3:07:43 PM (Elapsed Time: 9.24 seconds)\"]' data-show='true'><div id = 'default' /></div></div>"
      ],
      "text/plain": [
       "<Result 'Streets_Tahoe_Crashes'>"
      ]
     },
     "execution_count": 6,
     "metadata": {},
     "output_type": "execute_result"
    }
   ],
   "source": [
    "arcpy.AddField_management(\"Streets_Tahoe_Crashes\", 'ped_HIN_0', \"SHORT\")\n",
    "arcpy.AddField_management(\"Streets_Tahoe_Crashes\", 'ped_HIN_05', \"SHORT\")\n",
    "arcpy.AddField_management(\"Streets_Tahoe_Crashes\", 'ped_HIN_tenth', \"SHORT\")\n",
    "arcpy.AddField_management(\"Streets_Tahoe_Crashes\", 'bike_HIN_0', \"SHORT\")\n",
    "arcpy.AddField_management(\"Streets_Tahoe_Crashes\", 'bike_HIN_tenth', \"SHORT\")\n",
    "arcpy.AddField_management(\"Streets_Tahoe_Crashes\", 'bike_HIN_05', \"SHORT\")\n",
    "arcpy.AddField_management(\"Streets_Tahoe_Crashes\", 'car_HIN_0', \"SHORT\")\n",
    "arcpy.AddField_management(\"Streets_Tahoe_Crashes\", 'car_HIN_tenth', \"SHORT\")\n",
    "arcpy.AddField_management(\"Streets_Tahoe_Crashes\", 'car_HIN_05', \"SHORT\")"
   ]
  },
  {
   "cell_type": "markdown",
   "metadata": {},
   "source": [
    "### Create totals and rates of victims by mile/mode"
   ]
  },
  {
   "cell_type": "code",
   "execution_count": 7,
   "metadata": {
    "ExecuteTime": {
     "end_time": "2023-08-09T23:30:14.772690Z",
     "start_time": "2023-08-09T23:30:13.405932Z"
    }
   },
   "outputs": [],
   "source": [
    "#Convert feature class to dataframe\n",
    "\n",
    "crash_df = pd.DataFrame.spatial.from_featureclass(\"Streets_Tahoe_Crashes\")\n",
    "\n",
    "Summary_Fields = ['Num_Killed', 'Num_Injured', 'Num_Ped_Killed','Num_Ped_Injured', 'Num_Bicyclist_Killed', 'Num_Bicyclist_Injured']\n",
    "\n",
    "crash_df[Summary_Fields]= crash_df[Summary_Fields].fillna(0)\n",
    "crash_df['Total_Victims'] = crash_df['Num_Killed'] + crash_df['Num_Injured']\n",
    "crash_df['Total_Ped']= crash_df['Num_Ped_Killed'] +crash_df['Num_Ped_Injured']\n",
    "crash_df['Total_Bicyclist']= crash_df['Num_Bicyclist_Killed'] +crash_df['Num_Bicyclist_Injured']\n",
    "crash_df['Total_Car'] = crash_df['Total_Victims'] - (crash_df['Total_Ped'] + crash_df['Total_Bicyclist'])\n",
    "crash_df['Victims_Per_Mile'] = crash_df['Total_Victims']/crash_df['Miles']\n",
    "\n",
    "crash_df['Car_Victims_Per_Mile']  =crash_df['Total_Car']/crash_df['Miles']\n",
    "crash_df['Bike_Victims_Per_Mile'] =crash_df['Total_Bicyclist']/crash_df['Miles']\n",
    "crash_df['Ped_Victims_Per_Mile']  =crash_df['Total_Ped']/crash_df['Miles']\n"
   ]
  },
  {
   "cell_type": "markdown",
   "metadata": {
    "heading_collapsed": true
   },
   "source": [
    "### Create HIN by Mode\n",
    "#### Selected segments sorted by rate of victims per mile until 65% of victims are accounted for"
   ]
  },
  {
   "cell_type": "code",
   "execution_count": 8,
   "metadata": {
    "ExecuteTime": {
     "end_time": "2023-08-09T23:30:19.330793Z",
     "start_time": "2023-08-09T23:30:14.773395Z"
    },
    "hidden": true
   },
   "outputs": [],
   "source": [
    "def assign_value(row, threshold):\n",
    "    if row['Miles'] > threshold:\n",
    "        return 'above_threshold'\n",
    "    else:\n",
    "        return 'below_threshold'\n",
    "\n",
    "def identify_HIN_segments(df, segment_threshold, victim_field, unique_id_field, rank_field):\n",
    "    df['threshold_status']=df.apply(assign_value, args=(segment_threshold,), axis = 1)\n",
    "    df_sorted = df.sort_values(by=rank_field, ignore_index = True, ascending = False)\n",
    "    total_victims = df_sorted[victim_field].sum()\n",
    "    df_sorted = df_sorted.loc[df_sorted['threshold_status']=='above_threshold']\n",
    "    df_sorted['Cumulative_Vics'] = df_sorted[victim_field].cumsum()\n",
    "    df_HIN = df_sorted[df_sorted['Cumulative_Vics']<= (.65 * total_victims)]\n",
    "    HIN_IDs = df_HIN[unique_id_field]\n",
    "    return HIN_IDs\n",
    "\n",
    "# run for different segment lenghth thresholds and for mode types\n",
    "Ped_HIN_0_ID      = identify_HIN_segments(crash_df, 0, 'Pedestrian_Involved_Numeric', 'UniqueID','Crash_Rate_Ped')\n",
    "Ped_HIN_05_ID     = identify_HIN_segments(crash_df, 0.05, 'Pedestrian_Involved_Numeric', 'UniqueID','Crash_Rate_Ped')\n",
    "Ped_HIN_tenth_ID  = identify_HIN_segments(crash_df, 0.1, 'Pedestrian_Involved_Numeric', 'UniqueID','Crash_Rate_Ped')\n",
    "Bike_HIN_0_ID     = identify_HIN_segments(crash_df, 0, 'Bicycle_Involved_Numeric', 'UniqueID','Crash_Rate_Bike')\n",
    "Bike_HIN_05_ID    = identify_HIN_segments(crash_df, 0.05, 'Bicycle_Involved_Numeric', 'UniqueID','Crash_Rate_Bike')\n",
    "Bike_HIN_tenth_ID = identify_HIN_segments(crash_df, 0.1, 'Bicycle_Involved_Numeric', 'UniqueID','Crash_Rate_Bike')\n",
    "Car_HIN_0_ID      = identify_HIN_segments(crash_df, 0, 'Total_Car', 'UniqueID','Car_Victims_Per_Mile')\n",
    "Car_HIN_tenth_ID  = identify_HIN_segments(crash_df, 0.1, 'Total_Car', 'UniqueID','Car_Victims_Per_Mile')\n",
    "Car_HIN_05_ID     = identify_HIN_segments(crash_df, 0.05, 'Total_Car', 'UniqueID','Car_Victims_Per_Mile')"
   ]
  },
  {
   "cell_type": "code",
   "execution_count": 9,
   "metadata": {
    "ExecuteTime": {
     "end_time": "2023-08-09T23:31:12.761359Z",
     "start_time": "2023-08-09T23:30:19.331971Z"
    },
    "hidden": true
   },
   "outputs": [],
   "source": [
    "# \n",
    "def addHIN(fc, idList, field_name):\n",
    "    # Update the new field based on presence in the list of Object IDs\n",
    "    with arcpy.da.UpdateCursor(fc, ['UniqueID', field_name]) as cursor:\n",
    "        for row in cursor:\n",
    "            value = row[0]\n",
    "            if value in idList.values:\n",
    "                row[1] = 1\n",
    "            else:\n",
    "                row[1] = 0   \n",
    "            cursor.updateRow(row)\n",
    "\n",
    "addHIN(\"Streets_Tahoe_Crashes\", Ped_HIN_0_ID, \"ped_HIN_0\")\n",
    "\n",
    "addHIN(\"Streets_Tahoe_Crashes\", Ped_HIN_05_ID, \"ped_HIN_05\")\n",
    "\n",
    "addHIN(\"Streets_Tahoe_Crashes\", Ped_HIN_tenth_ID, \"ped_HIN_tenth\")\n",
    "\n",
    "addHIN(\"Streets_Tahoe_Crashes\", Bike_HIN_0_ID, \"bike_HIN_0\")\n",
    "\n",
    "addHIN(\"Streets_Tahoe_Crashes\", Bike_HIN_05_ID, \"bike_HIN_05\")\n",
    "\n",
    "addHIN(\"Streets_Tahoe_Crashes\", Bike_HIN_tenth_ID, \"bike_HIN_tenth\")\n",
    "\n",
    "addHIN(\"Streets_Tahoe_Crashes\", Car_HIN_0_ID, \"car_HIN_0\")\n",
    "\n",
    "addHIN(\"Streets_Tahoe_Crashes\", Car_HIN_05_ID, \"car_HIN_05\")\n",
    "\n",
    "addHIN(\"Streets_Tahoe_Crashes\", Car_HIN_tenth_ID, \"car_HIN_tenth\")\n"
   ]
  },
  {
   "cell_type": "markdown",
   "metadata": {},
   "source": [
    "### Hot Spot Analysis of segments by Weighted Crash Severity"
   ]
  },
  {
   "cell_type": "code",
   "execution_count": 1,
   "metadata": {},
   "outputs": [
    {
     "data": {
      "text/html": [
       "<div class='gpresult'><h2>Messages</h2><div id='messages' data-messages='[\"Start Time: Friday, August 11, 2023 3:38:36 PM\",\"Succeeded at Friday, August 11, 2023 3:39:20 PM (Elapsed Time: 44.17 seconds)\"]' data-show='true'><div id = 'default' /></div></div>"
      ],
      "text/plain": [
       "<Result 'F:\\\\GIS\\\\PROJECTS\\\\Transportation\\\\Vision Zero\\\\CrashAnalysis\\\\Crash Analysis.gdb\\\\Streets_Tahoe_Crashes_HotSpots'>"
      ]
     },
     "execution_count": 1,
     "metadata": {},
     "output_type": "execute_result"
    }
   ],
   "source": [
    "arcpy.stats.HotSpots(\n",
    "    Input_Feature_Class=\"Streets_Tahoe_Crashes\",\n",
    "    Input_Field=\"Crash_Rate_Weighted\",\n",
    "    Output_Feature_Class=r\"F:\\GIS\\PROJECTS\\Transportation\\Vision Zero\\CrashAnalysis\\Crash Analysis.gdb\\Streets_Tahoe_Crashes_HotSpots\",\n",
    "    Conceptualization_of_Spatial_Relationships=\"FIXED_DISTANCE_BAND\",\n",
    "    Distance_Method=\"EUCLIDEAN_DISTANCE\",\n",
    "    Standardization=\"ROW\",\n",
    "    Distance_Band_or_Threshold_Distance=100,\n",
    "    Self_Potential_Field=None,\n",
    "    Weights_Matrix_File=None,\n",
    "    Apply_False_Discovery_Rate__FDR__Correction=\"NO_FDR\",\n",
    "    number_of_neighbors=None\n",
    ")"
   ]
  },
  {
   "cell_type": "code",
   "execution_count": null,
   "metadata": {},
   "outputs": [],
   "source": []
  }
 ],
 "metadata": {
  "kernelspec": {
   "display_name": "ArcGISPro",
   "language": "Python",
   "name": "python3"
  },
  "language_info": {
   "file_extension": ".py",
   "name": "python",
   "version": "3"
  },
  "toc": {
   "base_numbering": 1,
   "nav_menu": {},
   "number_sections": true,
   "sideBar": true,
   "skip_h1_title": false,
   "title_cell": "Table of Contents",
   "title_sidebar": "Contents",
   "toc_cell": false,
   "toc_position": {},
   "toc_section_display": true,
   "toc_window_display": false
  }
 },
 "nbformat": 4,
 "nbformat_minor": 2
}
