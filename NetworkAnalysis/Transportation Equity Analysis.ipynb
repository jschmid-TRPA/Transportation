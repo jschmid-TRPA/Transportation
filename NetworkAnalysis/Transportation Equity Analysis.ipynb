{
 "cells": [
  {
   "cell_type": "markdown",
   "metadata": {},
   "source": [
    "### Setup"
   ]
  },
  {
   "cell_type": "code",
   "execution_count": 1,
   "metadata": {
    "ExecuteTime": {
     "end_time": "2023-08-07T14:19:40.895599Z",
     "start_time": "2023-08-07T14:19:31.52265Z"
    }
   },
   "outputs": [],
   "source": [
    "# import packages\n",
    "import arcpy\n",
    "import os\n",
    "import pyodbc\n",
    "import pandas as pd\n",
    "import numpy as np\n",
    "from sqlalchemy.engine import URL, create_engine\n",
    "from arcgis import GIS\n",
    "\n",
    "# setup sql connection\n",
    "connection_string = \"DRIVER={ODBC Driver 17 for SQL Server};SERVER=sql12;DATABASE=sde;UID=sde;PWD=staff\"\n",
    "connection_url    = URL.create(\"mssql+pyodbc\", query={\"odbc_connect\": connection_string})\n",
    "conn              = create_engine(connection_url)\n",
    "\n",
    "# set workspace\n",
    "arcpy.env.workspace = \"F:\\GIS\\PROJECTS\\Transportation\\Equity\\Equity.gdb\"\n",
    "workspace           = \"F:\\GIS\\PROJECTS\\Transportation\\Equity\\Equity.gdb\"\n",
    "workspace_folder    = r\"F:\\GIS\\PROJECTS\\Transportation\\Equity\"\n",
    "# set overwrite to true\n",
    "arcpy.env.overwriteOutput = True\n",
    "\n",
    "# in memory output file path\n",
    "memory_workspace = \"memory\" + \"\\\\\"\n",
    "\n",
    "# set local variables\n",
    "# census data\n",
    "censusFeatures = \"F:\\GIS\\PROJECTS\\Transportation\\Equity\\Vector.sde\\sde.SDE.Census\\sde.SDE.Tahoe_Census_Geography\"\n",
    "censusTable    = \"F:\\GIS\\PROJECTS\\Transportation\\Equity\\Vector.sde\\sde.SDE.Census_Demographics\"\n",
    "\n",
    "# local gdb census data pre-processed\n",
    "dec2010  = \"Tahoe_Census_2010\"\n",
    "dec2020  = \"Tahoe_Census_2020\"\n",
    "acs2020  = \"Tahoe_ACS_2020\"\n",
    "zvh      = 'ZVH_2020_ACS'\n",
    "seniors  = 'Age_2020ACS'\n",
    "disabled = 'HH_Disability_2020ACS'\n",
    "poverty  = 'Poverty_2020ACS'\n",
    "indisable= 'Individual_Disability_2020ACS'\n",
    "\n",
    "# locations data\n",
    "grocery  = \"FreshFoodLocations\"\n",
    "medicare = \"HealthCareLocations\"\n",
    "freebeach= 'Free_Beaches'\n",
    "beaches  = \"Public_Beaches\"\n",
    "meetings = \"PublicMeetingLocations\"\n",
    "\n",
    "# slope classes\n",
    "slope    = \"C:\\GIS\\DB_CONNECT\\Raster.sde\\sde_imagery.SDE.Slope_Reclassified\"\n",
    "zonalstat_slopeClass = \"ZonalStat_Hex_SlopeClassTable\"\n",
    "\n",
    "# network dataset info\n",
    "nd_path =  r\"F:\\GIS\\GIS_DATA\\Transportation\\Basemap Features\\Roads\\Streets Network Dataset\\Streets_NEW_ND.gdb\\Streets_SDC_ND\\Streets_CA_NV_ND\"\n",
    "nd_layer_name = \"Streets_CA_NV\"\n",
    "\n",
    "# transportation network data\n",
    "streets    = \"F:\\GIS\\PROJECTS\\Transportation\\Equity\\Vector.sde\\sde.SDE.Transportation\\sde.SDE.Streets\"\n",
    "urban      = \"F:\\GIS\\PROJECTS\\Transportation\\Equity\\Vector.sde\\sde.SDE.Jurisdictions\\sde.SDE.UrbanAreas\"\n",
    "\n",
    "# service areas\n",
    "freebeachSA= os.path.join(workspace,\"Free_Beach_ServiceArea\")\n",
    "beachSA    = os.path.join(workspace,\"Public_Beach_ServiceArea\")\n",
    "grocerySA  = os.path.join(workspace,\"Fresh_Food_ServiceArea\")\n",
    "medicareSA = os.path.join(workspace,\"Medicare_ServiceArea\")\n",
    "meetingSA  = os.path.join(workspace,\"Public_Meetings_ServiceArea\")\n",
    "\n",
    "# crash data\n",
    "tahoeCrash   = r\"F:\\GIS\\PROJECTS\\Transportation\\Equity\\Vector.sde\\sde.SDE.Transportation\\sde.SDE.Tahoe_Crash\"\n",
    "crashFatal   = arcpy.MakeFeatureLayer_management(tahoeCrash, \"Fatal_Crash_Layer\", \"Crash_Severity = 'Fatal'\")\n",
    "crashSevere  = arcpy.MakeFeatureLayer_management(tahoeCrash, \"Severe_Crash_Layer\", \"Crash_Severity = 'Severe injury'\")\n",
    "crashOther   = arcpy.MakeFeatureLayer_management(tahoeCrash, \"Other_Crash_Layer\", \"Crash_Severity IN ('Complaint of pain', 'Other visible injury', 'Property damage only')\")\n",
    "crashBikePed = arcpy.MakeFeatureLayer_management(tahoeCrash, \"BikePed_Crash_Layer\", \"Bicycle_Involved = 'Y' And Pedestrian_Involved = 'Y'\")\n",
    "\n",
    "# hex bins tp aggregate data to\n",
    "tahoeHex1km   = \"TahoeTessellation_1sqkm\"\n",
    "tahoeHex01km  = \"TahoeTessellation_0_1sqkm\"\n",
    "\n",
    "# hex bins to store in memory joins\n",
    "hexCensus   = memory_workspace + \"Hex_Census\"\n",
    "hexZVH      = memory_workspace + \"Hex_ZVH\"\n",
    "hexSenior   = memory_workspace + \"Hex_SENIOR\"\n",
    "hexDisabled = memory_workspace + \"Hex_DISABLED\"\n",
    "hexPoverty  = memory_workspace + \"Hex_POVERTY\"\n",
    "# \n",
    "hexBeachSA    = memory_workspace + \"Hex_BeachSA\"\n",
    "hexGrocerySA  = memory_workspace + \"Hex_GrocerySA\"\n",
    "hexMedicareSA = memory_workspace + \"Hex_MedicareSA\"\n",
    "hexMeetingSA  = memory_workspace + \"Hex_MeetingSA\"\n",
    "\n",
    "# hex for crash data aggregations\n",
    "hexFatal    = memory_workspace + \"Hex_Fatal_Crash\"\n",
    "hexSevere   = memory_workspace + \"Hex_Severe_Crash\"\n",
    "hexMinor    = memory_workspace + \"Hex_Minor_Crash\"\n",
    "hexBikePed  = memory_workspace + \"Hex_BikePed_Crash\""
   ]
  },
  {
   "cell_type": "code",
   "execution_count": 10,
   "metadata": {
    "ExecuteTime": {
     "end_time": "2023-07-26T22:02:37.254359Z",
     "start_time": "2023-07-26T22:02:37.225298Z"
    }
   },
   "outputs": [],
   "source": [
    "# functions\n",
    "# transfer attributes from spatial join feature class to tessellation\n",
    "def fieldJoinCalc(updateFC, updateFieldsList, sourceFC, sourceFieldsList):\n",
    "    from time import strftime  \n",
    "    print (\"Started data transfer: \" + strftime(\"%Y-%m-%d %H:%M:%S\"))\n",
    "#     log.info(\"Started data transfer: \" + strftime(\"%Y-%m-%d %H:%M:%S\"))\n",
    "    # Use list comprehension to build a dictionary from arcpy SearchCursor  \n",
    "    valueDict = {r[0]:(r[1:]) for r in arcpy.da.SearchCursor(sourceFC, sourceFieldsList)}  \n",
    "    with arcpy.da.UpdateCursor(updateFC, updateFieldsList) as updateRows:  \n",
    "        for updateRow in updateRows:  \n",
    "            # store the Join value of the row being updated in a keyValue variable  \n",
    "            keyValue = updateRow[0]  \n",
    "            # verify that the keyValue is in the Dictionary  \n",
    "            if keyValue in valueDict:  \n",
    "                # transfer the value stored under the keyValue from the dictionary to the updated field.  \n",
    "                updateRow[1] = valueDict[keyValue][0]  \n",
    "                updateRows.updateRow(updateRow)    \n",
    "    del valueDict  \n",
    "    print (\"Finished data transfer: \" + strftime(\"%Y-%m-%d %H:%M:%S\"))\n",
    "\n",
    "# create service area\n",
    "def createServiceArea(nd_path, nd_layer_name):\n",
    "    # Check out the Network Analyst extension license.\n",
    "    arcpy.CheckOutExtension(\"network\")\n",
    "\n",
    "    # Create a network dataset layer. The layer will be referenced using its name.\n",
    "    arcpy.nax.MakeNetworkDatasetLayer(nd_path, nd_layer_name)\n",
    "\n",
    "    # Instantiate a ServiceArea analysis object.\n",
    "    service_area = arcpy.nax.ServiceArea(nd_layer_name)\n",
    "\n",
    "    # Get the desired travel mode for the analysis.\n",
    "    nd_travel_modes = arcpy.nax.GetTravelModes(nd_layer_name)\n",
    "    travel_mode = nd_travel_modes[\"New Travel Mode\"]\n",
    "\n",
    "    # Set properties.\n",
    "    service_area.distanceUnits     = arcpy.nax.DistanceUnits.Miles\n",
    "    service_area.defaultImpedanceCutoffs = [402.336,804.672,1609.344,3218.688, 6400]\n",
    "    service_area.travelMode        = travel_mode\n",
    "    service_area.allowAutoRelocate = True\n",
    "    service_area.outputType        = arcpy.nax.ServiceAreaOutputType.Polygons\n",
    "    service_area.geometryAtOverlap = arcpy.nax.ServiceAreaOverlapGeometry.Split\n",
    "    service_area.searchTolerance   = 5000\n",
    "    return service_area\n",
    "\n",
    "# solve service area\n",
    "def solveServiceArea(input_facilities, output_polygons, service_area):\n",
    "    arcpy.management.Delete(output_polygons)\n",
    "#     createServiceArea(nd_path,nd_layer_name)\n",
    "    # load facilities\n",
    "    service_area.load(arcpy.nax.ServiceAreaInputDataType.Facilities, \n",
    "                  input_facilities)\n",
    "    \n",
    "    # Solve the analysis.\n",
    "    result = service_area.solve()\n",
    "    # Export the results to a feature class. If the analysis failed print all the \n",
    "    # messages.\n",
    "    if result.solveSucceeded:\n",
    "        result.export(arcpy.nax.ServiceAreaOutputDataType.Polygons, output_polygons)\n",
    "        print (f\"Service Area generated for {input_facilities} and saved as {output_polygons}\")\n",
    "    else:\n",
    "        arcpy.AddError(\"Analysis failed\")\n",
    "        # Print all the warning messages.\n",
    "        for message in result.solverMessages(arcpy.nax.MessageSeverity.Warning):\n",
    "            arcpy.AddWarning(message[-1])\n",
    "        # Print all the error messages.\n",
    "        for message in result.solverMessages(arcpy.nax.MessageSeverity.Error):\n",
    "            arcpy.AddError(message[-1])\n"
   ]
  },
  {
   "cell_type": "markdown",
   "metadata": {},
   "source": [
    "## Analysis"
   ]
  },
  {
   "cell_type": "markdown",
   "metadata": {
    "heading_collapsed": true
   },
   "source": [
    "### Census Data Processing"
   ]
  },
  {
   "cell_type": "code",
   "execution_count": 60,
   "metadata": {
    "ExecuteTime": {
     "end_time": "2023-07-26T05:57:46.976352Z",
     "start_time": "2023-07-26T05:57:32.263642Z"
    },
    "hidden": true
   },
   "outputs": [
    {
     "data": {
      "text/plain": [
       "'F:\\\\GIS\\\\PROJECTS\\\\Transportation\\\\Equity\\\\Equity.gdb\\\\CensusValues_BlockGroup_ACS2021'"
      ]
     },
     "execution_count": 60,
     "metadata": {},
     "output_type": "execute_result"
    }
   ],
   "source": [
    "# get Block Group Values\n",
    "# read in census table\n",
    "dfCensus      = pd.read_sql('SELECT * FROM sde.SDE.Census_Demographics', conn)\n",
    "\n",
    "# filter for the 2020 Block Groups\n",
    "dfCensus.loc[(dfCensus.sample_level == 'block group') & (dfCensus.year_sample == 2021)]\n",
    "\n",
    "# flatten census table to values\n",
    "pivotCensus = pd.pivot_table(dfCensus,index=['TRPAID'],\n",
    "                              columns='variable_name',\n",
    "                              values=['value'], \n",
    "                              aggfunc=np.sum,fill_value=0)\n",
    "\n",
    "# flatten out pivoted values\n",
    "flattened = pd.DataFrame(pivotCensus.to_records())\n",
    "\n",
    "# rename columns\n",
    "df = flattened.rename(columns={\n",
    "    \"('value', 'Total Renter Occupied Households No Vehicle Available')\":\"Renter_Zero_Vehicle_Households\",\n",
    "    \"('value', 'Total Owner Occupied Households No Vehicle Available')\":\"Owner_Zero_Vehicle_Households\",\n",
    "    \"('value', 'Below Poverty Status (Individuals)')\":'Individual_Poverty',\n",
    "    \"('value', 'Poverty Status of Households Below Poverty level')\":'Household_Poverty',\n",
    "    \"('value', 'Total Disability Population')\":'Total_Disabled',\n",
    "    \"('value', '65 to 74')\": \"Over_65\",\n",
    "    \"('value', 'Over 75')\" : \"Over_75\",\n",
    "    \"('value', 'Total Households')\":'Total_Households',\n",
    "    \"('value', 'Total')\":'Total_Population'\n",
    "                                })\n",
    "\n",
    "df[\"Zero_Vehicle_Households\"]      = df[\"Owner_Zero_Vehicle_Households\"]+df[\"Renter_Zero_Vehicle_Households\"]\n",
    "df['Total_Seniors']                = df[\"Over_65\"]+df['Over_75']\n",
    "df['Percent_Individual_Poverty']   = (df['Individual_Poverty']/df['Total_Population'])*100\n",
    "df['Percent_Household_Poverty']    = (df['Household_Poverty']/df['Total_Households'])*100\n",
    "df['Percent_Senior']               = (df['Total_Seniors']/df['Total_Population'])*100\n",
    "df['Percent_Disabled']             = (df['Total_Disabled']/df['Total_Population'])*100\n",
    "df['Percent_ZeroVehicleHousehold'] =(df['Zero_Vehicle_Households']/df['Total_Households'])*100\n",
    "# pair down fields\n",
    "dfNew = df[[\"TRPAID\",\n",
    "            'Individual_Poverty','Household_Poverty',\n",
    "            \"Total_Disabled\",\"Zero_Vehicle_Households\",\n",
    "            \"Total_Seniors\",\"Percent_Senior\", \"Percent_Disabled\",\n",
    "            \"Percent_Individual_Poverty\",\"Percent_Household_Poverty\",\n",
    "            \"Percent_ZeroVehicleHousehold\",            \n",
    "            \"Total_Households\", \"Total_Population\"]]\n",
    "\n",
    "# set index\n",
    "dfNew.set_index('TRPAID')\n",
    "\n",
    "# export table to workspace geodatabase\n",
    "dfNew.spatial.to_table(os.path.join(workspace,\"CensusValues_BlockGroup_ACS2021\"))\n",
    "# # export to table\n",
    "# dfNew.to_csv(os.path.join(workspace_folder, \"CensusValues_BlockGroup_ACS2021.csv\"))"
   ]
  },
  {
   "cell_type": "code",
   "execution_count": 61,
   "metadata": {
    "ExecuteTime": {
     "end_time": "2023-07-26T05:58:08.441672Z",
     "start_time": "2023-07-26T05:57:55.207280Z"
    },
    "hidden": true
   },
   "outputs": [
    {
     "data": {
      "text/html": [
       "<div class='gpresult'><h2>Messages</h2><div id='messages' data-messages='[\"Start Time: Tuesday, July 25, 2023 10:58:00 PM\",\"Succeeded at Tuesday, July 25, 2023 10:58:08 PM (Elapsed Time: 7.51 seconds)\"]' data-show='true'><div id = 'default' /></div></div>"
      ],
      "text/plain": [
       "<Result 'F:\\\\GIS\\\\PROJECTS\\\\Transportation\\\\Equity\\\\Equity.gdb\\\\TahoeCensus_BlockGroups_2020'>"
      ]
     },
     "execution_count": 61,
     "metadata": {},
     "output_type": "execute_result"
    }
   ],
   "source": [
    "# join new table to feature class\n",
    "censusValues = os.path.join(workspace,\"CensusValues_BlockGroup_ACS2021\")\n",
    "censusBlockGroups = arcpy.MakeFeatureLayer_management(censusFeatures, \"Census_BlockGroup_Layer\", \n",
    "                                                      \"Geography = 'Block Group' AND Year = 2020\")\n",
    "# join to features\n",
    "censusBlockGroupValues    = arcpy.management.AddJoin(censusBlockGroups, \"TRPAID\",censusValues, \"TRPAID\")\n",
    "\n",
    "# copy out new feature class\n",
    "arcpy.management.CopyFeatures(censusBlockGroupValues, \"TahoeCensus_BlockGroups_2020\")"
   ]
  },
  {
   "cell_type": "markdown",
   "metadata": {},
   "source": [
    "### Generate Tessellations"
   ]
  },
  {
   "cell_type": "code",
   "execution_count": 42,
   "metadata": {
    "ExecuteTime": {
     "end_time": "2023-07-26T04:44:35.129138Z",
     "start_time": "2023-07-26T04:42:15.588655Z"
    },
    "scrolled": true
   },
   "outputs": [
    {
     "data": {
      "text/html": [
       "<div class='gpresult'><h2>Messages</h2><div id='messages' data-messages='[\"Start Time: Tuesday, July 25, 2023 9:44:30 PM\",\"Succeeded at Tuesday, July 25, 2023 9:44:34 PM (Elapsed Time: 4.83 seconds)\"]' data-show='true'><div id = 'default' /></div></div>"
      ],
      "text/plain": [
       "<Result 'TahoeTessellation_0_1sqkm'>"
      ]
     },
     "execution_count": 42,
     "metadata": {},
     "output_type": "execute_result"
    }
   ],
   "source": [
    "arcpy.management.GenerateTessellation(\n",
    "    Output_Feature_Class=\"TahoeTessellation_0_1sqkm\",\n",
    "    Extent='-13388021.2623077 4678916.64488463 -13342410.4544964 4769413.84969433 PROJCS[\"WGS_1984_Web_Mercator_Auxiliary_Sphere\",GEOGCS[\"GCS_WGS_1984\",DATUM[\"D_WGS_1984\",SPHEROID[\"WGS_1984\",6378137.0,298.257223563]],PRIMEM[\"Greenwich\",0.0],UNIT[\"Degree\",0.0174532925199433]],PROJECTION[\"Mercator_Auxiliary_Sphere\"],PARAMETER[\"False_Easting\",0.0],PARAMETER[\"False_Northing\",0.0],PARAMETER[\"Central_Meridian\",0.0],PARAMETER[\"Standard_Parallel_1\",0.0],PARAMETER[\"Auxiliary_Sphere_Type\",0.0],UNIT[\"Meter\",1.0]]',\n",
    "    Shape_Type=\"HEXAGON\",\n",
    "    Size=\"0.1 SquareKilometers\",\n",
    "    Spatial_Reference='PROJCS[\"NAD_1983_UTM_Zone_10N\",GEOGCS[\"GCS_North_American_1983\",DATUM[\"D_North_American_1983\",SPHEROID[\"GRS_1980\",6378137.0,298.257222101]],PRIMEM[\"Greenwich\",0.0],UNIT[\"Degree\",0.0174532925199433]],PROJECTION[\"Transverse_Mercator\"],PARAMETER[\"False_Easting\",500000.0],PARAMETER[\"False_Northing\",0.0],PARAMETER[\"Central_Meridian\",-123.0],PARAMETER[\"Scale_Factor\",0.9996],PARAMETER[\"Latitude_Of_Origin\",0.0],UNIT[\"Meter\",1.0]];-5120900 -9998100 10000.0016462827;-100000 10000;-100000 10000;1.00000016391277E-03;0.001;0.001;IsHighPrecision',\n",
    "    H3_Resolution=7\n",
    ")\n",
    "\n",
    "arcpy.management.SelectLayerByLocation(\n",
    "    in_layer=\"TahoeTessellation_0_1sqkm\",\n",
    "    overlap_type=\"INTERSECT\",\n",
    "    select_features=\"TRPABoundary_Erase\",\n",
    "    search_distance=None,\n",
    "    selection_type=\"NEW_SELECTION\",\n",
    "    invert_spatial_relationship=\"INVERT\"\n",
    ")\n",
    "\n",
    "arcpy.management.DeleteRows(\n",
    "    in_rows=\"TahoeTessellation_0_1sqkm\"\n",
    ")"
   ]
  },
  {
   "cell_type": "code",
   "execution_count": 43,
   "metadata": {
    "ExecuteTime": {
     "end_time": "2023-07-26T04:44:59.773880Z",
     "start_time": "2023-07-26T04:44:35.129967Z"
    }
   },
   "outputs": [
    {
     "data": {
      "text/html": [
       "<div class='gpresult'><h2>Messages</h2><div id='messages' data-messages='[\"Start Time: Tuesday, July 25, 2023 9:44:55 PM\",\"Succeeded at Tuesday, July 25, 2023 9:44:58 PM (Elapsed Time: 3.33 seconds)\"]' data-show='true'><div id = 'default' /></div></div>"
      ],
      "text/plain": [
       "<Result 'TahoeTessellation_1sqkm'>"
      ]
     },
     "execution_count": 43,
     "metadata": {},
     "output_type": "execute_result"
    }
   ],
   "source": [
    "arcpy.management.GenerateTessellation(\n",
    "    Output_Feature_Class=\"TahoeTessellation_1sqkm\",\n",
    "    Extent=\"737668.911313948 4288193.03147232 770952.921734459 4357302.88519489\",\n",
    "    Shape_Type=\"TRANSVERSE_HEXAGON\",\n",
    "    Size=\"1 SquareKilometers\",\n",
    "    Spatial_Reference='PROJCS[\"NAD_1983_UTM_Zone_10N\",GEOGCS[\"GCS_North_American_1983\",DATUM[\"D_North_American_1983\",SPHEROID[\"GRS_1980\",6378137.0,298.257222101]],PRIMEM[\"Greenwich\",0.0],UNIT[\"Degree\",0.0174532925199433]],PROJECTION[\"Transverse_Mercator\"],PARAMETER[\"False_Easting\",500000.0],PARAMETER[\"False_Northing\",0.0],PARAMETER[\"Central_Meridian\",-123.0],PARAMETER[\"Scale_Factor\",0.9996],PARAMETER[\"Latitude_Of_Origin\",0.0],UNIT[\"Meter\",1.0]];-5120900 -9998100 10000;-100000 10000;-100000 10000;0.001;0.001;0.001;IsHighPrecision'\n",
    ")\n",
    "\n",
    "arcpy.management.SelectLayerByLocation(\n",
    "    in_layer=\"TahoeTessellation_1sqkm\",\n",
    "    overlap_type=\"INTERSECT\",\n",
    "    select_features=\"TRPABoundary_Erase\",\n",
    "    search_distance=None,\n",
    "    selection_type=\"NEW_SELECTION\",\n",
    "    invert_spatial_relationship=\"INVERT\"\n",
    ")\n",
    "\n",
    "arcpy.management.DeleteRows(\n",
    "    in_rows= \"TahoeTessellation_1sqkm\"\n",
    ")\n"
   ]
  },
  {
   "cell_type": "markdown",
   "metadata": {},
   "source": [
    "### Add Fields"
   ]
  },
  {
   "cell_type": "code",
   "execution_count": 44,
   "metadata": {
    "ExecuteTime": {
     "end_time": "2023-07-26T04:47:00.189007Z",
     "start_time": "2023-07-26T04:45:49.726590Z"
    }
   },
   "outputs": [
    {
     "data": {
      "text/html": [
       "<div class='gpresult'><h2>Messages</h2><div id='messages' data-messages='[\"Start Time: Tuesday, July 25, 2023 9:46:57 PM\",\"Adding HAS_ROAD to TahoeTessellation_0_1sqkm...\",\"Succeeded at Tuesday, July 25, 2023 9:46:59 PM (Elapsed Time: 2.58 seconds)\"]' data-show='true'><div id = 'default' /></div></div>"
      ],
      "text/plain": [
       "<Result 'TahoeTessellation_0_1sqkm'>"
      ]
     },
     "execution_count": 44,
     "metadata": {},
     "output_type": "execute_result"
    }
   ],
   "source": [
    "# Add fields to accept join values\n",
    " \n",
    "# Set local variables\n",
    "# inFeatures = \"TahoeTessellation_1sqkm\"\n",
    "inFeatures = tahoeHex01km\n",
    "fieldPrecision = 9\n",
    "\n",
    "fieldName1  = \"DISABILITY_DENSITY\"\n",
    "fieldAlias1 = \"Disability Density\"\n",
    "\n",
    "fieldName2  = \"POVERTY_DENSITY\"\n",
    "fieldAlias2 = \"Poverty Density\"\n",
    "\n",
    "fieldName3  = \"ZEROVHH_DENSITY\"\n",
    "fieldAlias3 = \"Zero-Vehicle Household Density\"\n",
    "\n",
    "fieldName4  = \"SENIOR_DENSITY\"\n",
    "fieldAlias4 = \"Senior Density\"\n",
    "\n",
    "fieldName5  = \"FOOD_ACCESS_DISTANCE\"\n",
    "fieldAlias5  = \"Distance to Food Access\"\n",
    "\n",
    "fieldName6  = \"BEACH_ACCESS_DISTANCE\"\n",
    "fieldAlias6 = \"Distance to Free Public Beach\"\n",
    "\n",
    "fieldName7  = \"MEDICARE_ACCESS_DISTANCE\"\n",
    "fieldAlias7 = \"Distance to Medicare Facility\"\n",
    "\n",
    "fieldName8  = \"MEETING_ACCESS_DISTANCE\"\n",
    "fieldAlias8 = \"Distance to Public Meeting Location\"\n",
    "\n",
    "fieldName9  = \"TRANSIT_ACCESS_DISTANCE\"\n",
    "fieldAlias9 = \"Distance to Transit Stop\"\n",
    "\n",
    "fieldName10 = \"SEVERE_CRASH_COUNT\"\n",
    "fieldAlias10= \"Number of Severe Crashes\"\n",
    "\n",
    "fieldName11 = \"FATAL_CRASH_COUNT\"\n",
    "fieldAlias11= \"Number of Fatal Crashes\"\n",
    "\n",
    "fieldName12 = \"OTHER_CRASH_COUNT\"\n",
    "fieldAlias12= \"Number of Minor Crashes\"\n",
    "\n",
    "fieldName21 = \"BIKEPED_CRASH_COUNT\"\n",
    "fieldAlias21= \"Number of Bike/Ped Crashes\"\n",
    "\n",
    "fieldName13  = \"DISABILITY_TOTAL\"\n",
    "fieldAlias13 = \"Disability Total\"\n",
    "\n",
    "fieldName14  = \"POVERTY_TOTAL\"\n",
    "fieldAlias14 = \"Poverty Total\"\n",
    "\n",
    "fieldName15  = \"ZEROVHH_TOTAL\"\n",
    "fieldAlias15 = \"Zero-Vehicle Household Total\"\n",
    "\n",
    "fieldName16  = \"SENIOR_TOTAL\"\n",
    "fieldAlias16 = \"Senior Total\"\n",
    "\n",
    "fieldName17  = \"DISABILITY_PERCENT\"\n",
    "fieldAlias17 = \"Disability Percent\"\n",
    "\n",
    "fieldName18  = \"POVERTY_PERCENT\"\n",
    "fieldAlias18 = \"Poverty Percent\"\n",
    "\n",
    "fieldName19  = \"ZEROVHH_PERCENT\"\n",
    "fieldAlias19 = \"Zero-Vehicle Household Percent\"\n",
    "\n",
    "fieldName20  = \"SENIOR_PERCENT\"\n",
    "fieldAlias20 = \"Senior Percent\"\n",
    "\n",
    "### Density Fields\n",
    "# Run AddField \n",
    "arcpy.management.AddField(inFeatures, \n",
    "                          fieldName1, \"DOUBLE\", \n",
    "                          fieldPrecision,\n",
    "                          field_alias=fieldAlias1, \n",
    "                          field_is_nullable=\"NULLABLE\")\n",
    "# Run AddField \n",
    "arcpy.management.AddField(inFeatures, \n",
    "                          fieldName2, \"DOUBLE\", \n",
    "                          fieldPrecision,\n",
    "                          field_alias=fieldAlias2, \n",
    "                          field_is_nullable=\"NULLABLE\")\n",
    "# Run AddField \n",
    "arcpy.management.AddField(inFeatures, \n",
    "                          fieldName3, \"DOUBLE\", \n",
    "                          fieldPrecision,\n",
    "                          field_alias=fieldAlias3, \n",
    "                          field_is_nullable=\"NULLABLE\")\n",
    "# Run AddField \n",
    "arcpy.management.AddField(inFeatures, \n",
    "                          fieldName4, \"DOUBLE\", \n",
    "                          fieldPrecision,\n",
    "                          field_alias=fieldAlias4, \n",
    "                          field_is_nullable=\"NULLABLE\")\n",
    "### Distance From Fields\n",
    "# Run AddField\n",
    "arcpy.management.AddField(inFeatures, \n",
    "                          fieldName5, \"DOUBLE\", \n",
    "                          fieldPrecision,\n",
    "                          field_alias=fieldAlias5, \n",
    "                          field_is_nullable=\"NULLABLE\")\n",
    "# Run AddField \n",
    "arcpy.management.AddField(inFeatures, \n",
    "                          fieldName6, \"DOUBLE\", \n",
    "                          fieldPrecision,\n",
    "                          field_alias=fieldAlias6, \n",
    "                          field_is_nullable=\"NULLABLE\")\n",
    "# Run AddField \n",
    "arcpy.management.AddField(inFeatures, \n",
    "                          fieldName7, \"DOUBLE\", \n",
    "                          fieldPrecision,\n",
    "                          field_alias=fieldAlias7, \n",
    "                          field_is_nullable=\"NULLABLE\")\n",
    "# Run AddField \n",
    "arcpy.management.AddField(inFeatures, \n",
    "                          fieldName8, \"DOUBLE\", \n",
    "                          fieldPrecision,\n",
    "                          field_alias=fieldAlias8, \n",
    "                          field_is_nullable=\"NULLABLE\")\n",
    "\n",
    "# Run AddField \n",
    "arcpy.management.AddField(inFeatures, \n",
    "                          fieldName9, \"DOUBLE\", \n",
    "                          fieldPrecision,\n",
    "                          field_alias=fieldAlias9, \n",
    "                          field_is_nullable=\"NULLABLE\")\n",
    "\n",
    "# Run AddField \n",
    "arcpy.management.AddField(inFeatures, \n",
    "                          fieldName10, \"DOUBLE\", \n",
    "                          fieldPrecision,\n",
    "                          field_alias=fieldAlias10, \n",
    "                          field_is_nullable=\"NULLABLE\")\n",
    "\n",
    "# Run AddField \n",
    "arcpy.management.AddField(inFeatures, \n",
    "                          fieldName11, \"DOUBLE\", \n",
    "                          fieldPrecision,\n",
    "                          field_alias=fieldAlias11, \n",
    "                          field_is_nullable=\"NULLABLE\")\n",
    "\n",
    "# Run AddField \n",
    "arcpy.management.AddField(inFeatures, \n",
    "                          fieldName12, \"DOUBLE\", \n",
    "                          fieldPrecision,\n",
    "                          field_alias=fieldAlias12, \n",
    "                          field_is_nullable=\"NULLABLE\")\n",
    "# Run AddField \n",
    "arcpy.management.AddField(inFeatures, \n",
    "                          fieldName13, \"DOUBLE\", \n",
    "                          fieldPrecision,\n",
    "                          field_alias=fieldAlias13, \n",
    "                          field_is_nullable=\"NULLABLE\")\n",
    "\n",
    "# Run AddField \n",
    "arcpy.management.AddField(inFeatures, \n",
    "                          fieldName14, \"DOUBLE\", \n",
    "                          fieldPrecision,\n",
    "                          field_alias=fieldAlias14, \n",
    "                          field_is_nullable=\"NULLABLE\")\n",
    "\n",
    "# Run AddField \n",
    "arcpy.management.AddField(inFeatures, \n",
    "                          fieldName15, \"DOUBLE\", \n",
    "                          fieldPrecision,\n",
    "                          field_alias=fieldAlias15, \n",
    "                          field_is_nullable=\"NULLABLE\")\n",
    "\n",
    "# Run AddField \n",
    "arcpy.management.AddField(inFeatures, \n",
    "                          fieldName16, \"DOUBLE\", \n",
    "                          fieldPrecision,\n",
    "                          field_alias=fieldAlias16, \n",
    "                          field_is_nullable=\"NULLABLE\")\n",
    "# Run AddField \n",
    "arcpy.management.AddField(inFeatures, \n",
    "                          fieldName17, \"DOUBLE\", \n",
    "                          fieldPrecision,\n",
    "                          field_alias=fieldAlias17, \n",
    "                          field_is_nullable=\"NULLABLE\")\n",
    "\n",
    "# Run AddField \n",
    "arcpy.management.AddField(inFeatures, \n",
    "                          fieldName18, \"DOUBLE\", \n",
    "                          fieldPrecision,\n",
    "                          field_alias=fieldAlias18, \n",
    "                          field_is_nullable=\"NULLABLE\")\n",
    "\n",
    "# Run AddField \n",
    "arcpy.management.AddField(inFeatures, \n",
    "                          fieldName19, \"DOUBLE\", \n",
    "                          fieldPrecision,\n",
    "                          field_alias=fieldAlias19, \n",
    "                          field_is_nullable=\"NULLABLE\")\n",
    "\n",
    "# Run AddField \n",
    "arcpy.management.AddField(inFeatures, \n",
    "                          fieldName20, \"DOUBLE\", \n",
    "                          fieldPrecision,\n",
    "                          field_alias=fieldAlias20, \n",
    "                          field_is_nullable=\"NULLABLE\")\n",
    "\n",
    "# Run AddField \n",
    "arcpy.management.AddField(inFeatures, \n",
    "                          fieldName21, \"DOUBLE\", \n",
    "                          fieldPrecision,\n",
    "                          field_alias=fieldAlias21, \n",
    "                          field_is_nullable=\"NULLABLE\")\n",
    "\n",
    "# Run AddField \n",
    "arcpy.management.AddField(inFeatures, \n",
    "                          \"MAJORITY_SLOPE_CLASS\", \"SHORT\", \n",
    "                          field_alias=\"Majority Slope Class\")\n",
    "\n",
    "# Run AddField \n",
    "arcpy.management.AddField(inFeatures, \n",
    "                          \"IS_URBAN\", \"TEXT\", \n",
    "                          field_alias=\"Within Urban Area Boundary?\", \n",
    "                          field_is_nullable=\"NULLABLE\")\n",
    "\n",
    "# Run AddField \n",
    "arcpy.management.AddField(inFeatures, \n",
    "                          \"HAS_ROAD\", \"TEXT\", \n",
    "                          field_alias=\"Road within Hex?\", \n",
    "                          field_is_nullable=\"NULLABLE\")\n"
   ]
  },
  {
   "cell_type": "code",
   "execution_count": null,
   "metadata": {},
   "outputs": [],
   "source": []
  },
  {
   "cell_type": "code",
   "execution_count": 2,
   "metadata": {
    "ExecuteTime": {
     "end_time": "2023-07-25T16:57:15.288948Z",
     "start_time": "2023-07-25T16:57:11.330424Z"
    }
   },
   "outputs": [],
   "source": []
  },
  {
   "cell_type": "markdown",
   "metadata": {},
   "source": [
    "### Spatial Joins & Zonal Stats"
   ]
  },
  {
   "cell_type": "code",
   "execution_count": 11,
   "metadata": {
    "ExecuteTime": {
     "end_time": "2023-07-26T22:08:45.602851Z",
     "start_time": "2023-07-26T22:02:50.335441Z"
    },
    "scrolled": true
   },
   "outputs": [
    {
     "name": "stdout",
     "output_type": "stream",
     "text": [
      "Started data transfer: 2023-07-26 15:05:08\n",
      "Finished data transfer: 2023-07-26 15:05:10\n",
      "Started data transfer: 2023-07-26 15:05:30\n",
      "Finished data transfer: 2023-07-26 15:05:31\n",
      "Started data transfer: 2023-07-26 15:05:31\n",
      "Finished data transfer: 2023-07-26 15:05:33\n",
      "Started data transfer: 2023-07-26 15:05:33\n",
      "Finished data transfer: 2023-07-26 15:05:34\n",
      "Started data transfer: 2023-07-26 15:05:34\n",
      "Finished data transfer: 2023-07-26 15:05:35\n",
      "Started data transfer: 2023-07-26 15:05:35\n",
      "Finished data transfer: 2023-07-26 15:05:36\n",
      "Started data transfer: 2023-07-26 15:05:36\n",
      "Finished data transfer: 2023-07-26 15:05:37\n",
      "Started data transfer: 2023-07-26 15:05:37\n",
      "Finished data transfer: 2023-07-26 15:05:38\n",
      "Started data transfer: 2023-07-26 15:05:38\n",
      "Finished data transfer: 2023-07-26 15:05:39\n",
      "Started data transfer: 2023-07-26 15:05:56\n",
      "Finished data transfer: 2023-07-26 15:05:58\n",
      "Started data transfer: 2023-07-26 15:06:16\n",
      "Finished data transfer: 2023-07-26 15:06:19\n",
      "Started data transfer: 2023-07-26 15:06:40\n",
      "Finished data transfer: 2023-07-26 15:06:41\n",
      "Started data transfer: 2023-07-26 15:06:57\n",
      "Finished data transfer: 2023-07-26 15:06:58\n",
      "Started data transfer: 2023-07-26 15:07:37\n",
      "Finished data transfer: 2023-07-26 15:07:39\n",
      "Started data transfer: 2023-07-26 15:07:39\n",
      "Finished data transfer: 2023-07-26 15:07:40\n",
      "Started data transfer: 2023-07-26 15:07:40\n",
      "Finished data transfer: 2023-07-26 15:07:41\n",
      "Started data transfer: 2023-07-26 15:07:41\n",
      "Finished data transfer: 2023-07-26 15:07:42\n",
      "Started data transfer: 2023-07-26 15:07:47\n",
      "Finished data transfer: 2023-07-26 15:07:48\n",
      "Started data transfer: 2023-07-26 15:07:53\n",
      "Finished data transfer: 2023-07-26 15:07:54\n",
      "Started data transfer: 2023-07-26 15:07:59\n",
      "Finished data transfer: 2023-07-26 15:08:00\n",
      "Started data transfer: 2023-07-26 15:08:04\n",
      "Finished data transfer: 2023-07-26 15:08:05\n"
     ]
    },
    {
     "data": {
      "text/html": [
       "<div class='gpresult'><h2>Messages</h2><div id='messages' data-messages='[\"Start Time: Wednesday, July 26, 2023 3:08:39 PM\",\"Succeeded at Wednesday, July 26, 2023 3:08:40 PM (Elapsed Time: 0.55 seconds)\"]' data-show='true'><div id = 'default' /></div></div>"
      ],
      "text/plain": [
       "<Result 'TahoeTessellation_0_1sqkm_La6'>"
      ]
     },
     "execution_count": 11,
     "metadata": {},
     "output_type": "execute_result"
    }
   ],
   "source": [
    "# zonal stats as table - hex bin & slope class\n",
    "arcpy.ia.ZonalStatisticsAsTable(\n",
    "    in_zone_data=tahoeHex01km ,\n",
    "    zone_field=\"GRID_ID\",\n",
    "    in_value_raster=slope,\n",
    "    out_table=zonalstat_slopeClass,\n",
    "    ignore_nodata=\"DATA\",\n",
    "    statistics_type=\"MAJORITY\"\n",
    ")\n",
    "\n",
    "# transfer attributes to hex Layer\n",
    "fieldJoinCalc(tahoeHex01km, ['GRID_ID','MAJORITY_SLOPE_CLASS'], \n",
    "              zonalstat_slopeClass,  ['GRID_ID','MAJORITY'])\n",
    "\n",
    "### Census Attribute Update -----------------------------------------------------------------------------------###\n",
    "# Spatial Join\n",
    "arcpy.SpatialJoin_analysis(tahoeHex01km, \"TahoeCensus_BlockGroups_2020\", hexCensus, \n",
    "                           \"JOIN_ONE_TO_ONE\", \"KEEP_ALL\", \"\", \n",
    "                           \"HAVE_THEIR_CENTER_IN\", \"\", \"\")\n",
    "\n",
    "# transfer attributes to hex Layer\n",
    "fieldJoinCalc(tahoeHex01km, ['GRID_ID','DISABILITY_TOTAL'], \n",
    "              hexCensus,    ['GRID_ID','CensusValues_BlockGroup_ACS2021_Total_Disabled'])\n",
    "# transfer attributes to hex Layer\n",
    "fieldJoinCalc(tahoeHex01km, ['GRID_ID','POVERTY_TOTAL'], \n",
    "              hexCensus,    ['GRID_ID','CensusValues_BlockGroup_ACS2021_Individual_Poverty'])\n",
    "# transfer attributes to hex Layer\n",
    "fieldJoinCalc(tahoeHex01km, ['GRID_ID','ZEROVHH_TOTAL'], \n",
    "              hexCensus,    ['GRID_ID','CensusValues_BlockGroup_ACS2021_Zero_Vehicle_Households'])\n",
    "# transfer attributes to hex Layer\n",
    "fieldJoinCalc(tahoeHex01km, ['GRID_ID','SENIOR_TOTAL'], \n",
    "              hexCensus,    ['GRID_ID','CensusValues_BlockGroup_ACS2021_Total_Seniors'])\n",
    "\n",
    "# transfer attributes to hex Layer\n",
    "fieldJoinCalc(tahoeHex01km, ['GRID_ID','SENIOR_PERCENT'], \n",
    "              hexCensus,    ['GRID_ID','CensusValues_BlockGroup_ACS2021_Percent_Senior'])\n",
    "# transfer attributes to hex Layer\n",
    "fieldJoinCalc(tahoeHex01km, ['GRID_ID','DISABILITY_PERCENT'], \n",
    "              hexCensus,    ['GRID_ID','CensusValues_BlockGroup_ACS2021_Percent_Disabled'])\n",
    "# transfer attributes to hex Layer\n",
    "fieldJoinCalc(tahoeHex01km, ['GRID_ID','POVERTY_PERCENT'], \n",
    "              hexCensus,    ['GRID_ID','CensusValues_BlockGroup_ACS2021_Percent_Individual_Poverty'])\n",
    "# transfer attributes to hex Layer\n",
    "fieldJoinCalc(tahoeHex01km, ['GRID_ID','ZEROVHH_PERCENT'], \n",
    "              hexCensus,    ['GRID_ID','CensusValues_BlockGroup_ACS2021_Percent_ZeroVehicleHousehold'])\n",
    "\n",
    "### Zero Vehicle Household Attribute Update -----------------------------------------------------------------------------------###\n",
    "# Spatial Join\n",
    "arcpy.SpatialJoin_analysis(tahoeHex01km, zvh, hexZVH, \n",
    "                           \"JOIN_ONE_TO_ONE\", \"KEEP_ALL\", \"\", \n",
    "                           \"HAVE_THEIR_CENTER_IN\", \"\", \"\")\n",
    "\n",
    "# transfer attributes to hex Layer\n",
    "fieldJoinCalc(tahoeHex01km, ['GRID_ID','ZEROVHH_DENSITY'], \n",
    "              hexZVH,  ['GRID_ID','ZVH_DENS'])\n",
    "\n",
    "### Seniors Attribute Update -----------------------------------------------------------------------------------###\n",
    "# Spatial Join\n",
    "arcpy.SpatialJoin_analysis(tahoeHex01km, seniors, hexSenior, \n",
    "                           \"JOIN_ONE_TO_ONE\", \"KEEP_ALL\", \"\", \n",
    "                           \"HAVE_THEIR_CENTER_IN\", \"\", \"\")\n",
    "\n",
    "# transfer attributes to hex Layer\n",
    "fieldJoinCalc(tahoeHex01km, ['GRID_ID','SENIOR_DENSITY'], \n",
    "              hexSenior,  ['GRID_ID','OVER65_DENS'])\n",
    "\n",
    "### Disabled Attribute Update -----------------------------------------------------------------------------------###\n",
    "# Spatial Join\n",
    "arcpy.SpatialJoin_analysis(tahoeHex01km, disabled, hexDisabled, \n",
    "                           \"JOIN_ONE_TO_ONE\", \"KEEP_ALL\", \"\", \n",
    "                           \"HAVE_THEIR_CENTER_IN\", \"\", \"\")\n",
    "\n",
    "# transfer attributes to hex Layer\n",
    "fieldJoinCalc(tahoeHex01km, ['GRID_ID','DISABILITY_DENSITY'], \n",
    "              hexDisabled,  ['GRID_ID','HH_DISABILITY_DENS'])\n",
    "\n",
    "### Poverty Attribute Update -----------------------------------------------------------------------------------###\n",
    "# Spatial Join\n",
    "arcpy.SpatialJoin_analysis(tahoeHex01km, poverty, hexPoverty, \n",
    "                           \"JOIN_ONE_TO_ONE\", \"KEEP_ALL\", \"\", \n",
    "                           \"HAVE_THEIR_CENTER_IN\", \"\", \"\")\n",
    "\n",
    "# transfer attributes to hex Layer\n",
    "fieldJoinCalc(tahoeHex01km, ['GRID_ID','POVERTY_DENSITY'], \n",
    "              hexPoverty,  ['GRID_ID','HH_POVERTY_DENS'])\n",
    "\n",
    "### Crash Attribute Update -----------------------------------------------------------------------------------###\n",
    "# Spatial Join\n",
    "arcpy.SpatialJoin_analysis(tahoeHex01km, crashFatal, \n",
    "                           hexFatal, \n",
    "                           \"JOIN_ONE_TO_ONE\", \"KEEP_ALL\", \"\", \n",
    "                           \"CONTAINS\", \"\", \"\")\n",
    "\n",
    "arcpy.SpatialJoin_analysis(tahoeHex01km, crashSevere, \n",
    "                           hexSevere, \n",
    "                           \"JOIN_ONE_TO_ONE\", \"KEEP_ALL\", \"\", \n",
    "                           \"CONTAINS\", \"\", \"\")\n",
    "\n",
    "arcpy.SpatialJoin_analysis(tahoeHex01km, crashOther, \n",
    "                           hexMinor, \n",
    "                           \"JOIN_ONE_TO_ONE\", \"KEEP_ALL\", \"\", \n",
    "                           \"CONTAINS\", \"\", \"\")\n",
    "\n",
    "arcpy.SpatialJoin_analysis(tahoeHex01km, \"BikePed_Crash_Layer\", \n",
    "                           hexBikePed, \n",
    "                           \"JOIN_ONE_TO_ONE\", \"KEEP_ALL\", \"\", \n",
    "                           \"CONTAINS\", \"\", \"\")\n",
    "\n",
    "# transfer attributes to hex Layer\n",
    "fieldJoinCalc(tahoeHex01km, ['GRID_ID','FATAL_CRASH_COUNT'], \n",
    "              hexFatal,     ['GRID_ID','Join_Count'])\n",
    "# transfer attributes to hex Layer\n",
    "fieldJoinCalc(tahoeHex01km, ['GRID_ID','SEVERE_CRASH_COUNT'], \n",
    "              hexSevere,    ['GRID_ID','Join_Count'])\n",
    "# transfer attributes to hex Layer\n",
    "fieldJoinCalc(tahoeHex01km, ['GRID_ID','OTHER_CRASH_COUNT'], \n",
    "              hexMinor,     ['GRID_ID','Join_Count'])\n",
    "# transfer attributes to hex Layer\n",
    "fieldJoinCalc(tahoeHex01km, ['GRID_ID','BIKEPED_CRASH_COUNT'], \n",
    "              hexBikePed,   ['GRID_ID','Join_Count'])\n",
    "\n",
    "### Transit Stop Access Update --------------------------------------------------------------------------------------###\n",
    "hexTransit = memory_workspace + \"Hex_Transit_Walksheds\"\n",
    "# Spatial Join\n",
    "arcpy.SpatialJoin_analysis(tahoeHex01km, \"Transit_Walksheds\", hexTransit, \n",
    "                           \"JOIN_ONE_TO_ONE\", \"KEEP_ALL\", \"\", \n",
    "                           \"HAVE_THEIR_CENTER_IN\", \"\", \"\")\n",
    "\n",
    "fieldJoinCalc(tahoeHex01km, [\"GRID_ID\", \"TRANSIT_ACCESS_DISTANCE\"],\n",
    "              hexTransit, [\"GRID_ID\", \"Distance\"])\n",
    "### Beach Access Attribute Update -----------------------------------------------------------------------------------###\n",
    "# Spatial Join\n",
    "arcpy.SpatialJoin_analysis(tahoeHex01km, freebeachSA, hexBeachSA, \n",
    "                           \"JOIN_ONE_TO_ONE\", \"KEEP_ALL\", \"\", \n",
    "                           \"HAVE_THEIR_CENTER_IN\", \"\", \"\")\n",
    "\n",
    "# transfer attributes to hex Layer\n",
    "fieldJoinCalc(tahoeHex01km, ['GRID_ID','BEACH_ACCESS_DISTANCE'], \n",
    "              hexBeachSA,  ['GRID_ID','ToBreak'])\n",
    "\n",
    "### Grocery Access Attribute Update -----------------------------------------------------------------------------------###\n",
    "# Spatial Join\n",
    "arcpy.SpatialJoin_analysis(tahoeHex01km, grocerySA, hexGrocerySA, \n",
    "                           \"JOIN_ONE_TO_ONE\", \"KEEP_ALL\", \"\", \n",
    "                           \"HAVE_THEIR_CENTER_IN\", \"\", \"\")\n",
    "\n",
    "# transfer attributes to hex Layer\n",
    "fieldJoinCalc(tahoeHex01km, ['GRID_ID','FOOD_ACCESS_DISTANCE'], \n",
    "              hexGrocerySA,  ['GRID_ID','ToBreak'])\n",
    "\n",
    "### Medicare Access Attribute Update -----------------------------------------------------------------------------------###\n",
    "# Spatial Join\n",
    "arcpy.SpatialJoin_analysis(tahoeHex01km, medicareSA, hexMedicareSA, \n",
    "                           \"JOIN_ONE_TO_ONE\", \"KEEP_ALL\", \"\", \n",
    "                           \"HAVE_THEIR_CENTER_IN\", \"\", \"\")\n",
    "\n",
    "# transfer attributes to hex Layer\n",
    "fieldJoinCalc(tahoeHex01km, ['GRID_ID','MEDICARE_ACCESS_DISTANCE'], \n",
    "              hexMedicareSA,  ['GRID_ID','ToBreak'])\n",
    "\n",
    "### Public Meeting Access Attribute Update -----------------------------------------------------------------------------------###\n",
    "# Spatial Join\n",
    "arcpy.SpatialJoin_analysis(tahoeHex01km, meetingSA, hexMeetingSA, \n",
    "                           \"JOIN_ONE_TO_ONE\", \"KEEP_ALL\", \"\", \n",
    "                           \"HAVE_THEIR_CENTER_IN\", \"\", \"\")\n",
    "\n",
    "# transfer attributes to hex Layer\n",
    "fieldJoinCalc(tahoeHex01km, ['GRID_ID','MEETING_ACCESS_DISTANCE'], \n",
    "              hexMeetingSA,  ['GRID_ID','ToBreak'])\n",
    "\n",
    "### Urban Hex Attribute Update -----------------------------------------------------------------------------###\n",
    "\n",
    "# Select parcels that intersect urban area boundary\n",
    "urbanSelect = arcpy.SelectLayerByLocation_management(tahoeHex01km, \n",
    "                                                          'INTERSECT', \n",
    "                                                           urban, \n",
    "                                                           0, \n",
    "                                                          'NEW_SELECTION')\n",
    "# Update field 1= yes 0 = no\n",
    "with arcpy.da.UpdateCursor(urbanSelect, ['IS_URBAN']) as cursor:\n",
    "    for row in cursor:\n",
    "        row[0] = '1'\n",
    "        cursor.updateRow(row) \n",
    "del cursor \n",
    "\n",
    "# switch the selection\n",
    "urbanAreaSelect = arcpy.SelectLayerByAttribute_management(urbanSelect,'SWITCH_SELECTION')\n",
    "\n",
    "# update other parcels\n",
    "with arcpy.da.UpdateCursor(urbanAreaSelect, ['IS_URBAN']) as cursor:\n",
    "    for row in cursor:\n",
    "        row[0] = '0'\n",
    "        cursor.updateRow(row)\n",
    "del cursor\n",
    "\n",
    "### Streets Hex Attribute Update -----------------------------------------------------------------------------###\n",
    "\n",
    "# Select parcels that intersect urban area boundary\n",
    "streetSelect = arcpy.SelectLayerByLocation_management(tahoeHex01km, \n",
    "                                                          'INTERSECT', \n",
    "                                                           streets, \n",
    "                                                           0, \n",
    "                                                          'NEW_SELECTION')\n",
    "# Update field 1= yes 0 = no\n",
    "with arcpy.da.UpdateCursor(streetSelect, ['HAS_ROAD']) as cursor:\n",
    "    for row in cursor:\n",
    "        row[0] = '1'\n",
    "        cursor.updateRow(row) \n",
    "del cursor \n",
    "\n",
    "# switch the selection\n",
    "streetNotSelect = arcpy.SelectLayerByAttribute_management(streetSelect,'SWITCH_SELECTION')\n",
    "\n",
    "# update other parcels\n",
    "with arcpy.da.UpdateCursor(streetNotSelect, ['HAS_ROAD']) as cursor:\n",
    "    for row in cursor:\n",
    "        row[0] = '0'\n",
    "        cursor.updateRow(row)\n",
    "del cursor\n",
    "\n",
    "# clear selection\n",
    "arcpy.SelectLayerByAttribute_management(tahoeHex01km, \"CLEAR_SELECTION\")"
   ]
  },
  {
   "cell_type": "markdown",
   "metadata": {
    "heading_collapsed": true
   },
   "source": [
    "### Transform Values"
   ]
  },
  {
   "cell_type": "code",
   "execution_count": 23,
   "metadata": {
    "ExecuteTime": {
     "end_time": "2023-07-07T21:56:43.517440Z",
     "start_time": "2023-07-07T21:56:38.994270Z"
    },
    "hidden": true
   },
   "outputs": [],
   "source": [
    "# If the value is null, replace it with 0\n",
    "with arcpy.da.UpdateCursor(tahoeHex01km, ['ZEROVHH_DENSITY', 'SENIOR_DENSITY', \n",
    "                                          'POVERTY_DENSITY', 'DISABILITY_DENSITY']) as cursor:\n",
    "    for row in cursor:\n",
    "        if row[0] is None:\n",
    "            row[0] = 0\n",
    "            cursor.updateRow(row)\n",
    "        if row[1] is None:\n",
    "            row[1] = 0\n",
    "            cursor.updateRow(row)\n",
    "        if row[2] is None:\n",
    "            row[2] = 0\n",
    "            cursor.updateRow(row)\n",
    "        if row[3] is None:\n",
    "            row[3] = 0\n",
    "            cursor.updateRow(row)\n",
    "del cursor"
   ]
  },
  {
   "cell_type": "code",
   "execution_count": 24,
   "metadata": {
    "ExecuteTime": {
     "end_time": "2023-07-07T21:56:54.390364Z",
     "start_time": "2023-07-07T21:56:43.519026Z"
    },
    "hidden": true
   },
   "outputs": [],
   "source": [
    "with arcpy.da.UpdateCursor(tahoeHex01km, [\"BEACH_ACCESS_DISTANCE\"]) as cursor:\n",
    "    for row in cursor:\n",
    "        if row[0]  == 402.336:\n",
    "            row[0]  = 0.25\n",
    "        elif row[0]  == 804.672:\n",
    "            row[0]  = 0.5\n",
    "        elif row[0]  == 1609.344:\n",
    "            row[0]  = 1\n",
    "        elif row[0] is None:\n",
    "            row[0] = 3\n",
    "        elif row[0]  > 1609.344 and row[0] <= 3218.688:\n",
    "            row[0]  = 2\n",
    "        elif row[0] > 3218.688 and row[0] <= 6400:\n",
    "            row[0]= 3\n",
    "        else:\n",
    "            row[0] = 3\n",
    "\n",
    "        cursor.updateRow(row)\n",
    "del cursor\n",
    "\n",
    "with arcpy.da.UpdateCursor(tahoeHex01km, [\"FOOD_ACCESS_DISTANCE\"]) as cursor:\n",
    "    for row in cursor:\n",
    "        if row[0]  == 402.336:\n",
    "            row[0]  = 0.25\n",
    "        elif row[0]  == 804.672:\n",
    "            row[0]  = 0.5\n",
    "        elif row[0]  == 1609.344:\n",
    "            row[0]  = 1\n",
    "        elif row[0] is None:\n",
    "            row[0] = 3\n",
    "        elif row[0]  > 1609.344 and row[0] <= 3218.688:\n",
    "            row[0]  = 2\n",
    "        elif row[0] > 3218.688 and row[0] <= 6400:\n",
    "            row[0]= 3\n",
    "        else:\n",
    "            row[0] = 3\n",
    "\n",
    "        cursor.updateRow(row)\n",
    "del cursor\n",
    "\n",
    "with arcpy.da.UpdateCursor(tahoeHex01km, [\"MEDICARE_ACCESS_DISTANCE\"]) as cursor:\n",
    "    for row in cursor:\n",
    "        if row[0]  == 402.336:\n",
    "            row[0]  = 0.25\n",
    "        elif row[0]  == 804.672:\n",
    "            row[0]  = 0.5\n",
    "        elif row[0]  == 1609.344:\n",
    "            row[0]  = 1\n",
    "        elif row[0] is None:\n",
    "            row[0] = 3\n",
    "        elif row[0]  > 1609.344 and row[0] <= 3218.688:\n",
    "            row[0]  = 2\n",
    "        elif row[0] > 3218.688 and row[0] <= 6400:\n",
    "            row[0]= 3\n",
    "        else:\n",
    "            row[0] = 3\n",
    "\n",
    "        cursor.updateRow(row)\n",
    "del cursor\n",
    "\n",
    "with arcpy.da.UpdateCursor(tahoeHex01km, [\"MEETING_ACCESS_DISTANCE\"]) as cursor:\n",
    "    for row in cursor:\n",
    "        if row[0]  == 402.336:\n",
    "            row[0]  = 0.25\n",
    "        elif row[0]  == 804.672:\n",
    "            row[0]  = 0.5\n",
    "        elif row[0]  == 1609.344:\n",
    "            row[0]  = 1\n",
    "        elif row[0] is None:\n",
    "            row[0] = 3\n",
    "        elif row[0]  > 1609.344 and row[0] <= 3218.688:\n",
    "            row[0]  = 2\n",
    "        elif row[0] > 3218.688 and row[0] <= 6400:\n",
    "            row[0]= 3\n",
    "        else:\n",
    "            row[0] = 3\n",
    "\n",
    "        cursor.updateRow(row)\n",
    "del cursor\n",
    "\n",
    "# with arcpy.da.UpdateCursor(tahoeHex01km, [\"MAJORITY_SLOPE_CLASS\"]) as cursor:\n",
    "#     for row in cursor:\n",
    "#         if row[0] == \"1\":\n",
    "#             row[0]  = \"0-5%\"\n",
    "#         elif row[0]  == \"2\":\n",
    "#             row[0]  = \"5-15%\"\n",
    "#         elif row[0]  == \"3\":\n",
    "#             row[0]  = \"15-30%\"\n",
    "#         elif row[0]  == \"4\":\n",
    "#             row[0]  = \"30-50%\"\n",
    "#         elif row[0]  == \"5\":\n",
    "#             row[0]  = \">50%\"\n",
    "#         cursor.updateRow(row)\n",
    "# del cursor"
   ]
  },
  {
   "cell_type": "markdown",
   "metadata": {
    "heading_collapsed": true
   },
   "source": [
    "### Network Analysis"
   ]
  },
  {
   "cell_type": "markdown",
   "metadata": {
    "hidden": true
   },
   "source": [
    "#### Create Service Area"
   ]
  },
  {
   "cell_type": "code",
   "execution_count": 9,
   "metadata": {
    "ExecuteTime": {
     "end_time": "2023-07-07T20:10:06.327981Z",
     "start_time": "2023-07-07T20:09:46.811830Z"
    },
    "hidden": true
   },
   "outputs": [
    {
     "data": {
      "text/plain": [
       "<arcpy._na._sas.ServiceArea object at 0x0000018C4F12C2E0>"
      ]
     },
     "execution_count": 9,
     "metadata": {},
     "output_type": "execute_result"
    }
   ],
   "source": [
    "createServiceArea(nd_path, nd_layer_name)"
   ]
  },
  {
   "cell_type": "markdown",
   "metadata": {
    "hidden": true
   },
   "source": [
    "#### Solve Service Area"
   ]
  },
  {
   "cell_type": "code",
   "execution_count": 20,
   "metadata": {
    "ExecuteTime": {
     "end_time": "2023-07-07T21:49:52.753293Z",
     "start_time": "2023-07-07T21:49:35.537542Z"
    },
    "hidden": true
   },
   "outputs": [],
   "source": [
    "# Check out the Network Analyst extension license.\n",
    "arcpy.CheckOutExtension(\"network\")\n",
    "\n",
    "# Create a network dataset layer. The layer will be referenced using its name.\n",
    "arcpy.nax.MakeNetworkDatasetLayer(nd_path, nd_layer_name)\n",
    "\n",
    "# Instantiate a ServiceArea analysis object.\n",
    "service_area = arcpy.nax.ServiceArea(nd_layer_name)\n",
    "\n",
    "# Get the desired travel mode for the analysis.\n",
    "nd_travel_modes = arcpy.nax.GetTravelModes(nd_layer_name)\n",
    "travel_mode = nd_travel_modes[\"New Travel Mode\"]\n",
    "\n",
    "# Set properties.\n",
    "service_area.distanceUnits     = arcpy.nax.DistanceUnits.Miles\n",
    "service_area.defaultImpedanceCutoffs = [402.336,804.672,1609.344,3218.688, 6400]\n",
    "service_area.travelMode        = travel_mode\n",
    "service_area.allowAutoRelocate = True\n",
    "service_area.outputType        = arcpy.nax.ServiceAreaOutputType.Polygons\n",
    "service_area.geometryAtOverlap = arcpy.nax.ServiceAreaOverlapGeometry.Split\n",
    "service_area.searchTolerance   = 5000"
   ]
  },
  {
   "cell_type": "code",
   "execution_count": 21,
   "metadata": {
    "ExecuteTime": {
     "end_time": "2023-07-07T21:50:04.424971Z",
     "start_time": "2023-07-07T21:49:55.868811Z"
    },
    "hidden": true
   },
   "outputs": [
    {
     "name": "stdout",
     "output_type": "stream",
     "text": [
      "Service Area generated for PublicMeetingLocations and saved as F:\\GIS\\PROJECTS\\Transportation\\Equity\\Equity.gdb\\Public_Meetings_ServiceArea\n"
     ]
    }
   ],
   "source": [
    "\n",
    "# solveServiceArea(freebeach,freebeachSA, service_area)\n",
    "# solveServiceArea(grocery,grocerySA, service_area)\n",
    "solveServiceArea(meetings,meetingSA, service_area)\n",
    "# solveServiceArea(medicare,medicareSA, service_area)"
   ]
  },
  {
   "cell_type": "markdown",
   "metadata": {},
   "source": [
    "### Safety Analysis"
   ]
  },
  {
   "cell_type": "code",
   "execution_count": 19,
   "metadata": {
    "ExecuteTime": {
     "end_time": "2023-07-27T18:44:52.715830Z",
     "start_time": "2023-07-27T18:44:29.80398Z"
    }
   },
   "outputs": [
    {
     "data": {
      "text/html": [
       "<div class='gpresult'><h2>Messages</h2><div id='messages' data-messages='[\"Start Time: Thursday, July 27, 2023 11:44:32 AM\",\"WARNING 000853: The default neighborhood search threshold was 265.0977 Meters.\",\"Succeeded at Thursday, July 27, 2023 11:44:51 AM (Elapsed Time: 18.44 seconds)\"]' data-show='true'><div id = 'default' /></div></div>"
      ],
      "text/plain": [
       "<Result 'F:\\\\GIS\\\\PROJECTS\\\\Transportation\\\\Equity\\\\Equity.gdb\\\\TahoeTessellation_FatalCrash_HotSpots'>"
      ]
     },
     "execution_count": 19,
     "metadata": {},
     "output_type": "execute_result"
    }
   ],
   "source": [
    "tahoeHexRoad = arcpy.MakeFeatureLayer_management(tahoeHex01km, \"Hex_Road_Layer\", \n",
    "                        \"HAS_ROAD = '1'\")\n",
    "arcpy.stats.HotSpots(\n",
    "    Input_Feature_Class=tahoeHexRoad,\n",
    "    Input_Field=\"FATAL_CRASH_COUNT\",\n",
    "    Output_Feature_Class=r\"TahoeTessellation_FatalCrash_HotSpots\",\n",
    "    Conceptualization_of_Spatial_Relationships=\"FIXED_DISTANCE_BAND\",\n",
    "    Distance_Method=\"EUCLIDEAN_DISTANCE\",\n",
    "    Standardization=\"ROW\",\n",
    "    Distance_Band_or_Threshold_Distance=None,\n",
    "    Self_Potential_Field=None,\n",
    "    Weights_Matrix_File=None,\n",
    "    Apply_False_Discovery_Rate__FDR__Correction=\"NO_FDR\",\n",
    "    number_of_neighbors=None\n",
    ")"
   ]
  },
  {
   "cell_type": "code",
   "execution_count": 18,
   "metadata": {
    "ExecuteTime": {
     "end_time": "2023-07-27T15:54:12.929502Z",
     "start_time": "2023-07-27T15:53:56.306889Z"
    }
   },
   "outputs": [
    {
     "data": {
      "text/html": [
       "<div class='gpresult'><h2>Messages</h2><div id='messages' data-messages='[\"Start Time: Thursday, July 27, 2023 8:53:59 AM\",\"WARNING 000853: The default neighborhood search threshold was 265.0977 Meters.\",\"Succeeded at Thursday, July 27, 2023 8:54:12 AM (Elapsed Time: 12.67 seconds)\"]' data-show='true'><div id = 'default' /></div></div>"
      ],
      "text/plain": [
       "<Result 'F:\\\\GIS\\\\PROJECTS\\\\Transportation\\\\Equity\\\\Equity.gdb\\\\TahoeTessellation_FatalCrash_HotSpots'>"
      ]
     },
     "execution_count": 18,
     "metadata": {},
     "output_type": "execute_result"
    }
   ],
   "source": [
    "tahoeHexRoad = arcpy.MakeFeatureLayer_management(tahoeHex01km, \"Hex_Road_Layer\", \n",
    "                        \"HAS_ROAD = '1'\")\n",
    "arcpy.stats.HotSpots(\n",
    "    Input_Feature_Class=tahoeHexRoad,\n",
    "    Input_Field=\"SEVERE_CRASH_COUNT\",\n",
    "    Output_Feature_Class=r\"TahoeTessellation_FatalCrash_HotSpots\",\n",
    "    Conceptualization_of_Spatial_Relationships=\"FIXED_DISTANCE_BAND\",\n",
    "    Distance_Method=\"EUCLIDEAN_DISTANCE\",\n",
    "    Standardization=\"ROW\",\n",
    "    Distance_Band_or_Threshold_Distance=None,\n",
    "    Self_Potential_Field=None,\n",
    "    Weights_Matrix_File=None,\n",
    "    Apply_False_Discovery_Rate__FDR__Correction=\"NO_FDR\",\n",
    "    number_of_neighbors=None\n",
    ")"
   ]
  },
  {
   "cell_type": "markdown",
   "metadata": {},
   "source": [
    "### Equity Index"
   ]
  },
  {
   "cell_type": "markdown",
   "metadata": {},
   "source": [
    "#### Composite Index"
   ]
  },
  {
   "cell_type": "code",
   "execution_count": 16,
   "metadata": {
    "ExecuteTime": {
     "end_time": "2023-07-27T15:44:36.816496Z",
     "start_time": "2023-07-27T15:44:00.351221Z"
    }
   },
   "outputs": [],
   "source": [
    "tahoeHexUrban = arcpy.MakeFeatureLayer_management(tahoeHex01km, \"Hex_Urban_Layer\", \n",
    "                        \"IS_URBAN = '1' Or HAS_ROAD = '1'\")\n",
    " \n",
    "\n",
    "with arcpy.EnvManager(scratchWorkspace=r\"F:\\GIS\\PROJECTS\\Transportation\\Equity\\Equity.gdb\", workspace=r\"F:\\GIS\\PROJECTS\\Transportation\\Equity\\Equity.gdb\"):\n",
    "    arcpy.stats.CalculateCompositeIndex(\n",
    "        in_table=tahoeHexUrban,\n",
    "        in_variables=\"DISABILITY_DENSITY #;MEDICARE_ACCESS_DISTANCE false;FOOD_ACCESS_DISTANCE false;MAJORITY_SLOPE_CLASS #\",\n",
    "        append_to_input=\"NEW_FEATURES\",\n",
    "        out_table=\"TahoeTessellation_0_1sqkm_CalculateCompositeIndex\",\n",
    "        index_preset=\"MEAN_SCALED\",\n",
    "        preprocessing=\"MINMAX\",\n",
    "        pre_threshold_scaling=\"THRESHOLD_PERCENTILE\",\n",
    "        pre_custom_zscore=None,\n",
    "        pre_min_max=None,\n",
    "        pre_thresholds=None,\n",
    "        index_method=\"MEAN\",\n",
    "        index_weights=\"DISABILITY_DENSITY 1;MEDICARE_ACCESS_DISTANCE 1;FOOD_ACCESS_DISTANCE 1;MAJORITY_SLOPE_CLASS 1\",\n",
    "        out_index_name=\"\",\n",
    "        out_index_reverse=None,\n",
    "        post_min_max=None,\n",
    "        post_reclass=None,\n",
    "        post_num_classes=5,\n",
    "        post_custom_classes=None\n",
    "    )"
   ]
  },
  {
   "cell_type": "code",
   "execution_count": null,
   "metadata": {},
   "outputs": [],
   "source": []
  }
 ],
 "metadata": {
  "kernelspec": {
   "display_name": "ArcGISPro",
   "language": "Python",
   "name": "python3"
  },
  "language_info": {
   "file_extension": ".py",
   "name": "python",
   "version": "3"
  },
  "toc": {
   "base_numbering": 1,
   "nav_menu": {},
   "number_sections": true,
   "sideBar": true,
   "skip_h1_title": false,
   "title_cell": "Table of Contents",
   "title_sidebar": "Contents",
   "toc_cell": false,
   "toc_position": {},
   "toc_section_display": true,
   "toc_window_display": false
  }
 },
 "nbformat": 4,
 "nbformat_minor": 2
}
