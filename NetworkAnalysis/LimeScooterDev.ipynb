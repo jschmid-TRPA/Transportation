{
 "cells": [
  {
   "cell_type": "markdown",
   "metadata": {},
   "source": [
    "# Network Analysis\n",
    "  > A notebook to test network analysis workflows"
   ]
  },
  {
   "cell_type": "markdown",
   "metadata": {},
   "source": [
    "### Lime Data Engineering"
   ]
  },
  {
   "cell_type": "code",
   "execution_count": 31,
   "metadata": {},
   "outputs": [
    {
     "data": {
      "text/html": [
       "<div class='gpresult'><h2>Messages</h2><div id='messages' data-messages='[\"Start Time: Sunday, March 3, 2024 8:17:50 PM\",\"Succeeded at Sunday, March 3, 2024 8:17:50 PM (Elapsed Time: 0.05 seconds)\"]' data-show='true'><div id = 'default' /></div></div>"
      ],
      "text/plain": [
       "<Result 'C:\\\\GIS\\\\Scooters\\\\Lime\\\\2023\\\\Analysis.gdb'>"
      ]
     },
     "execution_count": 31,
     "metadata": {},
     "output_type": "execute_result"
    }
   ],
   "source": [
    "## Create a file geodatabase for the Lime scooter data\n",
    "import arcpy\n",
    "\n",
    "# read in the data\n",
    "limeFolder = \"C:/GIS/Scooters/Lime/2023\"\n",
    "\n",
    "# delete file goeodatabase if it already exists\n",
    "if arcpy.Exists(r\"C:\\\\GIS\\\\Scooters\\\\Lime\\\\2023\\\\Analysis.gdb\"):\n",
    "    arcpy.management.Delete(r\"C:\\\\GIS\\\\Scooters\\\\Lime\\\\2023\\\\Analysis.gdb\")\n",
    "\n",
    "# create file geodatabase\n",
    "arcpy.management.CreateFileGDB(limeFolder, \"Analysis.gdb\")"
   ]
  },
  {
   "cell_type": "code",
   "execution_count": 2,
   "metadata": {},
   "outputs": [],
   "source": [
    "# import packages\n",
    "import pandas as pd\n",
    "import os\n",
    "import glob\n",
    "import arcpy\n",
    "\n",
    "# read in the data\n",
    "limeFolder = \"C:/GIS/Scooters/Lime/2023\"\n",
    "\n",
    "# set the workspace\n",
    "arcpy.env.workspace =  \"C:/GIS/Scooters/Lime/2023/Analysis.gdb\"\n",
    "\n",
    "# set overwrite to true\n",
    "arcpy.env.overwriteOutput = True\n",
    "        \n",
    "# create the JOSN files\n",
    "def make_json(limeFolder):\n",
    "    # get all the files in the folder\n",
    "    allFiles = glob.glob(limeFolder + \"/*.csv\")\n",
    "    # loop through the files\n",
    "    for limeFile in allFiles:\n",
    "        # get name of file without .csv\n",
    "        fileName = os.path.splitext(limeFile)[0]\n",
    "        # read in the csv\n",
    "        df = pd.read_csv(limeFile, usecols=['POLYLINE'])\n",
    "        # filter out polyline null values\n",
    "        df = df[df.POLYLINE.notnull()]\n",
    "        # load limeDF POLYLINE field into a list\n",
    "        polylineList = df['POLYLINE'].tolist()\n",
    "        # remove '{\"type\":\"FeatureCollection\",\"features\":[ from the values in the list\n",
    "        polylineList = [x.replace('{\"type\":\"FeatureCollection\",\"features\":[', '') for x in polylineList]\n",
    "        # remove the last two characters from the values in the list\n",
    "        polylineList = [x[:-2] for x in polylineList]\n",
    "        # create empty list to hold the values\n",
    "        data_result = []\n",
    "        # append all the values together\n",
    "        data_result.append(', '.join(polylineList))\n",
    "        # add strings to the beginning and end of the data_result item \n",
    "        prefix = '{\"type\":\"FeatureCollection\",\"features\":['\n",
    "        suffix = ']}'\n",
    "        data_result[0] = prefix + data_result[0] + suffix\n",
    "        # write the data_result to json \n",
    "        with open(fileName + \".json\", 'w') as f:\n",
    "            f.write(data_result[0])\n",
    "\n",
    "# function to make the json files into feature classes\n",
    "def make_fc(limeFolder):\n",
    "    # set the workspace\n",
    "    arcpy.env.workspace =  \"C:/GIS/Scooters/Lime/2023/Analysis.gdb\"\n",
    "    # get all the files in the folder\n",
    "    allFiles = glob.glob(limeFolder + \"/*.json\")\n",
    "    # loop through the files\n",
    "    for limeFile in allFiles:\n",
    "        # get name of file without .json\n",
    "        fullfileName = (os.path.splitext(limeFile)[0]).split('\\\\')[-1]\n",
    "        fileName = fullfileName.split('_')[1] + \"_\" + fullfileName.split('_')[2] + \"_\" + fullfileName.split('_')[3]\n",
    "        # set the local variables\n",
    "        in_json_file = limeFile\n",
    "        # set the output feature class\n",
    "        out_feature_class = fileName\n",
    "        # execute JSONToFeatures\n",
    "        arcpy.conversion.JSONToFeatures(in_json_file, out_feature_class)\n",
    "        # delete the json file\n",
    "        os.remove(limeFile)\n",
    "\n",
    "# project fcs\n",
    "def project_fcs():\n",
    "    # set the workspace\n",
    "    arcpy.env.workspace =  \"C:/GIS/Scooters/Lime/2023/Analysis.gdb\"\n",
    "    # arcpy overwrite\n",
    "    arcpy.env.overwriteOutput = True\n",
    "    # loop through the feature classes in teh workspace geodatabase\n",
    "    fcs = arcpy.ListFeatureClasses()\n",
    "    # loop through the files and project them\n",
    "    for fc in fcs:\n",
    "        outCS = arcpy.SpatialReference(26910)\n",
    "        arcpy.management.Project(fc, fc + \"_proj\", outCS)\n",
    "    \n",
    "# function to make the line density rasters\n",
    "def make_density_raster(size=10, neighborhood=100):\n",
    "    # set the workspace\n",
    "    arcpy.env.workspace = \"C:/GIS/Scooters/Lime/2023/Analysis.gdb\"\n",
    "    # get the feature classes with _proj \n",
    "\n",
    "    fcs = arcpy.ListFeatureClasses('*_proj')\n",
    "    # loop through the files and run line density\n",
    "    for fc in fcs:\n",
    "        desc = arcpy.Describe(fc)\n",
    "        # Set local variables\n",
    "        inPolylineFeatures = fc\n",
    "        populationField = \"NONE\"\n",
    "        cellSize = size\n",
    "        searchRadius = neighborhood\n",
    "        out_raster = desc.name + \"_line_density_size_\"+str(size)+\"_neighborhood_\"+str(neighborhood) # get name of feature class\n",
    "        # Execute LineDensity\n",
    "        outLineDensity = arcpy.sa.LineDensity(inPolylineFeatures, populationField, cellSize,\n",
    "                                    searchRadius, \"SQUARE_MILES\") \n",
    "        # Save the output \n",
    "        outLineDensity.save(out_raster)"
   ]
  },
  {
   "cell_type": "code",
   "execution_count": 27,
   "metadata": {},
   "outputs": [],
   "source": [
    "# create the JSON files\n",
    "make_json(limeFolder)"
   ]
  },
  {
   "cell_type": "code",
   "execution_count": 43,
   "metadata": {},
   "outputs": [],
   "source": [
    "# make the feature classes from the JSON files\n",
    "make_fc(limeFolder)"
   ]
  },
  {
   "cell_type": "code",
   "execution_count": 3,
   "metadata": {},
   "outputs": [],
   "source": [
    "# project the feature classes\n",
    "project_fcs()"
   ]
  },
  {
   "cell_type": "code",
   "execution_count": 49,
   "metadata": {},
   "outputs": [],
   "source": [
    "# make the line density rasters from the feature classes\n",
    "make_density_raster(size=10, neighborhood=100)"
   ]
  },
  {
   "cell_type": "markdown",
   "metadata": {},
   "source": [
    "#### Other"
   ]
  },
  {
   "cell_type": "code",
   "execution_count": null,
   "metadata": {},
   "outputs": [],
   "source": [
    "# Combine all the csv files into one csv\n",
    "os.chdir(limeFolder)\n",
    "# list csvs in folder\n",
    "extension = 'csv'\n",
    "all_filenames = [i for i in glob.glob('*.{}'.format(extension))]\n",
    "# print(all_filenames)\n",
    "# combine all files in the list and add field for filename for month and year\n",
    "combined_csv = pd.concat([pd.read_csv(f).assign(filename=os.path.basename(f)) for f in all_filenames ])\n",
    "#export to csv\n",
    "combined_csv.to_csv( limeFolder + \"\\\\All_Lime_Trips_2023.csv\", index=False, encoding='utf-8-sig')\n"
   ]
  }
 ],
 "metadata": {
  "kernelspec": {
   "display_name": "Python 3",
   "language": "python",
   "name": "python3"
  },
  "language_info": {
   "codemirror_mode": {
    "name": "ipython",
    "version": 3
   },
   "file_extension": ".py",
   "mimetype": "text/x-python",
   "name": "python",
   "nbconvert_exporter": "python",
   "pygments_lexer": "ipython3",
   "version": "3.9.18"
  }
 },
 "nbformat": 4,
 "nbformat_minor": 2
}
