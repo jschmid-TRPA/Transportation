{
 "cells": [
  {
   "cell_type": "markdown",
   "metadata": {},
   "source": [
    "# Travel Demand Model Data Inputs\n",
    "> "
   ]
  },
  {
   "cell_type": "markdown",
   "metadata": {},
   "source": [
    "## Setup "
   ]
  },
  {
   "cell_type": "code",
   "execution_count": null,
   "metadata": {},
   "outputs": [],
   "source": [
    "import pandas as pd\n",
    "import pathlib\n",
    "import os\n",
    "from utils import *"
   ]
  },
  {
   "cell_type": "code",
   "execution_count": null,
   "metadata": {},
   "outputs": [],
   "source": [
    "# current working directory\n",
    "local_path = pathlib.Path().absolute()\n",
    "# set workspace\n",
    "arcpy.env.workspace = os.path.join(local_path, 'Workspace.gdb')\n",
    "# overwrite true\n",
    "arcpy.env.overwriteOutput = True"
   ]
  },
  {
   "cell_type": "markdown",
   "metadata": {},
   "source": [
    "#### Notes\n",
    "* old inputs: F:\\Research and Analysis\\misc\\Reid_Haefer\\Model\\model_update_2018\\data_inputs\\lodging_occupancy\n",
    "* Final inputs to produce: F:\\Transportation\\model\\scenario_base\\zonal"
   ]
  },
  {
   "cell_type": "markdown",
   "metadata": {},
   "source": [
    "### Base Data"
   ]
  },
  {
   "cell_type": "code",
   "execution_count": null,
   "metadata": {},
   "outputs": [],
   "source": [
    "# Get TAZ data\n",
    "taz_url = 'https://maps.trpa.org/server/rest/services/Transportation_Planning/MapServer/6'\n",
    "sdf_taz = get_fs_data_spatial(taz_url)\n",
    "\n",
    "# place holder URL - Demographics URL will have a new Feature Service titled \"Block Group 2022 - Travel Demand Model Inputs\"\n",
    "census_url = 'https://maps.trpa.org/server/rest/services/Demographics/MapServer/1'\n",
    "sdf_census = get_fs_data_spatial(census_url)\n",
    "\n",
    "# Get VHR data - this is current, no way to get historical data outside of the City of South Lake Tahoe\n",
    "vhr_url = 'https://maps.trpa.org/server/rest/services/VHR/MapServer/0'\n",
    "sdf_vhr = get_fs_data_spatial(vhr_url)\n",
    "\n",
    "# Get Cumulative Accounting Unit data\n",
    "units_url = 'https://maps.trpa.org/server/rest/services/Existing_Development/MapServer/2'\n",
    "sdf_units = get_fs_data_spatial_query(units_url, \"Year = 2022\")\n"
   ]
  },
  {
   "cell_type": "code",
   "execution_count": null,
   "metadata": {},
   "outputs": [],
   "source": [
    "# Get Cumulative Accounting Unit data\n",
    "units_url = 'https://maps.trpa.org/server/rest/services/Existing_Development/MapServer/2'\n",
    "sdf_units = get_fs_data_spatial_query(units_url, \"Year = 2022\")\n",
    "\n",
    "sdf_units.to_csv('cumulative_accounting_units_2022.csv', index=False)"
   ]
  },
  {
   "cell_type": "code",
   "execution_count": null,
   "metadata": {},
   "outputs": [],
   "source": [
    "sdf_units.spatial.to_featureclass(os.path.join(local_path, 'Workspace.gdb','cumulative_accounting_units_2022'))"
   ]
  },
  {
   "cell_type": "markdown",
   "metadata": {},
   "source": [
    "## Socio Econ\n",
    "> TAZ by total_residential_units,census_occ_rate,total_occ_units,occ_units_low_inc,occ_units_med_inc,occ_units_high_inc,persons_per_occ_unit,total_persons,emp_retail,emp_srvc,emp_rec,emp_game,emp_other"
   ]
  },
  {
   "cell_type": "code",
   "execution_count": null,
   "metadata": {},
   "outputs": [],
   "source": [
    "units_url = ''\n",
    "sdf_res = get_fs_data_spatial_query(units_url, \"YEAR = 2022\")"
   ]
  },
  {
   "cell_type": "markdown",
   "metadata": {},
   "source": [
    "### Employment"
   ]
  },
  {
   "cell_type": "markdown",
   "metadata": {},
   "source": [
    "> Purpose: Assign employees to TAZs\n",
    "* Data Axle data and CBP data sources"
   ]
  },
  {
   "cell_type": "code",
   "execution_count": null,
   "metadata": {},
   "outputs": [],
   "source": [
    "employment_url = ''\n"
   ]
  },
  {
   "cell_type": "markdown",
   "metadata": {},
   "source": [
    "### Income by Residential Unit"
   ]
  },
  {
   "cell_type": "markdown",
   "metadata": {},
   "source": [
    "> Purpose: Calculate #/% of residential units in low/mid/high income in each TAZ\n",
    "* Get # of HH in each income bin by census block group from ACS\n",
    "* Combine to low/mid/high income, with breaks at 60k and 100k\n",
    "* Assign to TAZ\n"
   ]
  },
  {
   "cell_type": "code",
   "execution_count": null,
   "metadata": {},
   "outputs": [],
   "source": [
    "# place holder URL - Demographics URL will have a new Feature Service titled \"Block Group 2022 - Travel Demand Model Inputs\"\n",
    "census_url = 'https://maps.trpa.org/server/rest/services/Demographics/MapServer/1'\n",
    "sdf_census = get_fs_data_spatial(census_url)\n"
   ]
  },
  {
   "cell_type": "markdown",
   "metadata": {},
   "source": [
    "## Overnight Visitation\n",
    ">TAZ by hotelmotel,resort,casino,campground,percentHouseSeasonal,beach"
   ]
  },
  {
   "cell_type": "markdown",
   "metadata": {},
   "source": [
    "### Tourist Accommodation Units"
   ]
  },
  {
   "cell_type": "code",
   "execution_count": null,
   "metadata": {},
   "outputs": [],
   "source": [
    "# Get VHR data - this is current, no way to get historical data outside of the City of South Lake Tahoe\n",
    "vhr_url = 'https://maps.trpa.org/server/rest/services/VHR/MapServer/0'\n",
    "sdf_vhr = get_fs_data_spatial(vhr_url)\n",
    "\n",
    "# Get Tourist Accomodation Units data\n",
    "tau_url = 'https://maps.trpa.org/server/rest/services/Existing_Development/MapServer/2'\n",
    "sdf_tau = get_fs_data_spatial_query(tau_url, \"Year = 2022\")\n"
   ]
  },
  {
   "cell_type": "code",
   "execution_count": null,
   "metadata": {},
   "outputs": [],
   "source": [
    "# spatial join TAZ to VHR\n"
   ]
  },
  {
   "cell_type": "code",
   "execution_count": null,
   "metadata": {},
   "outputs": [],
   "source": []
  },
  {
   "cell_type": "markdown",
   "metadata": {},
   "source": [
    "### Campgrounds"
   ]
  },
  {
   "cell_type": "markdown",
   "metadata": {},
   "source": [
    "> Purpose: calculate campground occupancy on model day and assign to TAZs\n",
    "* in-process data: \"F:\\Research and Analysis\\Transportation\\Travel_Demand_Model\\2023 Update\\Input Data\\Campgrounds\\Campground_Visitation.xlsx\"\n",
    "* USFS data: https://apps.fs.usda.gov/arcx/rest/services/EDW/EDW_RecreationAreaActivities_01/MapServer/0"
   ]
  },
  {
   "cell_type": "code",
   "execution_count": null,
   "metadata": {},
   "outputs": [],
   "source": [
    "# Get the data\n",
    "campgroundu_url = 'https://maps.trpa.org/server/rest/services/Recreation/MapServer/1'\n",
    "# campgrounds\n",
    "sdf_campgrounds = get_fs_data_spatial_query(campgroundu_url, \"RECREATION_TYPE = 'Campground\")\n",
    "\n",
    "# campground visitation\n",
    "df_campground_visitation = pd.read_csv('2022/Data/Campground_Visitation.csv')"
   ]
  },
  {
   "cell_type": "code",
   "execution_count": null,
   "metadata": {},
   "outputs": [],
   "source": [
    "# CA SP info https://csparks.maps.arcgis.com/apps/webappviewer/index.html?id=f96a883ff4154455b23bdc119f4574a9\n",
    "# CA SP visitation"
   ]
  },
  {
   "cell_type": "code",
   "execution_count": 3,
   "metadata": {},
   "outputs": [
    {
     "name": "stderr",
     "output_type": "stream",
     "text": [
      "C:\\Users\\mbindl\\AppData\\Local\\Temp\\ipykernel_25080\\2368236116.py:12: DtypeWarning: Columns (5,6,7,11,12,13,15,17,27,29,31,32,33) have mixed types. Specify dtype option on import or set low_memory=False.\n",
      "  df_res = pd.read_csv(rec_gov)\n"
     ]
    }
   ],
   "source": [
    "import pandas as pd\n",
    "import requests\n",
    "# get data params with Mason's API key\n",
    "campsite_url = 'https://ridb.recreation.gov/api/v1/facilities/232768/campsites'\n",
    "api = '45310cc1-df4f-4824-88ba-8bd75d06f57e'\n",
    "params = {'apikey': api}\n",
    "\n",
    "# rec data from https://ridb.recreation.gov/download\n",
    "# https://ridb.recreation.gov/downloads/reservations2022.zip\n",
    "# local copy\n",
    "rec_gov = r\"C:\\Users\\mbindl\\Downloads\\reservations2022\\FY22 Historical Reservations Full.csv\"\n",
    "df_res = pd.read_csv(rec_gov)"
   ]
  },
  {
   "cell_type": "code",
   "execution_count": 10,
   "metadata": {},
   "outputs": [
    {
     "name": "stdout",
     "output_type": "stream",
     "text": [
      "Nevada Beach Campground has 52 campsites\n",
      "Nevada Beach Campground had 1586 nights reserved and 2082.0 total visitors during August 2022\n",
      "Fallen Leaf Campground has 196 campsites\n",
      "Fallen Leaf Campground had 7501 nights reserved and 11255.0 total visitors during August 2022\n",
      "Meeks Bay Campground has 40 campsites\n",
      "Meeks Bay Campground had 1572 nights reserved and 2678.0 total visitors during August 2022\n",
      "William Kent Campground has 79 campsites\n",
      "William Kent Campground had 2807 nights reserved and 4336.0 total visitors during August 2022\n",
      "Kaspian Campground has 9 campsites\n",
      "Kaspian Campground had 327 nights reserved and 561.0 total visitors during August 2022\n"
     ]
    }
   ],
   "source": [
    "# empty data frame to store campsite info\n",
    "df_campsite_info_all = pd.DataFrame(columns=['Campground','Campsites', 'Total Nights', 'Total Visitors'])\n",
    "\n",
    "# get campsite info from recreation.gov api\n",
    "campgound_ids = {'232768':'Nevada Beach Campground',\n",
    "                 '232769':'Fallen Leaf Campground',\n",
    "                 '232876':'Meeks Bay Campground',\n",
    "                 '232874':'William Kent Campground',\n",
    "                 '232875':'Kaspian Campground',}\n",
    "\n",
    "# create loop of campgrounds ids and get requests and count campsites\n",
    "for campsite_id, campsite_name in campgound_ids.items():\n",
    "    campsite_url = f'https://ridb.recreation.gov/api/v1/facilities/{campsite_id}/campsites'\n",
    "    # get data for \"Nevada Beach Campground\"\n",
    "    campsite_data = requests.get(campsite_url, params=params).json()\n",
    "    # parse the data into a dataframe\n",
    "    df_campsite = pd.DataFrame(campsite_data['RECDATA'])\n",
    "    # count campsites\n",
    "    print(f'{campsite_name} has {df_campsite.CampsiteName.count()} campsites')\n",
    "    site_count = df_campsite.CampsiteName.count()\n",
    "\n",
    "    # filter by campground id from the downloaded data\n",
    "    df = df_res[df_res.facilityid == int(campsite_id)]\n",
    "    # filter to usetype = Overnight\n",
    "    df = df[df.usetype == 'Overnight']\n",
    "    # filter by August 2022\n",
    "    df_august22 = df[df.startdate.str.contains('2022-08')]\n",
    "    # # filter out cancelled reservations\n",
    "    # df_august22 = df_august22[df_august22.status != 'Cancelled']\n",
    "    # # filter out reservations with 0 nights\n",
    "    # df_august22 = df_august22[df_august22.nights != '0']\n",
    "    # filter out reservations with end date in September 2022\n",
    "    df_august22 = df_august22[~df_august22.enddate.str.contains('2022-09')]\n",
    "    # use .loc to strip off ' days' from the nights column\n",
    "    df_august22.loc[:, 'nights'] = df_august22.nights.map(lambda x: x.rstrip(' days'))\n",
    "    # use .loc to strip off ' day' from the nights column\n",
    "    df_august22.loc[:, 'nights'] = df_august22.nights.map(lambda x: x.rstrip(' day'))\n",
    "    # drop a specific row based on a value in nights column\n",
    "    df_august22 = df_august22[df_august22.nights != '00:00:00']\n",
    "    # convert nights column to integer\n",
    "    df_august22.nights = df_august22.nights.astype(int)\n",
    "\n",
    "    # number of nights reserved for Nevada Beach Campground in August 2022\n",
    "    total_nights = df_august22.nights.sum()\n",
    "    # get total number of people reserved for Nevada Beach Campground in August 2022\n",
    "    total_people = df_august22.numberofpeople.sum()\n",
    "    print(f'{campsite_name} had {total_nights} nights reserved and {total_people} total visitors during August 2022')\n",
    "    # append as row to new dataframe with campsite name, total nights, and total people\n",
    "    df_campsite_info = pd.DataFrame([[campsite_name, site_count, total_nights, total_people]], \n",
    "                                    columns=['Campground', 'Campsites','Total Nights', 'Total Visitors'])\n",
    "    \n",
    "    # Check if 'df_campsite_info_all' exists in the local namespace\n",
    "    if 'df_campsite_info_all' in locals():\n",
    "        # If it exists, append 'df_campsite_info' to it as a new row\n",
    "        df_campsite_info_all = pd.concat([df_campsite_info_all, df_campsite_info], ignore_index=True)\n",
    "    else:\n",
    "        # If it doesn't exist, assign 'df_campsite_info' to it directly\n",
    "        df_campsite_info_all = df_campsite_info.copy()"
   ]
  },
  {
   "cell_type": "code",
   "execution_count": 20,
   "metadata": {},
   "outputs": [
    {
     "name": "stdout",
     "output_type": "stream",
     "text": [
      "Nevada Beach Campground has 52 campsites\n",
      "Fallen Leaf Campground has 196 campsites\n",
      "Meeks Bay Campground has 40 campsites\n",
      "William Kent Campground has 79 campsites\n",
      "Kaspian Campground has 9 campsites\n"
     ]
    }
   ],
   "source": [
    "# create loop of campgrounds ids and get requests and count campsites\n",
    "for campsite_id, campsite_name in campgound_ids.items():\n",
    "    campsite_url = f'https://ridb.recreation.gov/api/v1/facilities/{campsite_id}/campsites'\n",
    "    # get data for \"Nevada Beach Campground\"\n",
    "    campsite_data = requests.get(campsite_url, params=params).json()\n",
    "    # parse the data into a dataframe\n",
    "    df_campsite = pd.DataFrame(campsite_data['RECDATA'])\n",
    "    # count campsites\n",
    "    print(f'{campsite_name} has {df_campsite.CampsiteName.count()} campsites')\n",
    "    site_count = df_campsite.CampsiteName.count()\n",
    "\n",
    "    # filter by campground id from the downloaded data\n",
    "    df = df_res[df_res.facilityid == int(campsite_id)]\n",
    "    # filter to usetype = Overnight\n",
    "    df = df[df.usetype == 'Overnight']\n",
    "    # filter by August 2022\n",
    "    df_august22 = df[df.startdate.str.contains('2022-08')]"
   ]
  },
  {
   "cell_type": "code",
   "execution_count": 23,
   "metadata": {},
   "outputs": [
    {
     "name": "stdout",
     "output_type": "stream",
     "text": [
      "<class 'pandas.core.frame.DataFrame'>\n",
      "Index: 153 entries, 8210810 to 8211478\n",
      "Data columns (total 35 columns):\n",
      " #   Column                   Non-Null Count  Dtype  \n",
      "---  ------                   --------------  -----  \n",
      " 0   historicalreservationid  153 non-null    object \n",
      " 1   ordernumber              153 non-null    object \n",
      " 2   agency                   153 non-null    object \n",
      " 3   orgid                    153 non-null    int64  \n",
      " 4   codehierarchy            153 non-null    object \n",
      " 5   regioncode               153 non-null    object \n",
      " 6   regiondescription        153 non-null    object \n",
      " 7   parentlocationid         153 non-null    object \n",
      " 8   parentlocation           153 non-null    object \n",
      " 9   legacyfacilityid         153 non-null    float64\n",
      " 10  park                     153 non-null    object \n",
      " 11  sitetype                 153 non-null    object \n",
      " 12  usetype                  153 non-null    object \n",
      " 13  productid                153 non-null    object \n",
      " 14  inventorytype            153 non-null    object \n",
      " 15  facilityid               153 non-null    object \n",
      " 16  facilityzip              153 non-null    float64\n",
      " 17  facilitystate            153 non-null    object \n",
      " 18  facilitylongitude        153 non-null    float64\n",
      " 19  facilitylatitude         153 non-null    float64\n",
      " 20  customerzip              94 non-null     object \n",
      " 21  tax                      153 non-null    float64\n",
      " 22  usefee                   0 non-null      float64\n",
      " 23  tranfee                  0 non-null      float64\n",
      " 24  attrfee                  0 non-null      float64\n",
      " 25  totalbeforetax           153 non-null    float64\n",
      " 26  discount                 153 non-null    float64\n",
      " 27  totalpaid                153 non-null    object \n",
      " 28  startdate                153 non-null    object \n",
      " 29  enddate                  153 non-null    object \n",
      " 30  orderdate                153 non-null    object \n",
      " 31  nights                   153 non-null    object \n",
      " 32  numberofpeople           153 non-null    object \n",
      " 33  equipmentdescription     153 non-null    object \n",
      " 34  equipmentlength          153 non-null    float64\n",
      "dtypes: float64(11), int64(1), object(23)\n",
      "memory usage: 43.0+ KB\n"
     ]
    }
   ],
   "source": [
    "df_august22.info()"
   ]
  },
  {
   "cell_type": "code",
   "execution_count": 13,
   "metadata": {},
   "outputs": [
    {
     "data": {
      "text/html": [
       "<div>\n",
       "<style scoped>\n",
       "    .dataframe tbody tr th:only-of-type {\n",
       "        vertical-align: middle;\n",
       "    }\n",
       "\n",
       "    .dataframe tbody tr th {\n",
       "        vertical-align: top;\n",
       "    }\n",
       "\n",
       "    .dataframe thead th {\n",
       "        text-align: right;\n",
       "    }\n",
       "</style>\n",
       "<table border=\"1\" class=\"dataframe\">\n",
       "  <thead>\n",
       "    <tr style=\"text-align: right;\">\n",
       "      <th></th>\n",
       "      <th>Campground</th>\n",
       "      <th>Campsites</th>\n",
       "      <th>Total Nights</th>\n",
       "      <th>Total Visitors</th>\n",
       "    </tr>\n",
       "  </thead>\n",
       "  <tbody>\n",
       "    <tr>\n",
       "      <th>0</th>\n",
       "      <td>Nevada Beach Campground</td>\n",
       "      <td>52</td>\n",
       "      <td>1586</td>\n",
       "      <td>2082.0</td>\n",
       "    </tr>\n",
       "    <tr>\n",
       "      <th>1</th>\n",
       "      <td>Fallen Leaf Campground</td>\n",
       "      <td>196</td>\n",
       "      <td>7501</td>\n",
       "      <td>11255.0</td>\n",
       "    </tr>\n",
       "    <tr>\n",
       "      <th>2</th>\n",
       "      <td>Meeks Bay Campground</td>\n",
       "      <td>40</td>\n",
       "      <td>1572</td>\n",
       "      <td>2678.0</td>\n",
       "    </tr>\n",
       "    <tr>\n",
       "      <th>3</th>\n",
       "      <td>William Kent Campground</td>\n",
       "      <td>79</td>\n",
       "      <td>2807</td>\n",
       "      <td>4336.0</td>\n",
       "    </tr>\n",
       "    <tr>\n",
       "      <th>4</th>\n",
       "      <td>Kaspian Campground</td>\n",
       "      <td>9</td>\n",
       "      <td>327</td>\n",
       "      <td>561.0</td>\n",
       "    </tr>\n",
       "  </tbody>\n",
       "</table>\n",
       "</div>"
      ],
      "text/plain": [
       "                Campground Campsites Total Nights  Total Visitors\n",
       "0  Nevada Beach Campground        52         1586          2082.0\n",
       "1   Fallen Leaf Campground       196         7501         11255.0\n",
       "2     Meeks Bay Campground        40         1572          2678.0\n",
       "3  William Kent Campground        79         2807          4336.0\n",
       "4       Kaspian Campground         9          327           561.0"
      ]
     },
     "execution_count": 13,
     "metadata": {},
     "output_type": "execute_result"
    }
   ],
   "source": [
    "df_campsite_info_all\n"
   ]
  },
  {
   "cell_type": "code",
   "execution_count": 19,
   "metadata": {},
   "outputs": [
    {
     "data": {
      "text/html": [
       "<div>\n",
       "<style scoped>\n",
       "    .dataframe tbody tr th:only-of-type {\n",
       "        vertical-align: middle;\n",
       "    }\n",
       "\n",
       "    .dataframe tbody tr th {\n",
       "        vertical-align: top;\n",
       "    }\n",
       "\n",
       "    .dataframe thead th {\n",
       "        text-align: right;\n",
       "    }\n",
       "</style>\n",
       "<table border=\"1\" class=\"dataframe\">\n",
       "  <thead>\n",
       "    <tr style=\"text-align: right;\">\n",
       "      <th></th>\n",
       "      <th>historicalreservationid</th>\n",
       "      <th>ordernumber</th>\n",
       "      <th>agency</th>\n",
       "      <th>orgid</th>\n",
       "      <th>codehierarchy</th>\n",
       "      <th>regioncode</th>\n",
       "      <th>regiondescription</th>\n",
       "      <th>parentlocationid</th>\n",
       "      <th>parentlocation</th>\n",
       "      <th>legacyfacilityid</th>\n",
       "      <th>...</th>\n",
       "      <th>totalbeforetax</th>\n",
       "      <th>discount</th>\n",
       "      <th>totalpaid</th>\n",
       "      <th>startdate</th>\n",
       "      <th>enddate</th>\n",
       "      <th>orderdate</th>\n",
       "      <th>nights</th>\n",
       "      <th>numberofpeople</th>\n",
       "      <th>equipmentdescription</th>\n",
       "      <th>equipmentlength</th>\n",
       "    </tr>\n",
       "  </thead>\n",
       "  <tbody>\n",
       "    <tr>\n",
       "      <th>8210774</th>\n",
       "      <td>65499887-16f4-4381-b8ee-4dcc89f7c47b</td>\n",
       "      <td>0300355902-1</td>\n",
       "      <td>USFS</td>\n",
       "      <td>131</td>\n",
       "      <td>|1|70903|72602|74417|71663</td>\n",
       "      <td>R05</td>\n",
       "      <td>Pacific Southwest Region</td>\n",
       "      <td>74839</td>\n",
       "      <td>Lake Tahoe Basin Management Unit</td>\n",
       "      <td>71663.0</td>\n",
       "      <td>...</td>\n",
       "      <td>0.0</td>\n",
       "      <td>0.0</td>\n",
       "      <td>0.0</td>\n",
       "      <td>2021-10-08T00:00:00Z</td>\n",
       "      <td>2021-10-10T00:00:00Z</td>\n",
       "      <td>2021-08-21T19:34:16.047908Z</td>\n",
       "      <td>2 days</td>\n",
       "      <td>6.0</td>\n",
       "      <td>Tent</td>\n",
       "      <td>0.0</td>\n",
       "    </tr>\n",
       "    <tr>\n",
       "      <th>8210775</th>\n",
       "      <td>00a0aded-a902-4f17-bbc4-533edf7f566a</td>\n",
       "      <td>0306671463-1</td>\n",
       "      <td>USFS</td>\n",
       "      <td>131</td>\n",
       "      <td>|1|70903|72602|74417|71663</td>\n",
       "      <td>R05</td>\n",
       "      <td>Pacific Southwest Region</td>\n",
       "      <td>74839</td>\n",
       "      <td>Lake Tahoe Basin Management Unit</td>\n",
       "      <td>71663.0</td>\n",
       "      <td>...</td>\n",
       "      <td>18.0</td>\n",
       "      <td>0.0</td>\n",
       "      <td>18.0</td>\n",
       "      <td>2021-10-07T00:00:00Z</td>\n",
       "      <td>2021-10-08T00:00:00Z</td>\n",
       "      <td>2021-06-20T18:53:59.47631Z</td>\n",
       "      <td>1 day</td>\n",
       "      <td>2.0</td>\n",
       "      <td>Tent</td>\n",
       "      <td>0.0</td>\n",
       "    </tr>\n",
       "    <tr>\n",
       "      <th>8210776</th>\n",
       "      <td>9107d259-cd77-40c4-b46f-9b9822c8aa18</td>\n",
       "      <td>0307728257-1</td>\n",
       "      <td>USFS</td>\n",
       "      <td>131</td>\n",
       "      <td>|1|70903|72602|74417|71663</td>\n",
       "      <td>R05</td>\n",
       "      <td>Pacific Southwest Region</td>\n",
       "      <td>74839</td>\n",
       "      <td>Lake Tahoe Basin Management Unit</td>\n",
       "      <td>71663.0</td>\n",
       "      <td>...</td>\n",
       "      <td>0.0</td>\n",
       "      <td>0.0</td>\n",
       "      <td>0.0</td>\n",
       "      <td>2021-10-01T00:00:00Z</td>\n",
       "      <td>2021-10-03T00:00:00Z</td>\n",
       "      <td>2021-07-09T16:08:45.497455Z</td>\n",
       "      <td>2 days</td>\n",
       "      <td>6.0</td>\n",
       "      <td>Tent</td>\n",
       "      <td>0.0</td>\n",
       "    </tr>\n",
       "    <tr>\n",
       "      <th>8210777</th>\n",
       "      <td>40a79493-3610-4754-ae2a-6926b2690151</td>\n",
       "      <td>0317278204-1</td>\n",
       "      <td>USFS</td>\n",
       "      <td>131</td>\n",
       "      <td>|1|70903|72602|74417|71663</td>\n",
       "      <td>R05</td>\n",
       "      <td>Pacific Southwest Region</td>\n",
       "      <td>74839</td>\n",
       "      <td>Lake Tahoe Basin Management Unit</td>\n",
       "      <td>71663.0</td>\n",
       "      <td>...</td>\n",
       "      <td>0.0</td>\n",
       "      <td>0.0</td>\n",
       "      <td>0.0</td>\n",
       "      <td>2021-10-02T00:00:00Z</td>\n",
       "      <td>2021-10-03T00:00:00Z</td>\n",
       "      <td>2021-09-09T00:51:38.893845Z</td>\n",
       "      <td>1 day</td>\n",
       "      <td>1.0</td>\n",
       "      <td>Tent</td>\n",
       "      <td>0.0</td>\n",
       "    </tr>\n",
       "    <tr>\n",
       "      <th>8210778</th>\n",
       "      <td>2cbb2754-129a-4a34-a1e6-30dd119a0057</td>\n",
       "      <td>0318380050-1</td>\n",
       "      <td>USFS</td>\n",
       "      <td>131</td>\n",
       "      <td>|1|70903|72602|74417|71663</td>\n",
       "      <td>R05</td>\n",
       "      <td>Pacific Southwest Region</td>\n",
       "      <td>74839</td>\n",
       "      <td>Lake Tahoe Basin Management Unit</td>\n",
       "      <td>71663.0</td>\n",
       "      <td>...</td>\n",
       "      <td>0.0</td>\n",
       "      <td>0.0</td>\n",
       "      <td>0.0</td>\n",
       "      <td>2021-10-08T00:00:00Z</td>\n",
       "      <td>2021-10-11T00:00:00Z</td>\n",
       "      <td>2021-07-15T18:24:33.64354Z</td>\n",
       "      <td>3 days</td>\n",
       "      <td>5.0</td>\n",
       "      <td>Tent</td>\n",
       "      <td>0.0</td>\n",
       "    </tr>\n",
       "    <tr>\n",
       "      <th>...</th>\n",
       "      <td>...</td>\n",
       "      <td>...</td>\n",
       "      <td>...</td>\n",
       "      <td>...</td>\n",
       "      <td>...</td>\n",
       "      <td>...</td>\n",
       "      <td>...</td>\n",
       "      <td>...</td>\n",
       "      <td>...</td>\n",
       "      <td>...</td>\n",
       "      <td>...</td>\n",
       "      <td>...</td>\n",
       "      <td>...</td>\n",
       "      <td>...</td>\n",
       "      <td>...</td>\n",
       "      <td>...</td>\n",
       "      <td>...</td>\n",
       "      <td>...</td>\n",
       "      <td>...</td>\n",
       "      <td>...</td>\n",
       "      <td>...</td>\n",
       "    </tr>\n",
       "    <tr>\n",
       "      <th>8211474</th>\n",
       "      <td>65610e3c-61d4-40eb-b8db-758f2fab4be1</td>\n",
       "      <td>0499474798-1</td>\n",
       "      <td>USFS</td>\n",
       "      <td>131</td>\n",
       "      <td>|1|70903|72602|74417|71663</td>\n",
       "      <td>R05</td>\n",
       "      <td>Pacific Southwest Region</td>\n",
       "      <td>74839</td>\n",
       "      <td>Lake Tahoe Basin Management Unit</td>\n",
       "      <td>71663.0</td>\n",
       "      <td>...</td>\n",
       "      <td>77.0</td>\n",
       "      <td>0.0</td>\n",
       "      <td>77.0</td>\n",
       "      <td>2022-06-16T00:00:00Z</td>\n",
       "      <td>2022-06-19T00:00:00Z</td>\n",
       "      <td>2022-01-01T15:07:59.295729Z</td>\n",
       "      <td>3 days</td>\n",
       "      <td>6.0</td>\n",
       "      <td>Tent</td>\n",
       "      <td>0.0</td>\n",
       "    </tr>\n",
       "    <tr>\n",
       "      <th>8211475</th>\n",
       "      <td>fb5370ad-0fd9-4836-8f5d-c81bff2310d0</td>\n",
       "      <td>0499670335-1</td>\n",
       "      <td>USFS</td>\n",
       "      <td>131</td>\n",
       "      <td>|1|70903|72602|74417|71663</td>\n",
       "      <td>R05</td>\n",
       "      <td>Pacific Southwest Region</td>\n",
       "      <td>74839</td>\n",
       "      <td>Lake Tahoe Basin Management Unit</td>\n",
       "      <td>71663.0</td>\n",
       "      <td>...</td>\n",
       "      <td>31.0</td>\n",
       "      <td>0.0</td>\n",
       "      <td>31.0</td>\n",
       "      <td>2022-06-23T00:00:00Z</td>\n",
       "      <td>2022-06-24T00:00:00Z</td>\n",
       "      <td>2022-05-21T03:57:06.747053Z</td>\n",
       "      <td>1 day</td>\n",
       "      <td>2.0</td>\n",
       "      <td>Tent</td>\n",
       "      <td>0.0</td>\n",
       "    </tr>\n",
       "    <tr>\n",
       "      <th>8211476</th>\n",
       "      <td>696789db-32bd-4627-9be6-12b227b228b2</td>\n",
       "      <td>0499730859-1</td>\n",
       "      <td>USFS</td>\n",
       "      <td>131</td>\n",
       "      <td>|1|70903|72602|74417|71663</td>\n",
       "      <td>R05</td>\n",
       "      <td>Pacific Southwest Region</td>\n",
       "      <td>74839</td>\n",
       "      <td>Lake Tahoe Basin Management Unit</td>\n",
       "      <td>71663.0</td>\n",
       "      <td>...</td>\n",
       "      <td>54.0</td>\n",
       "      <td>-23.0</td>\n",
       "      <td>31.0</td>\n",
       "      <td>2022-08-27T00:00:00Z</td>\n",
       "      <td>2022-08-29T00:00:00Z</td>\n",
       "      <td>2022-04-18T02:46:04.22146Z</td>\n",
       "      <td>2 days</td>\n",
       "      <td>1.0</td>\n",
       "      <td>Tent</td>\n",
       "      <td>0.0</td>\n",
       "    </tr>\n",
       "    <tr>\n",
       "      <th>8211477</th>\n",
       "      <td>77092148-178c-4f8b-b46c-b06e869940cd</td>\n",
       "      <td>0499850477-1</td>\n",
       "      <td>USFS</td>\n",
       "      <td>131</td>\n",
       "      <td>|1|70903|72602|74417|71663</td>\n",
       "      <td>R05</td>\n",
       "      <td>Pacific Southwest Region</td>\n",
       "      <td>74839</td>\n",
       "      <td>Lake Tahoe Basin Management Unit</td>\n",
       "      <td>71663.0</td>\n",
       "      <td>...</td>\n",
       "      <td>18.0</td>\n",
       "      <td>0.0</td>\n",
       "      <td>18.0</td>\n",
       "      <td>2022-05-31T00:00:00Z</td>\n",
       "      <td>2022-06-03T00:00:00Z</td>\n",
       "      <td>2022-05-16T17:24:08.473836Z</td>\n",
       "      <td>3 days</td>\n",
       "      <td>6.0</td>\n",
       "      <td>Tent</td>\n",
       "      <td>0.0</td>\n",
       "    </tr>\n",
       "    <tr>\n",
       "      <th>8211478</th>\n",
       "      <td>6f4baeb5-40d6-4156-a381-92b65a0bce66</td>\n",
       "      <td>0499969921-1</td>\n",
       "      <td>USFS</td>\n",
       "      <td>131</td>\n",
       "      <td>|1|70903|72602|74417|71663</td>\n",
       "      <td>R05</td>\n",
       "      <td>Pacific Southwest Region</td>\n",
       "      <td>74839</td>\n",
       "      <td>Lake Tahoe Basin Management Unit</td>\n",
       "      <td>71663.0</td>\n",
       "      <td>...</td>\n",
       "      <td>31.0</td>\n",
       "      <td>0.0</td>\n",
       "      <td>31.0</td>\n",
       "      <td>2022-08-14T00:00:00Z</td>\n",
       "      <td>2022-08-15T00:00:00Z</td>\n",
       "      <td>2022-08-12T20:46:20.870003Z</td>\n",
       "      <td>1 day</td>\n",
       "      <td>2.0</td>\n",
       "      <td>Tent</td>\n",
       "      <td>0.0</td>\n",
       "    </tr>\n",
       "  </tbody>\n",
       "</table>\n",
       "<p>705 rows × 35 columns</p>\n",
       "</div>"
      ],
      "text/plain": [
       "                      historicalreservationid   ordernumber agency  orgid  \\\n",
       "8210774  65499887-16f4-4381-b8ee-4dcc89f7c47b  0300355902-1   USFS    131   \n",
       "8210775  00a0aded-a902-4f17-bbc4-533edf7f566a  0306671463-1   USFS    131   \n",
       "8210776  9107d259-cd77-40c4-b46f-9b9822c8aa18  0307728257-1   USFS    131   \n",
       "8210777  40a79493-3610-4754-ae2a-6926b2690151  0317278204-1   USFS    131   \n",
       "8210778  2cbb2754-129a-4a34-a1e6-30dd119a0057  0318380050-1   USFS    131   \n",
       "...                                       ...           ...    ...    ...   \n",
       "8211474  65610e3c-61d4-40eb-b8db-758f2fab4be1  0499474798-1   USFS    131   \n",
       "8211475  fb5370ad-0fd9-4836-8f5d-c81bff2310d0  0499670335-1   USFS    131   \n",
       "8211476  696789db-32bd-4627-9be6-12b227b228b2  0499730859-1   USFS    131   \n",
       "8211477  77092148-178c-4f8b-b46c-b06e869940cd  0499850477-1   USFS    131   \n",
       "8211478  6f4baeb5-40d6-4156-a381-92b65a0bce66  0499969921-1   USFS    131   \n",
       "\n",
       "                      codehierarchy regioncode         regiondescription  \\\n",
       "8210774  |1|70903|72602|74417|71663        R05  Pacific Southwest Region   \n",
       "8210775  |1|70903|72602|74417|71663        R05  Pacific Southwest Region   \n",
       "8210776  |1|70903|72602|74417|71663        R05  Pacific Southwest Region   \n",
       "8210777  |1|70903|72602|74417|71663        R05  Pacific Southwest Region   \n",
       "8210778  |1|70903|72602|74417|71663        R05  Pacific Southwest Region   \n",
       "...                             ...        ...                       ...   \n",
       "8211474  |1|70903|72602|74417|71663        R05  Pacific Southwest Region   \n",
       "8211475  |1|70903|72602|74417|71663        R05  Pacific Southwest Region   \n",
       "8211476  |1|70903|72602|74417|71663        R05  Pacific Southwest Region   \n",
       "8211477  |1|70903|72602|74417|71663        R05  Pacific Southwest Region   \n",
       "8211478  |1|70903|72602|74417|71663        R05  Pacific Southwest Region   \n",
       "\n",
       "        parentlocationid                    parentlocation  legacyfacilityid  \\\n",
       "8210774            74839  Lake Tahoe Basin Management Unit           71663.0   \n",
       "8210775            74839  Lake Tahoe Basin Management Unit           71663.0   \n",
       "8210776            74839  Lake Tahoe Basin Management Unit           71663.0   \n",
       "8210777            74839  Lake Tahoe Basin Management Unit           71663.0   \n",
       "8210778            74839  Lake Tahoe Basin Management Unit           71663.0   \n",
       "...                  ...                               ...               ...   \n",
       "8211474            74839  Lake Tahoe Basin Management Unit           71663.0   \n",
       "8211475            74839  Lake Tahoe Basin Management Unit           71663.0   \n",
       "8211476            74839  Lake Tahoe Basin Management Unit           71663.0   \n",
       "8211477            74839  Lake Tahoe Basin Management Unit           71663.0   \n",
       "8211478            74839  Lake Tahoe Basin Management Unit           71663.0   \n",
       "\n",
       "         ... totalbeforetax discount totalpaid             startdate  \\\n",
       "8210774  ...            0.0      0.0       0.0  2021-10-08T00:00:00Z   \n",
       "8210775  ...           18.0      0.0      18.0  2021-10-07T00:00:00Z   \n",
       "8210776  ...            0.0      0.0       0.0  2021-10-01T00:00:00Z   \n",
       "8210777  ...            0.0      0.0       0.0  2021-10-02T00:00:00Z   \n",
       "8210778  ...            0.0      0.0       0.0  2021-10-08T00:00:00Z   \n",
       "...      ...            ...      ...       ...                   ...   \n",
       "8211474  ...           77.0      0.0      77.0  2022-06-16T00:00:00Z   \n",
       "8211475  ...           31.0      0.0      31.0  2022-06-23T00:00:00Z   \n",
       "8211476  ...           54.0    -23.0      31.0  2022-08-27T00:00:00Z   \n",
       "8211477  ...           18.0      0.0      18.0  2022-05-31T00:00:00Z   \n",
       "8211478  ...           31.0      0.0      31.0  2022-08-14T00:00:00Z   \n",
       "\n",
       "                      enddate                    orderdate  nights  \\\n",
       "8210774  2021-10-10T00:00:00Z  2021-08-21T19:34:16.047908Z  2 days   \n",
       "8210775  2021-10-08T00:00:00Z   2021-06-20T18:53:59.47631Z   1 day   \n",
       "8210776  2021-10-03T00:00:00Z  2021-07-09T16:08:45.497455Z  2 days   \n",
       "8210777  2021-10-03T00:00:00Z  2021-09-09T00:51:38.893845Z   1 day   \n",
       "8210778  2021-10-11T00:00:00Z   2021-07-15T18:24:33.64354Z  3 days   \n",
       "...                       ...                          ...     ...   \n",
       "8211474  2022-06-19T00:00:00Z  2022-01-01T15:07:59.295729Z  3 days   \n",
       "8211475  2022-06-24T00:00:00Z  2022-05-21T03:57:06.747053Z   1 day   \n",
       "8211476  2022-08-29T00:00:00Z   2022-04-18T02:46:04.22146Z  2 days   \n",
       "8211477  2022-06-03T00:00:00Z  2022-05-16T17:24:08.473836Z  3 days   \n",
       "8211478  2022-08-15T00:00:00Z  2022-08-12T20:46:20.870003Z   1 day   \n",
       "\n",
       "        numberofpeople  equipmentdescription  equipmentlength  \n",
       "8210774            6.0                  Tent              0.0  \n",
       "8210775            2.0                  Tent              0.0  \n",
       "8210776            6.0                  Tent              0.0  \n",
       "8210777            1.0                  Tent              0.0  \n",
       "8210778            5.0                  Tent              0.0  \n",
       "...                ...                   ...              ...  \n",
       "8211474            6.0                  Tent              0.0  \n",
       "8211475            2.0                  Tent              0.0  \n",
       "8211476            1.0                  Tent              0.0  \n",
       "8211477            6.0                  Tent              0.0  \n",
       "8211478            2.0                  Tent              0.0  \n",
       "\n",
       "[705 rows x 35 columns]"
      ]
     },
     "execution_count": 19,
     "metadata": {},
     "output_type": "execute_result"
    }
   ],
   "source": [
    "df"
   ]
  },
  {
   "cell_type": "code",
   "execution_count": null,
   "metadata": {},
   "outputs": [],
   "source": [
    "# remove any reservation that has an enddate in september\n",
    "df_res_august = df_res[~df_res.enddate.str.contains('2022-09')]"
   ]
  },
  {
   "cell_type": "markdown",
   "metadata": {},
   "source": [
    "## Occupancy Rates\n",
    "> TAZ by hotelmotel,resort,casino,campground,house,seasonal"
   ]
  },
  {
   "cell_type": "markdown",
   "metadata": {},
   "source": [
    "### Lodging Occupancy\n"
   ]
  },
  {
   "cell_type": "markdown",
   "metadata": {},
   "source": [
    "> Purpose: calculate occupancy rates for hotels and VHRs and assign to TAZs\n",
    "\n",
    "* Placer has Occupancy data at the TOT tax district. Josh will get the spatial file from Placer County GIS. \n",
    "* City of South Lake has hotel level occupancy data that needs to be converted to a spatial file. Reports live here: https://www.cityofslt.us/805/Zone-Detail-Reports \n",
    "* Douglas County has occupancy rates from the Casino reports: https://gaming.nv.gov/about/abstract/report/\n",
    "* Washoe County has occupancy rates at the District level from RSCVA (single number by type of occupancy) \"F:\\Research and Analysis\\Visitation\\occupancy\\Washoe B Occupied Rooms by Market Segment - 2022.xlsx\"\n",
    "* Rest of El Dorado County? is only VHRs, estimating Occupancy Rates based on TOT rates F:\\Research and Analysis\\Visitation\\occupancy"
   ]
  },
  {
   "cell_type": "code",
   "execution_count": null,
   "metadata": {},
   "outputs": [],
   "source": [
    "# Get VHR data - this is current, no way to get historical data outside of the City of South Lake Tahoe\n",
    "vhr_url = 'https://maps.trpa.org/server/rest/services/VHR/MapServer/0'\n",
    "sdf_vhr = get_fs_data_spatial(vhr_url)\n",
    "\n",
    "# Get Tourist Accomodation Units data\n",
    "tau_url = 'https://maps.trpa.org/server/rest/services/Existing_Development/MapServer/2'\n",
    "sdf_tau = get_fs_data_spatial_query(tau_url, \"Year = 2022\")\n",
    "\n",
    "# get occupancy rate data - see above for sources\n"
   ]
  },
  {
   "cell_type": "code",
   "execution_count": null,
   "metadata": {},
   "outputs": [],
   "source": []
  },
  {
   "cell_type": "markdown",
   "metadata": {},
   "source": [
    "### Housing Occupancy\n"
   ]
  },
  {
   "cell_type": "markdown",
   "metadata": {},
   "source": [
    "> Purpose: estimate household size in each occupied housing unit\n",
    "* get total Residential Units aggregated to TAZ\n",
    "* get total VHRs aggregated to TAZ\n",
    "* apply occupancy rate from ACS\n",
    "* ACS 2022 by Block Group - household size"
   ]
  },
  {
   "cell_type": "code",
   "execution_count": null,
   "metadata": {},
   "outputs": [],
   "source": [
    "# Get Houshold Block Group data\n",
    "household_url = ''\n",
    "sdf_household = get_fs_data_spatial(household_url)"
   ]
  },
  {
   "cell_type": "markdown",
   "metadata": {},
   "source": [
    "## School Enrollment\n",
    "> TAZ by elementary_school_enrollment,middle_school_enrollment,high_school_enrollment,college_enrollment"
   ]
  },
  {
   "cell_type": "markdown",
   "metadata": {},
   "source": [
    "> Purpose: Collate school enrollment files\n",
    "* create spatial file "
   ]
  },
  {
   "cell_type": "code",
   "execution_count": null,
   "metadata": {},
   "outputs": [],
   "source": [
    "# Get School Enrollment data\n",
    "school_url_table     = 'https://maps.trpa.org/server/rest/services/Demographics/MapServer/32'\n",
    "df_school_enrollment = get_fs_data(school_url_table)\n",
    "\n",
    "# Get School Enrollment data - spatial\n",
    "school_url_spatial = 'https://maps.trpa.org/server/rest/services/Datadownloader_PlanningandJurisdictions/MapServer/14'\n",
    "sdf_school         = get_fs_data_spatial(school_url_spatial)\n",
    "\n",
    "# Get TAZ data\n",
    "taz_url = 'https://maps.trpa.org/server/rest/services/Transportation_Planning/MapServer/6'\n",
    "sdf_taz = get_fs_data_spatial(taz_url)"
   ]
  },
  {
   "cell_type": "code",
   "execution_count": null,
   "metadata": {},
   "outputs": [],
   "source": [
    "# set Type to Null\n",
    "sdf_school['TYPE'] = None\n",
    "# set SchoolType to 'elementary' if it contains 'elementary' or 'magnet' or 'academy'\n",
    "sdf_school.loc[sdf_school['NAME'].str.contains('elementary', case=False), 'TYPE'] = 'Elementary School'\n",
    "# set SchoolType to 'middle' if it contains 'middle'\n",
    "sdf_school.loc[sdf_school['NAME'].str.contains('middle', case=False), 'TYPE'] = 'Middle School'\n",
    "# set SchoolType to 'high' if it contains 'high'\n",
    "sdf_school.loc[sdf_school['NAME'].str.contains('high', case=False), 'TYPE'] = 'High School'\n",
    "# set SchoolType to 'college' if it contains 'college'\n",
    "sdf_school.loc[sdf_school['NAME'].str.contains('college', case=False), 'TYPE'] = 'College'\n",
    "# set SchoolType to 'other' if it it does not contain any of the above\n",
    "sdf_school.loc[sdf_school['TYPE'].isnull(), 'TYPE'] = 'Elementary School'"
   ]
  },
  {
   "cell_type": "code",
   "execution_count": null,
   "metadata": {},
   "outputs": [],
   "source": [
    "# spatial join TAZs to School points\n",
    "sdf_school_taz = sdf_school.spatial.join(sdf_taz, how='inner')\n",
    "# group by TYPE and sum of Enrollment within TAZ \n",
    "sdf_school_taz_grouped = sdf_school_taz.groupby(['TYPE', 'TAZ']).agg(\n",
    "                                                {'ENROLLMENT': 'sum'}).reset_index()\n",
    "# unstack by TYPE as columns and TAZ as a column\n",
    "sdf_school_taz_grouped_pivot = sdf_school_taz_grouped.pivot(index='TAZ', \n",
    "                                                            columns='TYPE', \n",
    "                                                            values='ENROLLMENT').reset_index()\n",
    "# merge to sdf_taz to get all tazs\n",
    "sdf_taz_school = pd.merge(sdf_taz, sdf_school_taz_grouped_pivot, how='left', on='TAZ')\n",
    "# drop SHAPE column\n",
    "sdf_taz_school = sdf_taz_school.drop(columns='SHAPE')\n",
    "# fill NA with 0 for all rows\n",
    "sdf_taz_school = sdf_taz_school.fillna(0)\n",
    "# cast all fields to int\n",
    "sdf_taz_school = sdf_taz_school.astype(int)\n",
    "# rename columns\n",
    "sdf_taz_school.rename(columns={'Elementary School':'elementary_school_enrollment',\n",
    "                               'Middle School':'middle_school_enrollment',\n",
    "                               'High School':'high_school_enrollment',\n",
    "                               'College':'college_enrollment'}, inplace=True)\n",
    "\n",
    "# export to csv\n",
    "sdf_taz_school.to_csv(os.path.join('SchoolEnrollment.csv'), index=False)"
   ]
  },
  {
   "cell_type": "code",
   "execution_count": null,
   "metadata": {},
   "outputs": [],
   "source": [
    "sdf_taz_school"
   ]
  },
  {
   "cell_type": "markdown",
   "metadata": {},
   "source": [
    "#### other way "
   ]
  },
  {
   "cell_type": "code",
   "execution_count": null,
   "metadata": {},
   "outputs": [],
   "source": [
    "df_school_enrollment_22 = df_school_enrollment[df_school_enrollment['Year'] == '2022-2023']\n",
    "# Add a row for LTCC - Lake Tahoe Community College\n",
    "ltcc = {'School_Name': 'Lake Tahoe Community College', 'Level_': 'College', 'Enrollment': 2909}\n",
    "df_school_enrollment_22 = pd.concat([df_school_enrollment_22, pd.DataFrame([ltcc])], ignore_index=True)\n",
    "# join school spatial to school table\n",
    "sdf_school_enroll = pd.merge(sdf_school, df_school_enrollment, left_on='SchoolID', how='left')"
   ]
  },
  {
   "cell_type": "code",
   "execution_count": null,
   "metadata": {},
   "outputs": [],
   "source": [
    "# Get TAZ data\n",
    "taz_url = 'https://maps.trpa.org/server/rest/services/Transportation_Planning/MapServer/6'\n",
    "sdf_taz = get_fs_data_spatial(taz_url)\n",
    "\n",
    "# Get School Enrollment data - spatial\n",
    "school_url_spatial = 'https://maps.trpa.org/server/rest/services/Datadownloader_PlanningandJurisdictions/MapServer/14'\n",
    "sdf_school         = get_fs_data_spatial(school_url_spatial)\n",
    "\n",
    "\n",
    "# keep only the columns we need; SHAPE and TAZ for TAZ and SHAPE and ENROLLMENT for schools\n",
    "sdf_taz = sdf_taz[['TAZ', 'SHAPE']]\n",
    "sdf_school = sdf_school[['ENROLLMENT', 'SHAPE']]\n",
    "\n",
    "# convert to feature class\n",
    "sdf_taz.spatial.to_featureclass(location=os.path.join(arcpy.env.workspace, 'TAZ'), overwrite=True, sanitize_columns=False)\n",
    "sdf_school.spatial.to_featureclass(location=os.path.join(arcpy.env.workspace, 'Schools'), overwrite=True, sanitize_columns=False)"
   ]
  },
  {
   "cell_type": "code",
   "execution_count": null,
   "metadata": {},
   "outputs": [],
   "source": [
    "field_mappings = arcpy.FieldMappings()\n",
    "# add tables to field mappings\n",
    "field_mappings.addTable('TAZ')\n",
    "field_mappings.addTable('Schools')\n",
    "\n",
    "\n",
    "# print names of fields in field mappings\n",
    "for field in field_mappings.fields:\n",
    "    print(field.name)"
   ]
  },
  {
   "cell_type": "code",
   "execution_count": null,
   "metadata": {},
   "outputs": [],
   "source": [
    "# create field mappings\n",
    "field_mappings = arcpy.FieldMappings()\n",
    "\n",
    "# add tables to field mappings\n",
    "field_mappings.addTable('TAZ')\n",
    "field_mappings.addTable('Schools')\n",
    "\n",
    "# for the output.\n",
    "enrollment = field_mappings.findFieldMapIndex(\"ENROLLMENT\")\n",
    "fieldmap = field_mappings.getFieldMap(enrollment)\n",
    " \n",
    "# Get the output field's properties as a field object\n",
    "field = fieldmap.outputField\n",
    " \n",
    "# Rename the field and pass the updated field object back into the field map\n",
    "field.name = \"Total_Enrollment\"\n",
    "field.aliasName = \"Total Enrollment\"\n",
    "fieldmap.outputField = field\n",
    " \n",
    "# Set the merge rule to mean and then replace the old fieldmap in the mappings object\n",
    "# with the updated one\n",
    "fieldmap.mergeRule = \"sum\"\n",
    "field_mappings.replaceFieldMap(enrollment, fieldmap)\n",
    "\n",
    "# spatial join that sums enrollment for each TAZ\n",
    "arcpy.analysis.SpatialJoin(\n",
    "    target_features   =sdf_taz,\n",
    "    join_features     =sdf_school,\n",
    "    out_feature_class =\"TAZ_School_Enrollment\",\n",
    "    join_operation    =\"JOIN_ONE_TO_ONE\",\n",
    "    join_type         =\"KEEP_ALL\",\n",
    "    field_mapping     =field_mappings,\n",
    "    match_option      =\"INTERSECT\",\n",
    ")"
   ]
  },
  {
   "cell_type": "code",
   "execution_count": null,
   "metadata": {},
   "outputs": [],
   "source": [
    "# get the data \n",
    "sdf_taz_school = pd.DataFrame.spatial.from_featureclass(\"TAZ_School_Enrollment\")\n",
    "\n"
   ]
  },
  {
   "cell_type": "markdown",
   "metadata": {},
   "source": [
    "## Forecasts\n",
    "> Forecast 2040 and 2050 development and population change"
   ]
  },
  {
   "cell_type": "code",
   "execution_count": null,
   "metadata": {},
   "outputs": [],
   "source": [
    "# ??"
   ]
  }
 ],
 "metadata": {
  "kernelspec": {
   "display_name": "Python 3",
   "language": "python",
   "name": "python3"
  },
  "language_info": {
   "codemirror_mode": {
    "name": "ipython",
    "version": 3
   },
   "file_extension": ".py",
   "mimetype": "text/x-python",
   "name": "python",
   "nbconvert_exporter": "python",
   "pygments_lexer": "ipython3",
   "version": "3.9.18"
  }
 },
 "nbformat": 4,
 "nbformat_minor": 2
}
