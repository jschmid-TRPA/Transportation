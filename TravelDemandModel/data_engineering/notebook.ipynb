{
 "cells": [
  {
   "cell_type": "markdown",
   "metadata": {},
   "source": [
    "## Intro"
   ]
  },
  {
   "cell_type": "markdown",
   "metadata": {},
   "source": [
    "> Setup"
   ]
  },
  {
   "cell_type": "code",
   "execution_count": null,
   "metadata": {},
   "outputs": [],
   "source": [
    "import pandas as pd\n",
    "import pathlib\n",
    "import os\n",
    "import arcpy\n",
    "from utils import *\n",
    "import numpy as np\n",
    "pd.options.mode.copy_on_write = True\n",
    "pd.options.mode.chained_assignment = None\n",
    "pd.options.display.max_columns = 999\n",
    "pd.options.display.max_rows = 999"
   ]
  },
  {
   "cell_type": "code",
   "execution_count": null,
   "metadata": {},
   "outputs": [],
   "source": [
    "# current working directory\n",
    "local_path = pathlib.Path().absolute()\n",
    "# set data path as a subfolder of the current working directory TravelDemandModel\\2022\\data\\\n",
    "data_dir = local_path.parents[0] / '2022/data'\n",
    "# set workspace\n",
    "arcpy.env.workspace = os.path.join(local_path, 'Workspace.gdb')\n",
    "# overwrite true\n",
    "arcpy.env.overwriteOutput = True\n",
    "# Set spatial reference to NAD 1983 UTM Zone 10N\n",
    "sr = arcpy.SpatialReference(26910)\n",
    "# Set the extent environment using a feature class\n",
    "arcpy.env.extent = \"OccupancyRate_Zones_TAU\""
   ]
  },
  {
   "cell_type": "code",
   "execution_count": null,
   "metadata": {},
   "outputs": [],
   "source": [
    "# globals\n",
    "final_schema = ['APN', 'Residential_Units', 'TouristAccommodation_Units', 'CommercialFloorArea_SqFt',\n",
    "                'TAU_Type', 'VHR', 'Lodging_Occupancy_Rate', 'PrimaryResidence_Rate', 'SecondaryResidence_Rate',\n",
    "                'HighIncome_Rate',\t'MediumIncome_Rate', 'LowIncome_Rate', 'PersonsPerUnit', 'ScalingFactor',\n",
    "                'BlockGroupID', 'TAZ', 'Jurisdiction',\t'County', 'Zoning_ID']"
   ]
  },
  {
   "cell_type": "markdown",
   "metadata": {},
   "source": [
    "> Get Data"
   ]
  },
  {
   "cell_type": "code",
   "execution_count": null,
   "metadata": {},
   "outputs": [],
   "source": [
    "# Get TAZ data\n",
    "taz_url = 'https://maps.trpa.org/server/rest/services/Transportation_Planning/MapServer/6'\n",
    "sdf_taz = get_fs_data_spatial(taz_url)\n",
    "#set spatial reference\n",
    "sdf_taz.spatial.sr = sr\n",
    "\n",
    "# Get Unit Data\n",
    "units_url = 'https://maps.trpa.org/server/rest/services/Existing_Development/MapServer/2'\n",
    "sdf_units = get_fs_data_spatial_query(units_url, \"Year = 2022\")\n",
    "sdf_units.spatial.sr = sr\n",
    "\n",
    "# Get Block Group Data\n",
    "block_groups_url = 'https://maps.trpa.org/server/rest/services/Demographics/MapServer/27'\n",
    "sdf_block_groups = get_fs_data_spatial(block_groups_url)\n",
    "sdf_block_groups = sdf_block_groups.loc[(sdf_block_groups['YEAR'] == 2020) & (sdf_block_groups['GEOGRAPHY'] == 'Block Group')]\n",
    "sdf_block_groups.spatial.sr = sr\n",
    "\n",
    "# Get VHR Data\n",
    "vhr_url = 'https://maps.trpa.org/server/rest/services/VHR/MapServer/0'\n",
    "sdf_vhr = get_fs_data_spatial(vhr_url)\n",
    "sdf_vhr.spatial.sr = sr\n",
    "# filter vhr layer to active status\n",
    "sdf_vhr = sdf_vhr.loc[sdf_vhr['Status'] == 'Active']\n",
    "\n",
    "census_url = 'https://maps.trpa.org/server/rest/services/Demographics/MapServer/28'\n",
    "df_census = get_fs_data(census_url)\n",
    "df_census_2022 = df_census.loc[(df_census['year_sample'] == 2022) & (df_census['sample_level'] == 'block group')]\n",
    "\n",
    "# Get the data - should be 18 campgrounds\n",
    "campground_url = 'https://maps.trpa.org/server/rest/services/Recreation/MapServer/1'\n",
    "sdf_campground =  get_fs_data_spatial_query(campground_url, \"RECREATION_TYPE='Campground'\")\n",
    "\n",
    "# campground occupancy rate data\n",
    "dfCamp = pd.read_csv(os.path.join(data_dir,'Campground_Visitation.csv'))\n",
    "dfCamp_2022 = dfCamp.loc[dfCamp['Year'] == 2022]\n",
    "\n",
    "# occupancy feature class as a spatial dataframe\n",
    "sdfOcc = pd.DataFrame.spatial.from_featureclass(\"Tahoe_OccupancyRate_Zones\")\n",
    "sdfOcc.spatial.sr = sr\n",
    "\n",
    "# get table from geodatabase\n",
    "# occupancy_rate = pd.DataFrame.spatial.from_table(\"OccupancyRates\")\n",
    "occupancy_rate = pd.read_csv(os.path.join(data_dir, 'Occupancy_Rate_Export.csv'))\n",
    "\n",
    "# Get School Enrollment data\n",
    "school_url_table     = 'https://maps.trpa.org/server/rest/services/Demographics/MapServer/32'\n",
    "df_school_enrollment = get_fs_data(school_url_table)\n",
    "\n",
    "# Get School Enrollment data - spatial\n",
    "school_url_spatial = 'https://maps.trpa.org/server/rest/services/Datadownloader_PlanningandJurisdictions/MapServer/14'\n",
    "sdf_school         =  get_fs_data_spatial(school_url_spatial)\n",
    "sdf_school.spatial.sr = sr"
   ]
  },
  {
   "cell_type": "markdown",
   "metadata": {},
   "source": [
    "> general spatial joins"
   ]
  },
  {
   "cell_type": "code",
   "execution_count": null,
   "metadata": {},
   "outputs": [],
   "source": [
    "# spatial join sdf units to sdf taz and sdf block groups \n",
    "sdf_units_taz = sdf_units.spatial.join(sdf_taz, how='left')\n",
    "sdf_units_block_groups = sdf_units.spatial.join(sdf_block_groups, how='left')\n",
    "\n",
    "# match APN in join df and set to the value in join df\n",
    "sdf_units.loc[sdf_units['APN'].isin(sdf_units_taz['APN']), 'TAZ'] = sdf_units_taz['TAZ_right']\n",
    "# Use GEOID or TRPAID?\n",
    "sdf_units.loc[sdf_units['APN'].isin(sdf_units_block_groups['APN']), 'BLOCKGROUP'] = sdf_units_block_groups['TRPAID']\n"
   ]
  },
  {
   "cell_type": "code",
   "execution_count": null,
   "metadata": {},
   "outputs": [],
   "source": [
    "# export to feature class\n",
    "sdf_units.spatial.to_featureclass(location=os.path.join(arcpy.env.workspace, 'Units'), sanitize_columns=False)"
   ]
  },
  {
   "cell_type": "markdown",
   "metadata": {},
   "source": [
    "## Occupancy Rates"
   ]
  },
  {
   "cell_type": "code",
   "execution_count": null,
   "metadata": {},
   "outputs": [],
   "source": [
    "# df\n",
    "df = occupancy_rate\n",
    "df.info()"
   ]
  },
  {
   "cell_type": "markdown",
   "metadata": {},
   "source": [
    "> Calculate Weighted Occupance Rate"
   ]
  },
  {
   "cell_type": "code",
   "execution_count": null,
   "metadata": {},
   "outputs": [],
   "source": [
    "# df\n",
    "df = occupancy_rate\n",
    "\n",
    "# filter to columns \n",
    "columns = ['Zone_ID', 'Period', 'RoomType', 'Report_OccRate','TRPA_OccRate']\n",
    "\n",
    "# dictinary to convert the time frames to make things cleaner\n",
    "timeframe_dict = {\n",
    "    '2022-06-01': 'June',\n",
    "    '2022-08-01': 'August',\n",
    "    '2022-09-01': 'September',\n",
    "    'Q1 22-23'  : 'April-June',\n",
    "    'Q4 21-22'  : 'July-September',\n",
    "    'Q2 2022'   : 'April-June',\n",
    "    'Q3 2022'   : 'July-September'\n",
    "}\n",
    "\n",
    "# Define the weights for each month based on the number of days they contribute\n",
    "weights = {\n",
    "    'June'          : 8/20,\n",
    "    'August'        : 3/20,\n",
    "    'September'     : 9/20,\n",
    "    'April-June'    : 8/20,\n",
    "    'July-September': 12/20\n",
    "}\n",
    "\n",
    "# Period field based on Timeframe and timeframe_dict\n",
    "df['Period'] = df['Timeframe'].map(timeframe_dict)\n",
    "\n",
    "# calculate the weighted occupancy rates\n",
    "for key,value in weights.items():\n",
    "    # Apply weights to the occupancy rates\n",
    "    df.loc[df['Period'] == key, 'TRPA_OccRate'] = df['Report_OccRate'] * value\n",
    "\n",
    "# list of timeframes\n",
    "monthly   = ['June', 'August', 'September'] \n",
    "quarterly = ['April-June', 'July-September']\n",
    "\n",
    "# filter by timeframe\n",
    "df_monthly   = df.loc[df['Period'].isin(monthly)]\n",
    "df_quarterly = df.loc[df['Period'].isin(quarterly)]\n",
    "\n",
    "# group by for montthly and quarterly and mean for Report_OccRate and sum for TRPA_OccRate\n",
    "dfMonthly   = df_monthly.groupby(['Zone_ID', 'RoomType']).agg({'Report_RoomsAvailable':'sum','Report_RoomsRented':'sum','Report_OccRate': 'mean', 'TRPA_OccRate': 'sum'}).reset_index()\n",
    "dfQuarterly = df_quarterly.groupby(['Zone_ID', 'RoomType']).agg({'Report_RoomsAvailable':'sum','Report_RoomsRented':'sum','Report_OccRate': 'mean', 'TRPA_OccRate': 'sum'}).reset_index()\n",
    "\n",
    "# concat the two dataframes\n",
    "dfOut = pd.concat([dfMonthly, dfQuarterly])"
   ]
  },
  {
   "cell_type": "code",
   "execution_count": null,
   "metadata": {},
   "outputs": [],
   "source": [
    "dfOut"
   ]
  },
  {
   "cell_type": "markdown",
   "metadata": {},
   "source": [
    "> Filter Occupancy Rate table to Timeframe and Room Type, Merge with Occupancy Zone Feature Class, and Export to Feature Class"
   ]
  },
  {
   "cell_type": "code",
   "execution_count": 150,
   "metadata": {},
   "outputs": [
    {
     "data": {
      "text/plain": [
       "'c:\\\\Users\\\\mbindl\\\\Documents\\\\GitHub\\\\Transportation\\\\TravelDemandModel\\\\data_engineering\\\\Workspace.gdb\\\\OccupancyRate_Zones_VHR'"
      ]
     },
     "execution_count": 150,
     "metadata": {},
     "output_type": "execute_result"
    }
   ],
   "source": [
    "dfOccTAU = dfOut.loc[dfOut['RoomType'] == 'TAU']\n",
    "dfOccVHR = dfOut.loc[dfOut['RoomType'] == 'VHR']\n",
    "\n",
    "# merge occupancy rate data to occupancy zones\n",
    "sdf = pd.merge(sdfOcc, dfOccTAU, left_on='OccupancyRate_ZoneID', right_on='Zone_ID', how='left')\n",
    "# export sdf to feature class\n",
    "sdf.spatial.to_featureclass(location=os.path.join('Workspace.gdb', 'OccupancyRate_Zones_TAU'), overwrite=True)\n",
    "\n",
    "# merge occupancy rate data to occupancy zones\n",
    "sdf = pd.merge(sdfOcc, dfOccVHR, left_on='OccupancyRate_ZoneID', right_on='Zone_ID', how='left')\n",
    "# export sdf to feature class\n",
    "sdf.spatial.to_featureclass(location=os.path.join('Workspace.gdb', 'OccupancyRate_Zones_VHR'), overwrite=True)"
   ]
  },
  {
   "cell_type": "code",
   "execution_count": null,
   "metadata": {},
   "outputs": [],
   "source": [
    "# Placer.ai data will be in the form of a csv file by jurisdiction and model days?\n",
    "# visitors per day over entire period of record\n",
    "# visitors per day on model days\n",
    "\n",
    "# scaling factor\n"
   ]
  },
  {
   "cell_type": "markdown",
   "metadata": {},
   "source": [
    "> Classify parcel TAU Type and VHR"
   ]
  },
  {
   "cell_type": "code",
   "execution_count": null,
   "metadata": {},
   "outputs": [],
   "source": [
    "# columns to keep\n",
    "columns_to_keep = ['APN', 'Residential_Units', 'TouristAccommodation_Units',\n",
    "                    'CommercialFloorArea_SqFt', 'YEAR',\n",
    "                    'JURISDICTION', 'COUNTY', 'OWNERSHIP_TYPE',\n",
    "                    'EXISTING_LANDUSE', 'TAZ', 'BLOCKGROUP','TAU_Type','VHR',\n",
    "                    'WITHIN_TRPA_BNDY', 'PARCEL_ACRES', 'PARCEL_SQFT', 'SHAPE']\n",
    "\n",
    "# List of Parcels APN with TAU Types\n",
    "tau_lookup = pd.read_csv('Lookup_Lists/lookup_tau_type.csv')\n",
    "\n",
    "# merge parcel 2022 with parcel VHR\n",
    "df = sdf_units.merge(sdf_vhr, on='APN', how='left', indicator=True)\n",
    "\n",
    "# calculate VHR = Yes if VHR is in the parcel\n",
    "df['VHR'] = 'No'\n",
    "df.loc[df['_merge'] == 'both', 'VHR'] = 'Yes'\n",
    "\n",
    "# filter parcels so only APNs in the lookup are included\n",
    "dfTAU = df[df['APN'].isin(tau_lookup['APN'])]\n",
    "# get TAU_Type from lookup\n",
    "dfTAU['TAU_Type'] = dfTAU['APN'].map(tau_lookup.set_index('APN')['TAU_Type'])\n",
    "\n",
    "# setup TAU_Type\n",
    "df['TAU_Type'] = 'N/A'\n",
    "# any row with ToursitAccommodation_Units > 0 and TAU_Type is null, set TAU_Type to 'HotelMotel'\n",
    "df.loc[(df['TouristAccommodation_Units'] > 0) & (df['TAU_Type']=='N/A'), 'TAU_Type'] = 'HotelMotel'\n",
    "# for the rows in df that match rows by APN in dfTAU set TAU_Type to the value in dfTAU\n",
    "df.loc[df['APN'].isin(dfTAU['APN']), 'TAU_Type'] = dfTAU['TAU_Type']\n",
    "\n",
    "# remove _x from column names\n",
    "df.columns = df.columns.str.replace('_x', '')\n",
    "# columns to keep\n",
    "df = df[columns_to_keep]\n",
    "\n",
    "df.TAU_Type.value_counts()"
   ]
  },
  {
   "cell_type": "markdown",
   "metadata": {},
   "source": [
    "> Join TAU and VHR parcels to respective occupancy rate zones"
   ]
  },
  {
   "cell_type": "code",
   "execution_count": null,
   "metadata": {},
   "outputs": [],
   "source": [
    "# filter rows where VHR = Yes\n",
    "sdf_units_2022_vhr = df.loc[df['VHR'] == 'Yes']\n",
    "# filter rows where TUA > 0\n",
    "sdf_units_2022_tau = df.loc[df['TouristAccommodation_Units'] > 0]\n",
    "\n",
    "# spatial join VHR to occupancy rate zones with VHR values\n",
    "spjoin_vhr = arcpy.analysis.SpatialJoin(sdf_units_2022_vhr, \"OccupancyRate_Zones_VHR\", \"OccupancyRate_Zones_VHR_Parcels\", \n",
    "                                        \"JOIN_ONE_TO_ONE\", \"KEEP_ALL\", None, \"INTERSECT\", None, None)\n",
    "\n",
    "# spatial join VHR to occupancy rate zones with VHR values\n",
    "spjoin_tau = arcpy.analysis.SpatialJoin(sdf_units_2022_tau, \"OccupancyRate_Zones_TAU\", \"OccupancyRate_Zones_TAU_Parcels\", \n",
    "                                        \"JOIN_ONE_TO_ONE\", \"KEEP_ALL\", None, \"INTERSECT\", None, None)\n",
    "\n",
    "# feature to point in memmory\n",
    "vhr_points = arcpy.management.FeatureToPoint(\"OccupancyRate_Zones_VHR_Parcels\", \"in_memory/vhr_points\", \"INSIDE\")\n",
    "tau_points = arcpy.management.FeatureToPoint(\"OccupancyRate_Zones_TAU_Parcels\", \"in_memory/tau_points\", \"INSIDE\")"
   ]
  },
  {
   "cell_type": "markdown",
   "metadata": {},
   "source": [
    "> Generate Spatial Interpolated Occupancy Rate Surfaces"
   ]
  },
  {
   "cell_type": "code",
   "execution_count": null,
   "metadata": {},
   "outputs": [],
   "source": [
    "# Set the extent environment using a feature class\n",
    "arcpy.env.extent = \"OccupancyRate_Zones_TAU\"\n",
    "\n",
    "# make feature layer from in memory points\n",
    "arcpy.management.MakeFeatureLayer(\"in_memory/vhr_points\", \"vhr_points_lyr\")\n",
    "arcpy.management.MakeFeatureLayer(\"in_memory/tau_points\", \"tau_points_lyr\")\n",
    "# filter out rows where occupancy rate is null or 0\n",
    "arcpy.management.SelectLayerByAttribute(\"vhr_points_lyr\", \"NEW_SELECTION\", \"report_occ_rate IS NOT NULL OR report_occ_rate > 0\")\n",
    "arcpy.management.SelectLayerByAttribute(\"tau_points_lyr\", \"NEW_SELECTION\", \"report_occ_rate IS NOT NULL OR report_occ_rate > 0\")\n",
    "\n",
    "# set the output cell size\n",
    "cell_size = 30\n",
    "# set the power parameter\n",
    "power = 2\n",
    "# set the search radius\n",
    "search_radius = 10000\n",
    "\n",
    "# set the output raster\n",
    "out_raster = 'tau_occupancy_rate'\n",
    "# run the IDW for TAUs\n",
    "arcpy.sa.Idw(\"tau_points_lyr\", \n",
    "             z_field='report_occ_rate', \n",
    "             cell_size=cell_size, \n",
    "             power=power, \n",
    "             search_radius=search_radius).save(out_raster)\n",
    "\n",
    "# set the output raster\n",
    "out_raster = 'vhr_occupancy_rate'\n",
    "# run the IDW for VHRs\n",
    "arcpy.sa.Idw(\"vhr_points_lyr\", \n",
    "             z_field='report_occ_rate', \n",
    "             cell_size=cell_size, \n",
    "             power=power, \n",
    "             search_radius=search_radius).save(out_raster)"
   ]
  },
  {
   "cell_type": "code",
   "execution_count": null,
   "metadata": {},
   "outputs": [],
   "source": [
    "arcpy.sa.Sample(\n",
    "    in_rasters=\"tau_occupancy_rate\",\n",
    "    in_location_data=\"OccupancyRate_Zones_TAU_Parcels\",\n",
    "    out_table=\"tau_interpolated_occupancy_rate\",\n",
    "    resampling_type=\"BILINEAR\",\n",
    "    unique_id_field=\"OBJECTID\",\n",
    "    process_as_multidimensional=\"CURRENT_SLICE\",\n",
    "    acquisition_definition=None,\n",
    "    statistics_type=\"MEAN\",\n",
    "    percentile_value=None,\n",
    "    buffer_distance=None,\n",
    "    layout=\"ROW_WISE\",\n",
    "    generate_feature_class=\"FEATURE_CLASS\"\n",
    ")\n",
    "\n",
    "arcpy.sa.Sample(\n",
    "    in_rasters=\"vhr_occupancy_rate\",\n",
    "    in_location_data=\"OccupancyRate_Zones_VHR_Parcels\",\n",
    "    out_table=\"vhr_interpolated_occupancy_rate\",\n",
    "    resampling_type=\"BILINEAR\",\n",
    "    unique_id_field=\"OBJECTID\",\n",
    "    process_as_multidimensional=\"CURRENT_SLICE\",\n",
    "    acquisition_definition=None,\n",
    "    statistics_type=\"MEAN\",\n",
    "    percentile_value=None,\n",
    "    buffer_distance=None,\n",
    "    layout=\"ROW_WISE\",\n",
    "    generate_feature_class=\"FEATURE_CLASS\"\n",
    ")\n",
    "\n",
    "# spatial join null parcels with raster interpolated values\n",
    "vhr_null = arcpy.management.MakeFeatureLayer(\"OccupancyRate_Zones_VHR_Parcels\", \"vhr_null_lyr\")\n",
    "tau_null = arcpy.management.MakeFeatureLayer(\"OccupancyRate_Zones_TAU_Parcels\", \"tau_null_lyr\")\n",
    "arcpy.management.SelectLayerByAttribute(\"vhr_points_lyr\", \"NEW_SELECTION\", \"report_occ_rate IS NULL OR report_occ_rate = 0\")\n",
    "arcpy.management.SelectLayerByAttribute(\"tau_points_lyr\", \"NEW_SELECTION\", \"report_occ_rate IS NULL OR report_occ_rate = 0\")\n",
    "\n",
    "# spatial join\n",
    "arcpy.analysis.SpatialJoin(\"vhr_null_lyr\", \"vhr_interpolated_occupancy_rate\", \"OccupancyRate_Zones_VHR_Parcels_Null\", \n",
    "                           \"JOIN_ONE_TO_ONE\", \"KEEP_ALL\", None, \"INTERSECT\", None, None)\n",
    "arcpy.analysis.SpatialJoin(\"tau_null_lyr\", \"tau_interpolated_occupancy_rate\", \"OccupancyRate_Zones_TAU_Parcels_Null\",\n",
    "                            \"JOIN_ONE_TO_ONE\", \"KEEP_ALL\", None, \"INTERSECT\", None, None)\n",
    "\n",
    "# get spatial enabled dataframes\n",
    "sdf_vhr_null = pd.DataFrame.spatial.from_featureclass(\"OccupancyRate_Zones_VHR_Parcels_Null\")\n",
    "sdf_tau_null = pd.DataFrame.spatial.from_featureclass(\"OccupancyRate_Zones_TAU_Parcels_Null\")\n",
    "\n",
    "# merge null values with original data\n",
    "sdf_vhr_null = pd.merge(sdf_vhr_null, sdf_units_2022_vhr, on='APN', how='left')\n",
    "sdf_tau_null = pd.merge(sdf_tau_null, sdf_units_2022_tau, on='APN', how='left')\n",
    "\n",
    "# set occupancy rate to the interpolated value\n",
    "sdf_vhr_null['Lodging_Occupancy_Rate'] = sdf_vhr_null['MEAN']\n",
    "sdf_tau_null['Lodging_Occupancy_Rate'] = sdf_tau_null['MEAN']"
   ]
  },
  {
   "cell_type": "code",
   "execution_count": null,
   "metadata": {},
   "outputs": [],
   "source": [
    "# get rows of missing values for report_occ_rate\n",
    "dfTau = pd.DataFrame.spatial.from_featureclass(\"tau_interpolated_occupancy_rate\")\n",
    "dfTau.spatial.sr = sr\n",
    "dfTau = dfTau.loc[dfTau['report_occ_rate'].isnull()]\n",
    "# get rows of missing values for report_occ_rate\n",
    "dfVhr = pd.DataFrame.spatial.from_featureclass(\"vhr_interpolated_occupancy_rate\")\n",
    "dfVhr.spatial.sr = sr\n",
    "dfVhr = dfVhr.loc[dfVhr['report_occ_rate'].isnull()]\n",
    "\n",
    "# spatial join\n",
    "spjoin_tau = arcpy.analysis.SpatialJoin(sdf_units, \"tau_interpolated_occupancy_rate\", \"OccupancyRate_Zones_TAU_Parcels\", \n",
    "                                        \"JOIN_ONE_TO_ONE\", \"KEEP_ALL\", None, \"INTERSECT\", None, None)\n",
    "spjoin_vhr = arcpy.analysis.SpatialJoin(sdf_units, \"vhr_interpolated_occupancy_rate\", \"OccupancyRate_Zones_VHR_Parcels\",\n",
    "                                        \"JOIN_ONE_TO_ONE\", \"KEEP_ALL\", None, \"INTERSECT\", None, None)\n",
    "\n",
    "# move values\n",
    "sdf_units.loc[sdf_units['APN'].isin(spjoin_tau['APN']), 'Lodging_Occupancy_Rate'] = spjoin_tau['report_occ_rate']\n",
    "sdf_units.loc[sdf_units['APN'].isin(spjoin_vhr['APN']), 'Lodging_Occupancy_Rate'] = spjoin_vhr['report_occ_rate']\n"
   ]
  },
  {
   "cell_type": "markdown",
   "metadata": {},
   "source": [
    "> Fill in parcel level missing occupancy rates with interpolated values"
   ]
  },
  {
   "cell_type": "code",
   "execution_count": null,
   "metadata": {},
   "outputs": [],
   "source": [
    "# spatial join occupancy rate polygons to parcels with missing values\n",
    "# get parcels with missing values\n",
    "sdf_units_2022_vhr_missing = sdf_units_2022_vhr.loc[sdf_units_2022_vhr['OccupancyRate_ZoneID'].isnull()]\n",
    "sdf_units_2022_tau_missing = sdf_units_2022_tau.loc[sdf_units_2022_tau['OccupancyRate_ZoneID'].isnull()]\n",
    "\n",
    "# spatial join VHR to occupancy rate interpolation polygons\n",
    "spjoin_vhr_missing = arcpy.analysis.SpatialJoin(sdf_units_2022_vhr_missing, \"vhr_occupancy_rate_poly\", \"OccupancyRate_Zones_VHR_Parcels_Missing\", \n",
    "                                        \"JOIN_ONE_TO_ONE\", \"KEEP_ALL\", None, \"INTERSECT\", None, None)\n",
    "# spatial join TAU to occupancy rate interpolation polygons\n",
    "spjoin_tau_missing = arcpy.analysis.SpatialJoin(sdf_units_2022_tau_missing, \"tau_occupancy_rate_poly\", \"OccupancyRate_Zones_TAU_Parcels_Missing\", \n",
    "                                        \"JOIN_ONE_TO_ONE\", \"KEEP_ALL\", None, \"INTERSECT\", None, None)\n",
    "\n",
    "# merge to original data\n",
    "sdf_units_2022_vhr = pd.concat([spjoin_vhr, spjoin_vhr_missing])\n",
    "sdf_units_2022_tau = pd.concat([spjoin_tau, spjoin_tau_missing])\n",
    "\n",
    "# fill in missing report_occ_rate values\n",
    "sdf_units_2022_vhr['report_occ_rate_x'] = sdf_units_2022_vhr['report_occ_rate_y']\n",
    "sdf_units_2022_tau['report_occ_rate_x'] = sdf_units_2022_tau['report_occ_rate_y']"
   ]
  },
  {
   "cell_type": "code",
   "execution_count": null,
   "metadata": {},
   "outputs": [],
   "source": [
    "columns_to_keep = ['APN', 'Residential_Units', 'TouristAccommodation_Units',\n",
    "                    'CommercialFloorArea_SqFt', 'YEAR',\n",
    "                    'JURISDICTION', 'COUNTY', 'OWNERSHIP_TYPE',\n",
    "                    'EXISTING_LANDUSE', 'TAZ', 'TAU_Type','VHR',\n",
    "                    'WITHIN_TRPA_BNDY', 'PARCEL_ACRES', 'PARCEL_SQFT', 'SHAPE',\n",
    "                    'report_occ_rate_x']\n",
    "\n",
    "# remove _x from column names\n",
    "sdf_units_2022_vhr.columns = sdf_units_2022_vhr.columns.str.replace('_x', '')"
   ]
  },
  {
   "cell_type": "code",
   "execution_count": null,
   "metadata": {},
   "outputs": [],
   "source": [
    "# get the occupancy rate featuer class as spatial dataframe\n",
    "sdf_occ_rate_tau = pd.DataFrame.spatial.from_featureclass(\"OccupancyRate_Zones_TAU_Parcels\")\n",
    "# get the occupancy rate featuer class as spatial dataframe\n",
    "sdf_occ_rate_vhr = pd.DataFrame.spatial.from_featureclass(\"OccupancyRate_Zones_VHR_Parcels\")"
   ]
  },
  {
   "cell_type": "code",
   "execution_count": null,
   "metadata": {},
   "outputs": [],
   "source": [
    "# filter sdf_units_2022 to rows where TAU is null or 0\n",
    "sdf_units_2022_no_tau = sdf_occ_rate_tau.loc[(sdf_occ_rate_tau['report_occ_rate'] == 0)|(sdf_occ_rate_tau['report_occ_rate'].isnull())]\n",
    "\n",
    "# filter sdf_units_2022 to rows where VHR is null or 0\n",
    "sdf_units_2022_no_vhr = sdf_occ_rate_vhr.loc[(sdf_occ_rate_vhr['VHR'] == 'Yes')&(sdf_occ_rate_vhr['report_occ_rate'] == 0)|(sdf_occ_rate_vhr['report_occ_rate'].isnull())]"
   ]
  },
  {
   "cell_type": "code",
   "execution_count": null,
   "metadata": {},
   "outputs": [],
   "source": [
    "# spatial join to occupancy rate raster\n",
    "sdf_units_2022_no_tau = pd.DataFrame.spatial.from_featureclass(\"OccupancyRate_Zones_TAU_Parcels\")\n",
    "sdf_units_2022_no_vhr = pd.DataFrame.spatial.from_featureclass(\"OccupancyRate_Zones_VHR_Parcels\")\n",
    "\n",
    "# merge occupancy rate data to occupancy zones\n"
   ]
  },
  {
   "cell_type": "markdown",
   "metadata": {},
   "source": [
    "> Campground Occupancy"
   ]
  },
  {
   "cell_type": "code",
   "execution_count": null,
   "metadata": {},
   "outputs": [],
   "source": [
    "# merge campground data with occupancy rate data on campground name\n",
    "sdf_campground = sdf_campground.merge(dfCamp_2022, left_on='RECREATION_NAME', right_on='Campground', \n",
    "                                      how='left', indicator=True)\n",
    "\n",
    "# keep only columns of interest\n",
    "sdf_campground = sdf_campground[['RECREATION_NAME', 'Occupancy_Rate','SHAPE']]\n",
    "\n",
    "# filter sdf_campground to only campgrounds with occupancy rate data\n",
    "sdf_campground = sdf_campground[sdf_campground['Occupancy_Rate'].notnull()]\n",
    "\n",
    "# IDW to get the occupancy rate for each campground\n",
    "# set the output cell size\n",
    "cell_size = 500\n",
    "# set the power parameter\n",
    "power = 2\n",
    "# set the search radius\n",
    "search_radius = 5000\n",
    "# set the output raster\n",
    "out_raster = 'campground_occupancy_rate'\n",
    "# run the IDW\n",
    "arcpy.sa.Idw(in_features=sdf_campground, \n",
    "             z_field='Occupancy_Rate', \n",
    "             cell_size=cell_size, \n",
    "             power=power, \n",
    "             search_radius=search_radius).save(out_raster)\n",
    "\n",
    "# spatial join to campground points with NaN occupancy rate\n",
    "sdf_campground_nan = sdf_campground[sdf_campground['Occupancy_Rate'].isnull()]\n",
    "# spatial join to campground points with NaN occupancy rate\n"
   ]
  },
  {
   "cell_type": "code",
   "execution_count": null,
   "metadata": {},
   "outputs": [],
   "source": [
    "# merge campground data with occupancy rate data on campground name\n",
    "sdf_campground = sdf_campground.merge(dfCamp_2022, left_on='RECREATION_NAME', right_on='Campground', \n",
    "                                      how='left', indicator=True)\n",
    "\n",
    "# spatial join TAZ data to campground data\n",
    "arcpy.SpatialJoin_analysis(sdf_campground, sdf_taz, 'taz_campground', \n",
    "                           'JOIN_ONE_TO_ONE', 'KEEP_ALL', \n",
    "                           match_option='HAVE_THEIR_CENTER_IN')\n",
    "\n",
    "# read in output of spatial join as sdf\n",
    "sdf_campground_taz = pd.DataFrame.spatial.from_featureclass('taz_campground')\n",
    "\n",
    "# get sites sold by multiplying the number of sites by the occupancy rate\n",
    "sdf_campground_taz['SitesSold'] = sdf_campground_taz['Total_Sites'] * sdf_campground_taz['Occupancy_Rate']\n",
    "\n",
    "# group by TAZ and sum of sites sold within TAZ\n",
    "sdf_campground_taz_grouped = sdf_campground_taz.groupby('TAZ').agg(\n",
    "                                                {'SitesSold': 'sum'}).reset_index()\n"
   ]
  },
  {
   "cell_type": "markdown",
   "metadata": {},
   "source": [
    "## Overnight Visitation"
   ]
  },
  {
   "cell_type": "code",
   "execution_count": null,
   "metadata": {},
   "outputs": [],
   "source": [
    "# TAUs 6190 were rented on model day....2,200 VHRs were rented on model day\n",
    "\n",
    "# get the number of occupied units by multiplying the number of units by the occupancy rate\n",
    "\n",
    "# multiply the number of TAUs by the occupancy rate then add up by zone? or by TAZ?\n",
    "\n",
    "# "
   ]
  },
  {
   "cell_type": "code",
   "execution_count": null,
   "metadata": {},
   "outputs": [],
   "source": []
  },
  {
   "cell_type": "markdown",
   "metadata": {},
   "source": [
    "## School Enrollment"
   ]
  },
  {
   "cell_type": "code",
   "execution_count": null,
   "metadata": {},
   "outputs": [],
   "source": [
    "# set Type to Null\n",
    "sdf_school['TYPE'] = None\n",
    "# set SchoolType to 'elementary' if it contains 'elementary' or 'magnet' or 'academy'\n",
    "sdf_school.loc[sdf_school['NAME'].str.contains('elementary', case=False), 'TYPE'] = 'Elementary School'\n",
    "# set SchoolType to 'middle' if it contains 'middle'\n",
    "sdf_school.loc[sdf_school['NAME'].str.contains('middle', case=False), 'TYPE'] = 'Middle School'\n",
    "# set SchoolType to 'high' if it contains 'high'\n",
    "sdf_school.loc[sdf_school['NAME'].str.contains('high', case=False), 'TYPE'] = 'High School'\n",
    "# set SchoolType to 'college' if it contains 'college'\n",
    "sdf_school.loc[sdf_school['NAME'].str.contains('college', case=False), 'TYPE'] = 'College'\n",
    "# set SchoolType to 'other' if it it does not contain any of the above\n",
    "sdf_school.loc[sdf_school['TYPE'].isnull(), 'TYPE'] = 'Elementary School'"
   ]
  },
  {
   "cell_type": "code",
   "execution_count": null,
   "metadata": {},
   "outputs": [],
   "source": [
    "# spatial join TAZs to School points\n",
    "sdf_school_taz = sdf_school.spatial.join(sdf_taz, how='inner')\n",
    "# group by TYPE and sum of Enrollment within TAZ \n",
    "sdf_school_taz_grouped = sdf_school_taz.groupby(['TYPE', 'TAZ']).agg(\n",
    "                                                {'ENROLLMENT': 'sum'}).reset_index()\n",
    "# unstack by TYPE as columns and TAZ as a column\n",
    "sdf_school_taz_grouped_pivot = sdf_school_taz_grouped.pivot(index='TAZ', \n",
    "                                                            columns='TYPE', \n",
    "                                                            values='ENROLLMENT').reset_index()\n",
    "# merge to sdf_taz to get all tazs\n",
    "sdf_taz_school = pd.merge(sdf_taz, sdf_school_taz_grouped_pivot, how='left', on='TAZ')\n",
    "\n",
    "# drop SHAPE column\n",
    "sdf_taz_school = sdf_taz_school.drop(columns='SHAPE')\n",
    "# fill NA with 0 for all rows\n",
    "sdf_taz_school = sdf_taz_school.fillna(0)\n",
    "# cast all fields to int\n",
    "sdf_taz_school = sdf_taz_school.astype(int)\n",
    "# rename columns\n",
    "sdf_taz_school.rename(columns={'Elementary School':'elementary_school_enrollment',\n",
    "                               'Middle School':'middle_school_enrollment',\n",
    "                               'High School':'high_school_enrollment',\n",
    "                               'College':'college_enrollment'}, inplace=True)\n",
    "\n",
    "# export to csv\n",
    "sdf_taz_school.to_csv(os.path.join('SchoolEnrollment.csv'), index=False)"
   ]
  },
  {
   "cell_type": "markdown",
   "metadata": {},
   "source": [
    "## Socio Econ"
   ]
  },
  {
   "cell_type": "markdown",
   "metadata": {},
   "source": [
    "> "
   ]
  },
  {
   "cell_type": "code",
   "execution_count": null,
   "metadata": {},
   "outputs": [],
   "source": []
  },
  {
   "cell_type": "markdown",
   "metadata": {},
   "source": [
    "## Employment "
   ]
  },
  {
   "cell_type": "code",
   "execution_count": null,
   "metadata": {},
   "outputs": [],
   "source": []
  },
  {
   "cell_type": "markdown",
   "metadata": {},
   "source": [
    "## TAZ Summary"
   ]
  },
  {
   "cell_type": "markdown",
   "metadata": {},
   "source": [
    "> Scaling Factor Data Engineering\n",
    "\n",
    "> Needs\n",
    "\n",
    "* Place.ai data by Jurisdiction ?\n",
    "\n",
    "* Model day(s) weighting logic\n",
    "    * will we need July data? \n",
    "\n",
    "* for quarterly data by zone\n",
    "    * "
   ]
  },
  {
   "cell_type": "code",
   "execution_count": null,
   "metadata": {},
   "outputs": [],
   "source": []
  },
  {
   "cell_type": "markdown",
   "metadata": {},
   "source": [
    "> Aggregations"
   ]
  },
  {
   "cell_type": "code",
   "execution_count": null,
   "metadata": {},
   "outputs": [],
   "source": []
  },
  {
   "cell_type": "markdown",
   "metadata": {},
   "source": [
    "## Forecasts"
   ]
  },
  {
   "cell_type": "code",
   "execution_count": null,
   "metadata": {},
   "outputs": [],
   "source": []
  },
  {
   "cell_type": "code",
   "execution_count": null,
   "metadata": {},
   "outputs": [],
   "source": []
  }
 ],
 "metadata": {
  "kernelspec": {
   "display_name": "Python 3",
   "language": "python",
   "name": "python3"
  },
  "language_info": {
   "codemirror_mode": {
    "name": "ipython",
    "version": 3
   },
   "file_extension": ".py",
   "mimetype": "text/x-python",
   "name": "python",
   "nbconvert_exporter": "python",
   "pygments_lexer": "ipython3",
   "version": "3.11.8"
  }
 },
 "nbformat": 4,
 "nbformat_minor": 2
}
